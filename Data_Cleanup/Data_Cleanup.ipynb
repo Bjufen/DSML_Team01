{
 "cells": [
  {
   "cell_type": "code",
   "execution_count": 21,
   "metadata": {
    "collapsed": true,
    "ExecuteTime": {
     "start_time": "2023-05-18T15:58:53.134956Z",
     "end_time": "2023-05-18T15:58:53.203888Z"
    }
   },
   "outputs": [],
   "source": [
    "import pandas as pd\n",
    "weather_set_dirty = pd.read_csv('inCSV/Weather_LosAngeles.csv', sep=\",\")"
   ]
  },
  {
   "cell_type": "code",
   "execution_count": 19,
   "outputs": [],
   "source": [
    "weather_set_dirty['timestamp'] = pd.to_datetime(weather_set_dirty['timestamp'])\n",
    "mean_values_by_day = weather_set_dirty.groupby(weather_set_dirty[\"timestamp\"].dt.date).mean(numeric_only=True).round(1)"
   ],
   "metadata": {
    "collapsed": false,
    "ExecuteTime": {
     "start_time": "2023-05-18T14:43:33.256313Z",
     "end_time": "2023-05-18T14:43:33.323729Z"
    }
   }
  },
  {
   "cell_type": "code",
   "execution_count": 20,
   "outputs": [],
   "source": [
    "for col in mean_values_by_day.columns:\n",
    "    weather_set_dirty[col] = weather_set_dirty.apply(\n",
    "        lambda row: mean_values_by_day.loc[row['timestamp'].date(), col]\n",
    "        if pd.isnull(row[col]) else row[col],\n",
    "        axis=1\n",
    "    )"
   ],
   "metadata": {
    "collapsed": false,
    "ExecuteTime": {
     "start_time": "2023-05-18T14:43:33.335260Z",
     "end_time": "2023-05-18T14:43:48.987218Z"
    }
   }
  },
  {
   "cell_type": "code",
   "execution_count": 21,
   "outputs": [],
   "source": [
    "weather_set_dirty['cloud_cover_description'].fillna(method='ffill',inplace=True)\n",
    "#weather_set_dirty.to_csv('outCSV/Clean_Weather_Set.csv', index=False)"
   ],
   "metadata": {
    "collapsed": false,
    "ExecuteTime": {
     "start_time": "2023-05-18T14:43:48.987218Z",
     "end_time": "2023-05-18T14:43:49.018476Z"
    }
   }
  },
  {
   "cell_type": "code",
   "execution_count": 22,
   "outputs": [
    {
     "name": "stdout",
     "output_type": "stream",
     "text": [
      "<class 'pandas.core.frame.DataFrame'>\n",
      "RangeIndex: 77362 entries, 0 to 77361\n",
      "Data columns (total 9 columns):\n",
      " #   Column                   Non-Null Count  Dtype         \n",
      "---  ------                   --------------  -----         \n",
      " 0   city                     77362 non-null  object        \n",
      " 1   timestamp                77362 non-null  datetime64[ns]\n",
      " 2   temperature              77362 non-null  float64       \n",
      " 3   cloud_cover              77362 non-null  float64       \n",
      " 4   cloud_cover_description  77362 non-null  object        \n",
      " 5   pressure                 77362 non-null  float64       \n",
      " 6   windspeed                77362 non-null  float64       \n",
      " 7   precipitation            77362 non-null  float64       \n",
      " 8   felt_temperature         77362 non-null  float64       \n",
      "dtypes: datetime64[ns](1), float64(6), object(2)\n",
      "memory usage: 5.3+ MB\n"
     ]
    }
   ],
   "source": [
    "weather_set_dirty.info()"
   ],
   "metadata": {
    "collapsed": false,
    "ExecuteTime": {
     "start_time": "2023-05-18T14:43:49.018476Z",
     "end_time": "2023-05-18T14:43:49.081706Z"
    }
   }
  },
  {
   "cell_type": "code",
   "execution_count": 22,
   "outputs": [],
   "source": [
    "bike_set_dirty = pd.read_csv('inCSV/metro_2017_2022.csv', sep=',')"
   ],
   "metadata": {
    "collapsed": false,
    "ExecuteTime": {
     "start_time": "2023-05-18T15:58:58.293690Z",
     "end_time": "2023-05-18T15:59:00.255190Z"
    }
   }
  },
  {
   "cell_type": "code",
   "execution_count": 23,
   "outputs": [],
   "source": [
    "bike_set_dirty.sort_values('start_station_id')\n",
    "bike_set_dirty['start_station_lat'].fillna(method=\"ffill\", inplace=True)\n",
    "bike_set_dirty['start_station_lon'].fillna(method=\"ffill\", inplace=True)\n",
    "\n",
    "bike_set_dirty.sort_values('end_station_id')\n",
    "bike_set_dirty['end_station_lat'].fillna(method=\"ffill\", inplace=True)\n",
    "bike_set_dirty['end_station_lon'].fillna(method=\"ffill\", inplace=True)"
   ],
   "metadata": {
    "collapsed": false,
    "ExecuteTime": {
     "start_time": "2023-05-18T15:59:01.713571Z",
     "end_time": "2023-05-18T15:59:02.393606Z"
    }
   }
  },
  {
   "cell_type": "code",
   "execution_count": 24,
   "outputs": [],
   "source": [
    "bike_set_dirty_agg_start = bike_set_dirty.groupby('start_station_id')[['start_station_lat', 'start_station_lon']].agg(lambda x: x.mode().iloc[0])\n",
    "bike_set_dirty_agg_end = bike_set_dirty.groupby('end_station_id')[['end_station_lat', 'end_station_lon']].agg(lambda x: x.mode().iloc[0])"
   ],
   "metadata": {
    "collapsed": false,
    "ExecuteTime": {
     "start_time": "2023-05-18T15:59:05.239333Z",
     "end_time": "2023-05-18T15:59:05.631012Z"
    }
   }
  },
  {
   "cell_type": "code",
   "execution_count": 25,
   "outputs": [
    {
     "name": "stdout",
     "output_type": "stream",
     "text": [
      "<class 'pandas.core.frame.DataFrame'>\n",
      "Int64Index: 1552782 entries, 0 to 1552781\n",
      "Data columns (total 14 columns):\n",
      " #   Column                  Non-Null Count    Dtype  \n",
      "---  ------                  --------------    -----  \n",
      " 0   Unnamed: 0              1552782 non-null  int64  \n",
      " 1   start_time              1552782 non-null  object \n",
      " 2   end_time                1552782 non-null  object \n",
      " 3   start_station_id        1552782 non-null  int64  \n",
      " 4   start_station_lat       1552782 non-null  float64\n",
      " 5   start_station_lon       1552782 non-null  float64\n",
      " 6   end_station_id          1552782 non-null  int64  \n",
      " 7   end_station_lat         1552782 non-null  float64\n",
      " 8   end_station_lon         1552782 non-null  float64\n",
      " 9   bike_id                 1552782 non-null  object \n",
      " 10  start_station_lat_mode  1552782 non-null  float64\n",
      " 11  start_station_lon_mode  1552782 non-null  float64\n",
      " 12  end_station_lat_mode    1552782 non-null  float64\n",
      " 13  end_station_lon_mode    1552782 non-null  float64\n",
      "dtypes: float64(8), int64(3), object(3)\n",
      "memory usage: 177.7+ MB\n"
     ]
    }
   ],
   "source": [
    "bike_set_dirty_merge = bike_set_dirty.merge(bike_set_dirty_agg_start, on='start_station_id', suffixes=('','_mode'))\n",
    "bike_set_dirty_merged = bike_set_dirty_merge.merge(bike_set_dirty_agg_end, on='end_station_id', suffixes=('','_mode'))\n",
    "bike_set_dirty_merged.info()"
   ],
   "metadata": {
    "collapsed": false,
    "ExecuteTime": {
     "start_time": "2023-05-18T15:59:07.669058Z",
     "end_time": "2023-05-18T15:59:09.141478Z"
    }
   }
  },
  {
   "cell_type": "code",
   "execution_count": 26,
   "outputs": [],
   "source": [
    "for i, row in bike_set_dirty_merged.iterrows():\n",
    "    bike_set_dirty_merged.at[i, 'start_station_lat'] = bike_set_dirty_merged.loc[i, 'start_station_lat_mode']\n",
    "    bike_set_dirty_merged.at[i, 'start_station_lon'] = bike_set_dirty_merged.loc[i, 'start_station_lon_mode']\n",
    "    bike_set_dirty_merged.at[i, 'end_station_lat'] = bike_set_dirty_merged.loc[i, 'end_station_lat_mode']\n",
    "    bike_set_dirty_merged.at[i, 'end_station_lon'] = bike_set_dirty_merged.loc[i, 'end_station_lon_mode']"
   ],
   "metadata": {
    "collapsed": false,
    "ExecuteTime": {
     "start_time": "2023-05-18T15:59:15.097221Z",
     "end_time": "2023-05-18T16:02:52.416600Z"
    }
   }
  },
  {
   "cell_type": "code",
   "execution_count": 27,
   "outputs": [
    {
     "name": "stdout",
     "output_type": "stream",
     "text": [
      "<class 'pandas.core.frame.DataFrame'>\n",
      "Int64Index: 1552782 entries, 0 to 1552781\n",
      "Data columns (total 14 columns):\n",
      " #   Column                  Non-Null Count    Dtype  \n",
      "---  ------                  --------------    -----  \n",
      " 0   Unnamed: 0              1552782 non-null  int64  \n",
      " 1   start_time              1552782 non-null  object \n",
      " 2   end_time                1552782 non-null  object \n",
      " 3   start_station_id        1552782 non-null  int64  \n",
      " 4   start_station_lat       1552782 non-null  float64\n",
      " 5   start_station_lon       1552782 non-null  float64\n",
      " 6   end_station_id          1552782 non-null  int64  \n",
      " 7   end_station_lat         1552782 non-null  float64\n",
      " 8   end_station_lon         1552782 non-null  float64\n",
      " 9   bike_id                 1552782 non-null  object \n",
      " 10  start_station_lat_mode  1552782 non-null  float64\n",
      " 11  start_station_lon_mode  1552782 non-null  float64\n",
      " 12  end_station_lat_mode    1552782 non-null  float64\n",
      " 13  end_station_lon_mode    1552782 non-null  float64\n",
      "dtypes: float64(8), int64(3), object(3)\n",
      "memory usage: 210.0+ MB\n"
     ]
    }
   ],
   "source": [
    "bike_set_almost_clean = bike_set_dirty_merged\n",
    "bike_set_almost_clean.info()"
   ],
   "metadata": {
    "collapsed": false,
    "ExecuteTime": {
     "start_time": "2023-05-18T16:02:57.386021Z",
     "end_time": "2023-05-18T16:02:58.069996Z"
    }
   }
  },
  {
   "cell_type": "code",
   "execution_count": 28,
   "outputs": [
    {
     "data": {
      "text/plain": "   Unnamed: 0           start_time             end_time  start_station_id  \\\n0           0  2018-05-29 16:45:00  2018-05-29 17:08:00              3068   \n1         891  2019-08-16 17:12:00  2019-08-16 17:42:00              3068   \n2        1467  2019-01-30 12:22:00  2019-01-30 12:28:00              3068   \n3        6956  2018-05-15 08:23:00  2018-05-15 08:30:00              3068   \n4       11733  2018-11-03 18:30:00  2018-11-03 18:51:00              3068   \n\n   start_station_lat  start_station_lon  end_station_id  end_station_lat  \\\n0            34.0532        -118.250954            3014         34.05661   \n1            34.0532        -118.250954            3014         34.05661   \n2            34.0532        -118.250954            3014         34.05661   \n3            34.0532        -118.250954            3014         34.05661   \n4            34.0532        -118.250954            3014         34.05661   \n\n   end_station_lon bike_id  start_station_lat_mode  start_station_lon_mode  \\\n0      -118.237213    5772                 34.0532             -118.250954   \n1      -118.237213   16618                 34.0532             -118.250954   \n2      -118.237213   06358                 34.0532             -118.250954   \n3      -118.237213    6144                 34.0532             -118.250954   \n4      -118.237213    5860                 34.0532             -118.250954   \n\n   end_station_lat_mode  end_station_lon_mode  \n0              34.05661           -118.237213  \n1              34.05661           -118.237213  \n2              34.05661           -118.237213  \n3              34.05661           -118.237213  \n4              34.05661           -118.237213  ",
      "text/html": "<div>\n<style scoped>\n    .dataframe tbody tr th:only-of-type {\n        vertical-align: middle;\n    }\n\n    .dataframe tbody tr th {\n        vertical-align: top;\n    }\n\n    .dataframe thead th {\n        text-align: right;\n    }\n</style>\n<table border=\"1\" class=\"dataframe\">\n  <thead>\n    <tr style=\"text-align: right;\">\n      <th></th>\n      <th>Unnamed: 0</th>\n      <th>start_time</th>\n      <th>end_time</th>\n      <th>start_station_id</th>\n      <th>start_station_lat</th>\n      <th>start_station_lon</th>\n      <th>end_station_id</th>\n      <th>end_station_lat</th>\n      <th>end_station_lon</th>\n      <th>bike_id</th>\n      <th>start_station_lat_mode</th>\n      <th>start_station_lon_mode</th>\n      <th>end_station_lat_mode</th>\n      <th>end_station_lon_mode</th>\n    </tr>\n  </thead>\n  <tbody>\n    <tr>\n      <th>0</th>\n      <td>0</td>\n      <td>2018-05-29 16:45:00</td>\n      <td>2018-05-29 17:08:00</td>\n      <td>3068</td>\n      <td>34.0532</td>\n      <td>-118.250954</td>\n      <td>3014</td>\n      <td>34.05661</td>\n      <td>-118.237213</td>\n      <td>5772</td>\n      <td>34.0532</td>\n      <td>-118.250954</td>\n      <td>34.05661</td>\n      <td>-118.237213</td>\n    </tr>\n    <tr>\n      <th>1</th>\n      <td>891</td>\n      <td>2019-08-16 17:12:00</td>\n      <td>2019-08-16 17:42:00</td>\n      <td>3068</td>\n      <td>34.0532</td>\n      <td>-118.250954</td>\n      <td>3014</td>\n      <td>34.05661</td>\n      <td>-118.237213</td>\n      <td>16618</td>\n      <td>34.0532</td>\n      <td>-118.250954</td>\n      <td>34.05661</td>\n      <td>-118.237213</td>\n    </tr>\n    <tr>\n      <th>2</th>\n      <td>1467</td>\n      <td>2019-01-30 12:22:00</td>\n      <td>2019-01-30 12:28:00</td>\n      <td>3068</td>\n      <td>34.0532</td>\n      <td>-118.250954</td>\n      <td>3014</td>\n      <td>34.05661</td>\n      <td>-118.237213</td>\n      <td>06358</td>\n      <td>34.0532</td>\n      <td>-118.250954</td>\n      <td>34.05661</td>\n      <td>-118.237213</td>\n    </tr>\n    <tr>\n      <th>3</th>\n      <td>6956</td>\n      <td>2018-05-15 08:23:00</td>\n      <td>2018-05-15 08:30:00</td>\n      <td>3068</td>\n      <td>34.0532</td>\n      <td>-118.250954</td>\n      <td>3014</td>\n      <td>34.05661</td>\n      <td>-118.237213</td>\n      <td>6144</td>\n      <td>34.0532</td>\n      <td>-118.250954</td>\n      <td>34.05661</td>\n      <td>-118.237213</td>\n    </tr>\n    <tr>\n      <th>4</th>\n      <td>11733</td>\n      <td>2018-11-03 18:30:00</td>\n      <td>2018-11-03 18:51:00</td>\n      <td>3068</td>\n      <td>34.0532</td>\n      <td>-118.250954</td>\n      <td>3014</td>\n      <td>34.05661</td>\n      <td>-118.237213</td>\n      <td>5860</td>\n      <td>34.0532</td>\n      <td>-118.250954</td>\n      <td>34.05661</td>\n      <td>-118.237213</td>\n    </tr>\n  </tbody>\n</table>\n</div>"
     },
     "execution_count": 28,
     "metadata": {},
     "output_type": "execute_result"
    }
   ],
   "source": [
    "from datetime import datetime\n",
    "dateformat0 = \"%H/%M/%S %d-%m-%Y\"\n",
    "dateformat1 = \"%Y-%m-%d %H:%M:%S\"\n",
    "for i, row in bike_set_almost_clean.iterrows():\n",
    "    try:\n",
    "        bike_set_almost_clean.at[i, 'start_time'] = datetime.strptime(bike_set_almost_clean.loc[i, 'start_time'], dateformat0)\n",
    "    except ValueError:\n",
    "        bike_set_almost_clean.at[i, 'start_time'] = datetime.strptime(bike_set_almost_clean.loc[i, 'start_time'], dateformat1)\n",
    "    try:\n",
    "        bike_set_almost_clean.at[i, 'end_time'] = datetime.strptime(bike_set_almost_clean.loc[i, 'end_time'], dateformat0)\n",
    "    except ValueError:\n",
    "        bike_set_almost_clean.at[i, 'end_time'] = datetime.strptime(bike_set_almost_clean.loc[i, 'end_time'], dateformat1)\n",
    "bike_set_almost_clean.head()"
   ],
   "metadata": {
    "collapsed": false,
    "ExecuteTime": {
     "start_time": "2023-05-18T16:03:05.212701Z",
     "end_time": "2023-05-18T16:05:42.646577Z"
    }
   }
  },
  {
   "cell_type": "code",
   "execution_count": 29,
   "outputs": [
    {
     "name": "stdout",
     "output_type": "stream",
     "text": [
      "<class 'pandas.core.frame.DataFrame'>\n",
      "Int64Index: 1552782 entries, 0 to 1552781\n",
      "Data columns (total 10 columns):\n",
      " #   Column             Non-Null Count    Dtype  \n",
      "---  ------             --------------    -----  \n",
      " 0   Unnamed: 0         1552782 non-null  int64  \n",
      " 1   start_time         1552782 non-null  object \n",
      " 2   end_time           1552782 non-null  object \n",
      " 3   start_station_id   1552782 non-null  int64  \n",
      " 4   start_station_lat  1552782 non-null  float64\n",
      " 5   start_station_lon  1552782 non-null  float64\n",
      " 6   end_station_id     1552782 non-null  int64  \n",
      " 7   end_station_lat    1552782 non-null  float64\n",
      " 8   end_station_lon    1552782 non-null  float64\n",
      " 9   bike_id            1552782 non-null  object \n",
      "dtypes: float64(4), int64(3), object(3)\n",
      "memory usage: 162.6+ MB\n"
     ]
    }
   ],
   "source": [
    "bike_set_clean = bike_set_almost_clean.drop(['start_station_lat_mode', 'start_station_lon_mode', 'end_station_lat_mode', 'end_station_lon_mode'], axis=1)\n",
    "bike_set_clean.info()"
   ],
   "metadata": {
    "collapsed": false,
    "ExecuteTime": {
     "start_time": "2023-05-18T16:08:35.453759Z",
     "end_time": "2023-05-18T16:08:35.976138Z"
    }
   }
  },
  {
   "cell_type": "code",
   "execution_count": 30,
   "outputs": [
    {
     "name": "stdout",
     "output_type": "stream",
     "text": [
      "<class 'pandas.core.frame.DataFrame'>\n",
      "Int64Index: 1552782 entries, 0 to 1552781\n",
      "Data columns (total 10 columns):\n",
      " #   Column             Non-Null Count    Dtype         \n",
      "---  ------             --------------    -----         \n",
      " 0   Unnamed: 0         1552782 non-null  int64         \n",
      " 1   start_time         1552782 non-null  datetime64[ns]\n",
      " 2   end_time           1552782 non-null  object        \n",
      " 3   start_station_id   1552782 non-null  int64         \n",
      " 4   start_station_lat  1552782 non-null  float64       \n",
      " 5   start_station_lon  1552782 non-null  float64       \n",
      " 6   end_station_id     1552782 non-null  int64         \n",
      " 7   end_station_lat    1552782 non-null  float64       \n",
      " 8   end_station_lon    1552782 non-null  float64       \n",
      " 9   bike_id            1552782 non-null  object        \n",
      "dtypes: datetime64[ns](1), float64(4), int64(3), object(2)\n",
      "memory usage: 162.6+ MB\n"
     ]
    }
   ],
   "source": [
    "bike_set_clean['start_time'] = pd.to_datetime(bike_set_almost_clean['start_time'], format=\"%Y-%m-%d %H:%M:%S\")\n",
    "bike_set_clean.info()"
   ],
   "metadata": {
    "collapsed": false,
    "ExecuteTime": {
     "start_time": "2023-05-18T16:11:03.014344Z",
     "end_time": "2023-05-18T16:11:03.457080Z"
    }
   }
  },
  {
   "cell_type": "code",
   "execution_count": 31,
   "outputs": [
    {
     "name": "stdout",
     "output_type": "stream",
     "text": [
      "<class 'pandas.core.frame.DataFrame'>\n",
      "Int64Index: 1552782 entries, 0 to 1552781\n",
      "Data columns (total 10 columns):\n",
      " #   Column             Non-Null Count    Dtype         \n",
      "---  ------             --------------    -----         \n",
      " 0   Unnamed: 0         1552782 non-null  int64         \n",
      " 1   start_time         1552782 non-null  datetime64[ns]\n",
      " 2   end_time           1552782 non-null  datetime64[ns]\n",
      " 3   start_station_id   1552782 non-null  int64         \n",
      " 4   start_station_lat  1552782 non-null  float64       \n",
      " 5   start_station_lon  1552782 non-null  float64       \n",
      " 6   end_station_id     1552782 non-null  int64         \n",
      " 7   end_station_lat    1552782 non-null  float64       \n",
      " 8   end_station_lon    1552782 non-null  float64       \n",
      " 9   bike_id            1552782 non-null  object        \n",
      "dtypes: datetime64[ns](2), float64(4), int64(3), object(1)\n",
      "memory usage: 162.6+ MB\n"
     ]
    }
   ],
   "source": [
    "bike_set_clean['end_time'] = pd.to_datetime(bike_set_almost_clean['end_time'], format=\"%Y-%m-%d %H:%M:%S\")\n",
    "bike_set_clean.info()"
   ],
   "metadata": {
    "collapsed": false,
    "ExecuteTime": {
     "start_time": "2023-05-18T16:11:43.972155Z",
     "end_time": "2023-05-18T16:11:44.241078Z"
    }
   }
  },
  {
   "cell_type": "code",
   "execution_count": 32,
   "outputs": [],
   "source": [
    "bike_set_clean.to_csv('outCSV/Clean_Metro_Set.csv')"
   ],
   "metadata": {
    "collapsed": false,
    "ExecuteTime": {
     "start_time": "2023-05-18T16:13:47.095781Z",
     "end_time": "2023-05-18T16:13:55.239981Z"
    }
   }
  }
 ],
 "metadata": {
  "kernelspec": {
   "display_name": "Python 3",
   "language": "python",
   "name": "python3"
  },
  "language_info": {
   "codemirror_mode": {
    "name": "ipython",
    "version": 2
   },
   "file_extension": ".py",
   "mimetype": "text/x-python",
   "name": "python",
   "nbconvert_exporter": "python",
   "pygments_lexer": "ipython2",
   "version": "2.7.6"
  }
 },
 "nbformat": 4,
 "nbformat_minor": 0
}
