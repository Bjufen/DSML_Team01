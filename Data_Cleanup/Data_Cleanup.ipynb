{
 "cells": [
  {
   "cell_type": "code",
   "execution_count": 1,
   "metadata": {
    "collapsed": true,
    "ExecuteTime": {
     "start_time": "2023-07-21T18:55:42.675319Z",
     "end_time": "2023-07-21T18:55:42.675319Z"
    }
   },
   "outputs": [],
   "source": [
    "import pandas as pd\n",
    "weather_set_dirty = pd.read_csv('inCSV/Weather_LosAngeles.csv', sep=\",\")"
   ]
  },
  {
   "cell_type": "code",
   "execution_count": 2,
   "metadata": {
    "collapsed": false,
    "ExecuteTime": {
     "start_time": "2023-05-31T22:18:58.305454Z",
     "end_time": "2023-05-31T22:18:58.348696Z"
    }
   },
   "outputs": [],
   "source": [
    "weather_set_dirty['timestamp'] = pd.to_datetime(weather_set_dirty['timestamp'])\n",
    "mean_values_by_day = weather_set_dirty.groupby(weather_set_dirty[\"timestamp\"].dt.date).mean(numeric_only=True).round(1)"
   ]
  },
  {
   "cell_type": "code",
   "execution_count": 3,
   "metadata": {
    "collapsed": false,
    "ExecuteTime": {
     "start_time": "2023-05-31T22:18:59.331017Z",
     "end_time": "2023-05-31T22:19:03.053114Z"
    }
   },
   "outputs": [],
   "source": [
    "for col in mean_values_by_day.columns:\n",
    "    weather_set_dirty[col] = weather_set_dirty.apply(\n",
    "        lambda row: mean_values_by_day.loc[row['timestamp'].date(), col]\n",
    "        if pd.isnull(row[col]) else row[col],\n",
    "        axis=1\n",
    "    )"
   ]
  },
  {
   "cell_type": "code",
   "execution_count": 4,
   "metadata": {
    "collapsed": false,
    "ExecuteTime": {
     "start_time": "2023-05-31T22:19:11.499678Z",
     "end_time": "2023-05-31T22:19:11.839394Z"
    }
   },
   "outputs": [],
   "source": [
    "weather_set_dirty['cloud_cover_description'].fillna(method='ffill',inplace=True)\n",
    "weather_set_dirty.to_csv('outCSV/Clean_Weather_Set.csv', index=False)"
   ]
  },
  {
   "cell_type": "code",
   "execution_count": 6,
   "metadata": {
    "collapsed": false,
    "ExecuteTime": {
     "start_time": "2023-05-31T22:19:21.332235Z",
     "end_time": "2023-05-31T22:19:21.363825Z"
    }
   },
   "outputs": [
    {
     "name": "stdout",
     "output_type": "stream",
     "text": [
      "<class 'pandas.core.frame.DataFrame'>\n",
      "RangeIndex: 77362 entries, 0 to 77361\n",
      "Data columns (total 9 columns):\n",
      " #   Column                   Non-Null Count  Dtype         \n",
      "---  ------                   --------------  -----         \n",
      " 0   city                     77362 non-null  object        \n",
      " 1   timestamp                77362 non-null  datetime64[ns]\n",
      " 2   temperature              77362 non-null  float64       \n",
      " 3   cloud_cover              77362 non-null  float64       \n",
      " 4   cloud_cover_description  77362 non-null  object        \n",
      " 5   pressure                 77362 non-null  float64       \n",
      " 6   windspeed                77362 non-null  float64       \n",
      " 7   precipitation            77362 non-null  float64       \n",
      " 8   felt_temperature         77362 non-null  float64       \n",
      "dtypes: datetime64[ns](1), float64(6), object(2)\n",
      "memory usage: 5.3+ MB\n"
     ]
    }
   ],
   "source": [
    "weather_set_dirty.info()"
   ]
  },
  {
   "cell_type": "code",
   "execution_count": 2,
   "metadata": {
    "collapsed": false,
    "ExecuteTime": {
     "start_time": "2023-07-21T18:55:46.866894Z",
     "end_time": "2023-07-21T18:55:46.866894Z"
    }
   },
   "outputs": [],
   "source": [
    "bike_set_dirty = pd.read_csv('inCSV/metro_2017_2022.csv', sep=',', index_col=0)"
   ]
  },
  {
   "cell_type": "code",
   "execution_count": 8,
   "metadata": {
    "collapsed": false,
    "ExecuteTime": {
     "start_time": "2023-05-31T22:19:36.589345Z",
     "end_time": "2023-05-31T22:19:37.309467Z"
    }
   },
   "outputs": [],
   "source": [
    "bike_set_dirty.sort_values('start_station_id')\n",
    "bike_set_dirty['start_station_lat'].fillna(method=\"ffill\", inplace=True)\n",
    "bike_set_dirty['start_station_lon'].fillna(method=\"ffill\", inplace=True)\n",
    "\n",
    "bike_set_dirty.sort_values('end_station_id')\n",
    "bike_set_dirty['end_station_lat'].fillna(method=\"ffill\", inplace=True)\n",
    "bike_set_dirty['end_station_lon'].fillna(method=\"ffill\", inplace=True)"
   ]
  },
  {
   "cell_type": "code",
   "execution_count": 9,
   "metadata": {
    "collapsed": false,
    "ExecuteTime": {
     "start_time": "2023-05-31T22:19:44.518399Z",
     "end_time": "2023-05-31T22:19:44.962653Z"
    }
   },
   "outputs": [],
   "source": [
    "bike_set_dirty_agg_start = bike_set_dirty.groupby('start_station_id')[['start_station_lat', 'start_station_lon']].agg(lambda x: x.mode().iloc[0])\n",
    "bike_set_dirty_agg_end = bike_set_dirty.groupby('end_station_id')[['end_station_lat', 'end_station_lon']].agg(lambda x: x.mode().iloc[0])"
   ]
  },
  {
   "cell_type": "code",
   "execution_count": 10,
   "metadata": {
    "collapsed": false,
    "ExecuteTime": {
     "start_time": "2023-05-31T22:19:46.285404Z",
     "end_time": "2023-05-31T22:19:47.691767Z"
    }
   },
   "outputs": [
    {
     "name": "stdout",
     "output_type": "stream",
     "text": [
      "<class 'pandas.core.frame.DataFrame'>\n",
      "Int64Index: 1552782 entries, 0 to 1552781\n",
      "Data columns (total 13 columns):\n",
      " #   Column                  Non-Null Count    Dtype  \n",
      "---  ------                  --------------    -----  \n",
      " 0   start_time              1552782 non-null  object \n",
      " 1   end_time                1552782 non-null  object \n",
      " 2   start_station_id        1552782 non-null  int64  \n",
      " 3   start_station_lat       1552782 non-null  float64\n",
      " 4   start_station_lon       1552782 non-null  float64\n",
      " 5   end_station_id          1552782 non-null  int64  \n",
      " 6   end_station_lat         1552782 non-null  float64\n",
      " 7   end_station_lon         1552782 non-null  float64\n",
      " 8   bike_id                 1552782 non-null  object \n",
      " 9   start_station_lat_mode  1552782 non-null  float64\n",
      " 10  start_station_lon_mode  1552782 non-null  float64\n",
      " 11  end_station_lat_mode    1552782 non-null  float64\n",
      " 12  end_station_lon_mode    1552782 non-null  float64\n",
      "dtypes: float64(8), int64(2), object(3)\n",
      "memory usage: 165.9+ MB\n"
     ]
    }
   ],
   "source": [
    "bike_set_dirty_merge = bike_set_dirty.merge(bike_set_dirty_agg_start, on='start_station_id', suffixes=('','_mode'))\n",
    "bike_set_dirty_merged = bike_set_dirty_merge.merge(bike_set_dirty_agg_end, on='end_station_id', suffixes=('','_mode'))\n",
    "bike_set_dirty_merged.info()"
   ]
  },
  {
   "cell_type": "code",
   "execution_count": 11,
   "metadata": {
    "collapsed": false,
    "ExecuteTime": {
     "start_time": "2023-05-31T22:19:52.565314Z",
     "end_time": "2023-05-31T22:25:54.204202Z"
    }
   },
   "outputs": [],
   "source": [
    "from datetime import datetime\n",
    "dateformat0 = \"%H/%M/%S %d-%m-%Y\"\n",
    "dateformat1 = \"%Y-%m-%d %H:%M:%S\"\n",
    "for i, row in bike_set_dirty_merged.iterrows():\n",
    "    bike_set_dirty_merged.at[i, 'start_station_lat'] = bike_set_dirty_merged.loc[i, 'start_station_lat_mode']\n",
    "    bike_set_dirty_merged.at[i, 'start_station_lon'] = bike_set_dirty_merged.loc[i, 'start_station_lon_mode']\n",
    "    bike_set_dirty_merged.at[i, 'end_station_lat'] = bike_set_dirty_merged.loc[i, 'end_station_lat_mode']\n",
    "    bike_set_dirty_merged.at[i, 'end_station_lon'] = bike_set_dirty_merged.loc[i, 'end_station_lon_mode']\n",
    "\n",
    "    try:\n",
    "        bike_set_dirty_merged.at[i, 'start_time'] = datetime.strptime(bike_set_dirty_merged.loc[i, 'start_time'], dateformat0)\n",
    "    except ValueError:\n",
    "        bike_set_dirty_merged.at[i, 'start_time'] = datetime.strptime(bike_set_dirty_merged.loc[i, 'start_time'], dateformat1)\n",
    "    try:\n",
    "        bike_set_dirty_merged.at[i, 'end_time'] = datetime.strptime(bike_set_dirty_merged.loc[i, 'end_time'], dateformat0)\n",
    "    except ValueError:\n",
    "        bike_set_dirty_merged.at[i, 'end_time'] = datetime.strptime(bike_set_dirty_merged.loc[i, 'end_time'], dateformat1)"
   ]
  },
  {
   "cell_type": "code",
   "execution_count": 12,
   "metadata": {
    "collapsed": false,
    "ExecuteTime": {
     "start_time": "2023-05-31T22:26:02.920660Z",
     "end_time": "2023-05-31T22:26:03.388297Z"
    }
   },
   "outputs": [
    {
     "name": "stdout",
     "output_type": "stream",
     "text": [
      "<class 'pandas.core.frame.DataFrame'>\n",
      "Int64Index: 1552782 entries, 0 to 1552781\n",
      "Data columns (total 13 columns):\n",
      " #   Column                  Non-Null Count    Dtype  \n",
      "---  ------                  --------------    -----  \n",
      " 0   start_time              1552782 non-null  object \n",
      " 1   end_time                1552782 non-null  object \n",
      " 2   start_station_id        1552782 non-null  int64  \n",
      " 3   start_station_lat       1552782 non-null  float64\n",
      " 4   start_station_lon       1552782 non-null  float64\n",
      " 5   end_station_id          1552782 non-null  int64  \n",
      " 6   end_station_lat         1552782 non-null  float64\n",
      " 7   end_station_lon         1552782 non-null  float64\n",
      " 8   bike_id                 1552782 non-null  object \n",
      " 9   start_station_lat_mode  1552782 non-null  float64\n",
      " 10  start_station_lon_mode  1552782 non-null  float64\n",
      " 11  end_station_lat_mode    1552782 non-null  float64\n",
      " 12  end_station_lon_mode    1552782 non-null  float64\n",
      "dtypes: float64(8), int64(2), object(3)\n",
      "memory usage: 198.1+ MB\n"
     ]
    }
   ],
   "source": [
    "bike_set_almost_clean = bike_set_dirty_merged\n",
    "bike_set_almost_clean.info()"
   ]
  },
  {
   "cell_type": "code",
   "execution_count": null,
   "metadata": {
    "collapsed": false,
    "ExecuteTime": {
     "start_time": "2023-05-31T17:41:48.077054Z",
     "end_time": "2023-05-31T17:45:47.934294Z"
    }
   },
   "outputs": [],
   "source": [
    "#from datetime import datetime\n",
    "#dateformat0 = \"%H/%M/%S %d-%m-%Y\"\n",
    "#dateformat1 = \"%Y-%m-%d %H:%M:%S\"\n",
    "#for i, row in bike_set_almost_clean.iterrows():\n",
    "#    try:\n",
    "#        bike_set_almost_clean.at[i, 'start_time'] = datetime.strptime(bike_set_almost_clean.loc[i, 'start_time'], dateformat0)\n",
    "#    except ValueError:\n",
    "#        bike_set_almost_clean.at[i, 'start_time'] = datetime.strptime(bike_set_almost_clean.loc[i, 'start_time'], dateformat1)\n",
    "#    try:\n",
    "#        bike_set_almost_clean.at[i, 'end_time'] = datetime.strptime(bike_set_almost_clean.loc[i, 'end_time'], dateformat0)\n",
    "#    except ValueError:\n",
    "#        bike_set_almost_clean.at[i, 'end_time'] = datetime.strptime(bike_set_almost_clean.loc[i, 'end_time'], dateformat1)\n",
    "#bike_set_almost_clean.head()"
   ]
  },
  {
   "cell_type": "code",
   "execution_count": 13,
   "metadata": {
    "collapsed": false,
    "ExecuteTime": {
     "start_time": "2023-05-31T22:26:43.716952Z",
     "end_time": "2023-05-31T22:26:44.237738Z"
    }
   },
   "outputs": [
    {
     "name": "stdout",
     "output_type": "stream",
     "text": [
      "<class 'pandas.core.frame.DataFrame'>\n",
      "Int64Index: 1552782 entries, 0 to 1552781\n",
      "Data columns (total 9 columns):\n",
      " #   Column             Non-Null Count    Dtype  \n",
      "---  ------             --------------    -----  \n",
      " 0   start_time         1552782 non-null  object \n",
      " 1   end_time           1552782 non-null  object \n",
      " 2   start_station_id   1552782 non-null  int64  \n",
      " 3   start_station_lat  1552782 non-null  float64\n",
      " 4   start_station_lon  1552782 non-null  float64\n",
      " 5   end_station_id     1552782 non-null  int64  \n",
      " 6   end_station_lat    1552782 non-null  float64\n",
      " 7   end_station_lon    1552782 non-null  float64\n",
      " 8   bike_id            1552782 non-null  object \n",
      "dtypes: float64(4), int64(2), object(3)\n",
      "memory usage: 150.7+ MB\n"
     ]
    }
   ],
   "source": [
    "bike_set_clean = bike_set_almost_clean.drop(['start_station_lat_mode', 'start_station_lon_mode', 'end_station_lat_mode', 'end_station_lon_mode'], axis=1)\n",
    "bike_set_clean.info()"
   ]
  },
  {
   "cell_type": "code",
   "execution_count": 14,
   "metadata": {
    "collapsed": false,
    "ExecuteTime": {
     "start_time": "2023-05-31T22:26:48.761349Z",
     "end_time": "2023-05-31T22:26:49.406527Z"
    }
   },
   "outputs": [
    {
     "name": "stdout",
     "output_type": "stream",
     "text": [
      "<class 'pandas.core.frame.DataFrame'>\n",
      "Int64Index: 1552782 entries, 0 to 1552781\n",
      "Data columns (total 9 columns):\n",
      " #   Column             Non-Null Count    Dtype         \n",
      "---  ------             --------------    -----         \n",
      " 0   start_time         1552782 non-null  datetime64[ns]\n",
      " 1   end_time           1552782 non-null  object        \n",
      " 2   start_station_id   1552782 non-null  int64         \n",
      " 3   start_station_lat  1552782 non-null  float64       \n",
      " 4   start_station_lon  1552782 non-null  float64       \n",
      " 5   end_station_id     1552782 non-null  int64         \n",
      " 6   end_station_lat    1552782 non-null  float64       \n",
      " 7   end_station_lon    1552782 non-null  float64       \n",
      " 8   bike_id            1552782 non-null  object        \n",
      "dtypes: datetime64[ns](1), float64(4), int64(2), object(2)\n",
      "memory usage: 150.7+ MB\n",
      "<class 'pandas.core.frame.DataFrame'>\n",
      "Int64Index: 1552782 entries, 0 to 1552781\n",
      "Data columns (total 9 columns):\n",
      " #   Column             Non-Null Count    Dtype         \n",
      "---  ------             --------------    -----         \n",
      " 0   start_time         1552782 non-null  datetime64[ns]\n",
      " 1   end_time           1552782 non-null  datetime64[ns]\n",
      " 2   start_station_id   1552782 non-null  int64         \n",
      " 3   start_station_lat  1552782 non-null  float64       \n",
      " 4   start_station_lon  1552782 non-null  float64       \n",
      " 5   end_station_id     1552782 non-null  int64         \n",
      " 6   end_station_lat    1552782 non-null  float64       \n",
      " 7   end_station_lon    1552782 non-null  float64       \n",
      " 8   bike_id            1552782 non-null  object        \n",
      "dtypes: datetime64[ns](2), float64(4), int64(2), object(1)\n",
      "memory usage: 150.7+ MB\n"
     ]
    }
   ],
   "source": [
    "bike_set_clean['start_time'] = pd.to_datetime(bike_set_almost_clean['start_time'], format=\"%Y-%m-%d %H:%M:%S\")\n",
    "bike_set_clean.info()\n",
    "bike_set_clean['end_time'] = pd.to_datetime(bike_set_almost_clean['end_time'], format=\"%Y-%m-%d %H:%M:%S\")\n",
    "bike_set_clean.info()"
   ]
  },
  {
   "cell_type": "code",
   "execution_count": 15,
   "metadata": {
    "collapsed": false,
    "ExecuteTime": {
     "start_time": "2023-05-31T22:26:56.134635Z",
     "end_time": "2023-05-31T22:27:04.408290Z"
    }
   },
   "outputs": [],
   "source": [
    "bike_set_clean.to_csv('outCSV/Clean_Metro_Set.csv')"
   ]
  }
 ],
 "metadata": {
  "kernelspec": {
   "display_name": "Python 3",
   "language": "python",
   "name": "python3"
  },
  "language_info": {
   "codemirror_mode": {
    "name": "ipython",
    "version": 2
   },
   "file_extension": ".py",
   "mimetype": "text/x-python",
   "name": "python",
   "nbconvert_exporter": "python",
   "pygments_lexer": "ipython2",
   "version": "2.7.6"
  }
 },
 "nbformat": 4,
 "nbformat_minor": 0
}
