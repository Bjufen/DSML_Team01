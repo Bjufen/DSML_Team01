{
 "cells": [
  {
   "cell_type": "code",
   "execution_count": 1,
   "metadata": {
    "collapsed": true,
    "ExecuteTime": {
     "start_time": "2023-05-17T19:55:57.279287Z",
     "end_time": "2023-05-17T19:55:57.366358Z"
    }
   },
   "outputs": [],
   "source": [
    "import pandas as pd\n",
    "weather_set_dirty = pd.read_csv('inCSV/Weather_LosAngeles.csv', sep=\",\")"
   ]
  },
  {
   "cell_type": "code",
   "execution_count": 2,
   "outputs": [],
   "source": [
    "weather_set_dirty['timestamp'] = pd.to_datetime(weather_set_dirty['timestamp'])\n",
    "mean_values_by_day = weather_set_dirty.groupby(weather_set_dirty[\"timestamp\"].dt.date).mean(numeric_only=True).round(1)"
   ],
   "metadata": {
    "collapsed": false,
    "ExecuteTime": {
     "start_time": "2023-05-17T19:55:57.366358Z",
     "end_time": "2023-05-17T19:55:57.442041Z"
    }
   }
  },
  {
   "cell_type": "code",
   "execution_count": 3,
   "outputs": [],
   "source": [
    "for col in mean_values_by_day.columns:\n",
    "    weather_set_dirty[col] = weather_set_dirty.apply(\n",
    "        lambda row: mean_values_by_day.loc[row['timestamp'].date(), col]\n",
    "        if pd.isnull(row[col]) else row[col],\n",
    "        axis=1\n",
    "    )"
   ],
   "metadata": {
    "collapsed": false,
    "ExecuteTime": {
     "start_time": "2023-05-17T19:55:57.426453Z",
     "end_time": "2023-05-17T19:56:00.478545Z"
    }
   }
  },
  {
   "cell_type": "code",
   "execution_count": 4,
   "outputs": [],
   "source": [
    "weather_set_dirty['cloud_cover_description'].fillna(method='ffill',inplace=True)\n",
    "weather_set_dirty.to_csv('outCSV/Clean_Weather_Set.csv', index=False)"
   ],
   "metadata": {
    "collapsed": false,
    "ExecuteTime": {
     "start_time": "2023-05-17T19:56:00.478545Z",
     "end_time": "2023-05-17T19:56:00.785100Z"
    }
   }
  },
  {
   "cell_type": "code",
   "execution_count": 5,
   "outputs": [
    {
     "name": "stdout",
     "output_type": "stream",
     "text": [
      "<class 'pandas.core.frame.DataFrame'>\n",
      "RangeIndex: 77362 entries, 0 to 77361\n",
      "Data columns (total 9 columns):\n",
      " #   Column                   Non-Null Count  Dtype         \n",
      "---  ------                   --------------  -----         \n",
      " 0   city                     77362 non-null  object        \n",
      " 1   timestamp                77362 non-null  datetime64[ns]\n",
      " 2   temperature              77362 non-null  float64       \n",
      " 3   cloud_cover              77362 non-null  float64       \n",
      " 4   cloud_cover_description  77362 non-null  object        \n",
      " 5   pressure                 77362 non-null  float64       \n",
      " 6   windspeed                77362 non-null  float64       \n",
      " 7   precipitation            77362 non-null  float64       \n",
      " 8   felt_temperature         77362 non-null  float64       \n",
      "dtypes: datetime64[ns](1), float64(6), object(2)\n",
      "memory usage: 5.3+ MB\n"
     ]
    }
   ],
   "source": [
    "weather_set_dirty.info()"
   ],
   "metadata": {
    "collapsed": false,
    "ExecuteTime": {
     "start_time": "2023-05-17T19:56:00.786118Z",
     "end_time": "2023-05-17T19:56:00.838071Z"
    }
   }
  },
  {
   "cell_type": "code",
   "execution_count": 6,
   "outputs": [],
   "source": [
    "bike_set_dirty = pd.read_csv('inCSV/metro_2017_2022.csv', sep=',')"
   ],
   "metadata": {
    "collapsed": false,
    "ExecuteTime": {
     "start_time": "2023-05-17T19:56:00.811205Z",
     "end_time": "2023-05-17T19:56:02.727539Z"
    }
   }
  },
  {
   "cell_type": "code",
   "execution_count": 7,
   "outputs": [],
   "source": [
    "bike_set_dirty.sort_values('start_station_id')\n",
    "bike_set_dirty['start_station_lat'].fillna(method=\"ffill\", inplace=True)\n",
    "bike_set_dirty['start_station_lon'].fillna(method=\"ffill\", inplace=True)\n",
    "\n",
    "bike_set_dirty.sort_values('end_station_id')\n",
    "bike_set_dirty['end_station_lat'].fillna(method=\"ffill\", inplace=True)\n",
    "bike_set_dirty['end_station_lon'].fillna(method=\"ffill\", inplace=True)"
   ],
   "metadata": {
    "collapsed": false,
    "ExecuteTime": {
     "start_time": "2023-05-17T19:56:02.727539Z",
     "end_time": "2023-05-17T19:56:03.365236Z"
    }
   }
  },
  {
   "cell_type": "code",
   "execution_count": 8,
   "outputs": [],
   "source": [
    "bike_set_dirty_agg_start = bike_set_dirty.groupby('start_station_id')[['start_station_lat', 'start_station_lon']].agg(lambda x: x.mode().iloc[0])\n",
    "bike_set_dirty_agg_end = bike_set_dirty.groupby('end_station_id')[['end_station_lat', 'end_station_lon']].agg(lambda x: x.mode().iloc[0])"
   ],
   "metadata": {
    "collapsed": false,
    "ExecuteTime": {
     "start_time": "2023-05-17T19:56:03.366241Z",
     "end_time": "2023-05-17T19:56:03.747050Z"
    }
   }
  },
  {
   "cell_type": "code",
   "execution_count": 9,
   "outputs": [
    {
     "name": "stdout",
     "output_type": "stream",
     "text": [
      "<class 'pandas.core.frame.DataFrame'>\n",
      "Int64Index: 1552782 entries, 0 to 1552781\n",
      "Data columns (total 14 columns):\n",
      " #   Column                  Non-Null Count    Dtype  \n",
      "---  ------                  --------------    -----  \n",
      " 0   Unnamed: 0              1552782 non-null  int64  \n",
      " 1   start_time              1552782 non-null  object \n",
      " 2   end_time                1552782 non-null  object \n",
      " 3   start_station_id        1552782 non-null  int64  \n",
      " 4   start_station_lat       1552782 non-null  float64\n",
      " 5   start_station_lon       1552782 non-null  float64\n",
      " 6   end_station_id          1552782 non-null  int64  \n",
      " 7   end_station_lat         1552782 non-null  float64\n",
      " 8   end_station_lon         1552782 non-null  float64\n",
      " 9   bike_id                 1552782 non-null  object \n",
      " 10  start_station_lat_mode  1552782 non-null  float64\n",
      " 11  start_station_lon_mode  1552782 non-null  float64\n",
      " 12  end_station_lat_mode    1552782 non-null  float64\n",
      " 13  end_station_lon_mode    1552782 non-null  float64\n",
      "dtypes: float64(8), int64(3), object(3)\n",
      "memory usage: 177.7+ MB\n"
     ]
    }
   ],
   "source": [
    "bike_set_dirty_merge = bike_set_dirty.merge(bike_set_dirty_agg_start, on='start_station_id', suffixes=('','_mode'))\n",
    "bike_set_dirty_merged = bike_set_dirty_merge.merge(bike_set_dirty_agg_end, on='end_station_id', suffixes=('','_mode'))\n",
    "bike_set_dirty_merged.info()"
   ],
   "metadata": {
    "collapsed": false,
    "ExecuteTime": {
     "start_time": "2023-05-17T19:56:03.747050Z",
     "end_time": "2023-05-17T19:56:05.016413Z"
    }
   }
  },
  {
   "cell_type": "code",
   "execution_count": 10,
   "outputs": [],
   "source": [
    "for i, row in bike_set_dirty_merged.iterrows():\n",
    "    bike_set_dirty_merged.at[i, 'start_station_lat'] = bike_set_dirty_merged.loc[i, 'start_station_lat_mode']\n",
    "    bike_set_dirty_merged.at[i, 'start_station_lon'] = bike_set_dirty_merged.loc[i, 'start_station_lon_mode']\n",
    "    bike_set_dirty_merged.at[i, 'end_station_lat'] = bike_set_dirty_merged.loc[i, 'end_station_lat_mode']\n",
    "    bike_set_dirty_merged.at[i, 'end_station_lon'] = bike_set_dirty_merged.loc[i, 'end_station_lon_mode']"
   ],
   "metadata": {
    "collapsed": false,
    "ExecuteTime": {
     "start_time": "2023-05-17T19:56:05.016413Z",
     "end_time": "2023-05-17T19:59:45.630427Z"
    }
   }
  },
  {
   "cell_type": "code",
   "execution_count": 11,
   "outputs": [],
   "source": [
    "bike_set_almost_clean = bike_set_dirty_merged"
   ],
   "metadata": {
    "collapsed": false,
    "ExecuteTime": {
     "start_time": "2023-05-17T19:59:45.630427Z",
     "end_time": "2023-05-17T19:59:45.648897Z"
    }
   }
  },
  {
   "cell_type": "code",
   "execution_count": 12,
   "outputs": [],
   "source": [
    "#Missing pd.to_datetime and parser for bike set"
   ],
   "metadata": {
    "collapsed": false,
    "ExecuteTime": {
     "start_time": "2023-05-17T19:59:45.648897Z",
     "end_time": "2023-05-17T19:59:45.664729Z"
    }
   }
  }
 ],
 "metadata": {
  "kernelspec": {
   "display_name": "Python 3",
   "language": "python",
   "name": "python3"
  },
  "language_info": {
   "codemirror_mode": {
    "name": "ipython",
    "version": 2
   },
   "file_extension": ".py",
   "mimetype": "text/x-python",
   "name": "python",
   "nbconvert_exporter": "python",
   "pygments_lexer": "ipython2",
   "version": "2.7.6"
  }
 },
 "nbformat": 4,
 "nbformat_minor": 0
}
