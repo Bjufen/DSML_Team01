{
 "cells": [
  {
   "cell_type": "code",
   "execution_count": 2,
   "metadata": {
    "collapsed": true,
    "ExecuteTime": {
     "end_time": "2023-05-31T12:40:34.906588Z",
     "start_time": "2023-05-31T12:40:34.813965Z"
    }
   },
   "outputs": [],
   "source": [
    "import pandas as pd\n",
    "weather_set_dirty = pd.read_csv('inCSV/Weather_LosAngeles.csv', sep=\",\")"
   ]
  },
  {
   "cell_type": "code",
   "execution_count": 3,
   "metadata": {
    "collapsed": false,
    "ExecuteTime": {
     "end_time": "2023-05-31T12:40:36.226057Z",
     "start_time": "2023-05-31T12:40:36.186745Z"
    }
   },
   "outputs": [],
   "source": [
    "weather_set_dirty['timestamp'] = pd.to_datetime(weather_set_dirty['timestamp'])\n",
    "mean_values_by_day = weather_set_dirty.groupby(weather_set_dirty[\"timestamp\"].dt.date).mean(numeric_only=True).round(1)"
   ]
  },
  {
   "cell_type": "code",
   "execution_count": 4,
   "metadata": {
    "collapsed": false,
    "ExecuteTime": {
     "end_time": "2023-05-31T12:40:39.604462Z",
     "start_time": "2023-05-31T12:40:36.703494Z"
    }
   },
   "outputs": [],
   "source": [
    "for col in mean_values_by_day.columns:\n",
    "    weather_set_dirty[col] = weather_set_dirty.apply(\n",
    "        lambda row: mean_values_by_day.loc[row['timestamp'].date(), col]\n",
    "        if pd.isnull(row[col]) else row[col],\n",
    "        axis=1\n",
    "    )"
   ]
  },
  {
   "cell_type": "code",
   "execution_count": 5,
   "metadata": {
    "collapsed": false,
    "ExecuteTime": {
     "end_time": "2023-05-31T12:40:42.400921Z",
     "start_time": "2023-05-31T12:40:42.394682Z"
    }
   },
   "outputs": [],
   "source": [
    "weather_set_dirty['cloud_cover_description'].fillna(method='ffill',inplace=True)\n",
    "#weather_set_dirty.to_csv('outCSV/Clean_Weather_Set.csv', index=False)"
   ]
  },
  {
   "cell_type": "code",
   "execution_count": 6,
   "metadata": {
    "collapsed": false,
    "ExecuteTime": {
     "end_time": "2023-05-31T12:40:44.909262Z",
     "start_time": "2023-05-31T12:40:44.865289Z"
    }
   },
   "outputs": [
    {
     "name": "stdout",
     "output_type": "stream",
     "text": [
      "<class 'pandas.core.frame.DataFrame'>\n",
      "RangeIndex: 77362 entries, 0 to 77361\n",
      "Data columns (total 9 columns):\n",
      " #   Column                   Non-Null Count  Dtype         \n",
      "---  ------                   --------------  -----         \n",
      " 0   city                     77362 non-null  object        \n",
      " 1   timestamp                77362 non-null  datetime64[ns]\n",
      " 2   temperature              77362 non-null  float64       \n",
      " 3   cloud_cover              77362 non-null  float64       \n",
      " 4   cloud_cover_description  77362 non-null  object        \n",
      " 5   pressure                 77362 non-null  float64       \n",
      " 6   windspeed                77362 non-null  float64       \n",
      " 7   precipitation            77362 non-null  float64       \n",
      " 8   felt_temperature         77362 non-null  float64       \n",
      "dtypes: datetime64[ns](1), float64(6), object(2)\n",
      "memory usage: 5.3+ MB\n"
     ]
    }
   ],
   "source": [
    "weather_set_dirty.info()"
   ]
  },
  {
   "cell_type": "code",
   "execution_count": 7,
   "metadata": {
    "collapsed": false,
    "ExecuteTime": {
     "end_time": "2023-05-31T12:40:47.812103Z",
     "start_time": "2023-05-31T12:40:45.645791Z"
    }
   },
   "outputs": [],
   "source": [
    "bike_set_dirty = pd.read_csv('inCSV/metro_2017_2022.csv', sep=',')"
   ]
  },
  {
   "cell_type": "code",
   "execution_count": 8,
   "metadata": {
    "collapsed": false,
    "ExecuteTime": {
     "end_time": "2023-05-31T12:40:49.272738Z",
     "start_time": "2023-05-31T12:40:48.580111Z"
    }
   },
   "outputs": [],
   "source": [
    "bike_set_dirty.sort_values('start_station_id')\n",
    "bike_set_dirty['start_station_lat'].fillna(method=\"ffill\", inplace=True)\n",
    "bike_set_dirty['start_station_lon'].fillna(method=\"ffill\", inplace=True)\n",
    "\n",
    "bike_set_dirty.sort_values('end_station_id')\n",
    "bike_set_dirty['end_station_lat'].fillna(method=\"ffill\", inplace=True)\n",
    "bike_set_dirty['end_station_lon'].fillna(method=\"ffill\", inplace=True)"
   ]
  },
  {
   "cell_type": "code",
   "execution_count": 9,
   "metadata": {
    "collapsed": false,
    "ExecuteTime": {
     "end_time": "2023-05-31T12:40:50.329800Z",
     "start_time": "2023-05-31T12:40:49.820381Z"
    }
   },
   "outputs": [],
   "source": [
    "bike_set_dirty_agg_start = bike_set_dirty.groupby('start_station_id')[['start_station_lat', 'start_station_lon']].agg(lambda x: x.mode().iloc[0])\n",
    "bike_set_dirty_agg_end = bike_set_dirty.groupby('end_station_id')[['end_station_lat', 'end_station_lon']].agg(lambda x: x.mode().iloc[0])"
   ]
  },
  {
   "cell_type": "code",
   "execution_count": 10,
   "metadata": {
    "collapsed": false,
    "ExecuteTime": {
     "end_time": "2023-05-31T12:40:52.080767Z",
     "start_time": "2023-05-31T12:40:50.682181Z"
    }
   },
   "outputs": [
    {
     "name": "stdout",
     "output_type": "stream",
     "text": [
      "<class 'pandas.core.frame.DataFrame'>\n",
      "Int64Index: 1552782 entries, 0 to 1552781\n",
      "Data columns (total 14 columns):\n",
      " #   Column                  Non-Null Count    Dtype  \n",
      "---  ------                  --------------    -----  \n",
      " 0   Unnamed: 0              1552782 non-null  int64  \n",
      " 1   start_time              1552782 non-null  object \n",
      " 2   end_time                1552782 non-null  object \n",
      " 3   start_station_id        1552782 non-null  int64  \n",
      " 4   start_station_lat       1552782 non-null  float64\n",
      " 5   start_station_lon       1552782 non-null  float64\n",
      " 6   end_station_id          1552782 non-null  int64  \n",
      " 7   end_station_lat         1552782 non-null  float64\n",
      " 8   end_station_lon         1552782 non-null  float64\n",
      " 9   bike_id                 1552782 non-null  object \n",
      " 10  start_station_lat_mode  1552782 non-null  float64\n",
      " 11  start_station_lon_mode  1552782 non-null  float64\n",
      " 12  end_station_lat_mode    1552782 non-null  float64\n",
      " 13  end_station_lon_mode    1552782 non-null  float64\n",
      "dtypes: float64(8), int64(3), object(3)\n",
      "memory usage: 177.7+ MB\n"
     ]
    }
   ],
   "source": [
    "bike_set_dirty_merge = bike_set_dirty.merge(bike_set_dirty_agg_start, on='start_station_id', suffixes=('','_mode'))\n",
    "bike_set_dirty_merged = bike_set_dirty_merge.merge(bike_set_dirty_agg_end, on='end_station_id', suffixes=('','_mode'))\n",
    "bike_set_dirty_merged.info()"
   ]
  },
  {
   "cell_type": "code",
   "execution_count": 11,
   "metadata": {
    "collapsed": false,
    "ExecuteTime": {
     "end_time": "2023-05-31T12:44:39.460202Z",
     "start_time": "2023-05-31T12:40:54.336068Z"
    }
   },
   "outputs": [],
   "source": [
    "for i, row in bike_set_dirty_merged.iterrows():\n",
    "    bike_set_dirty_merged.at[i, 'start_station_lat'] = bike_set_dirty_merged.loc[i, 'start_station_lat_mode']\n",
    "    bike_set_dirty_merged.at[i, 'start_station_lon'] = bike_set_dirty_merged.loc[i, 'start_station_lon_mode']\n",
    "    bike_set_dirty_merged.at[i, 'end_station_lat'] = bike_set_dirty_merged.loc[i, 'end_station_lat_mode']\n",
    "    bike_set_dirty_merged.at[i, 'end_station_lon'] = bike_set_dirty_merged.loc[i, 'end_station_lon_mode']"
   ]
  },
  {
   "cell_type": "code",
   "execution_count": 12,
   "metadata": {
    "collapsed": false,
    "ExecuteTime": {
     "end_time": "2023-05-31T12:44:40.499748Z",
     "start_time": "2023-05-31T12:44:39.468348Z"
    }
   },
   "outputs": [
    {
     "name": "stdout",
     "output_type": "stream",
     "text": [
      "<class 'pandas.core.frame.DataFrame'>\n",
      "Int64Index: 1552782 entries, 0 to 1552781\n",
      "Data columns (total 14 columns):\n",
      " #   Column                  Non-Null Count    Dtype  \n",
      "---  ------                  --------------    -----  \n",
      " 0   Unnamed: 0              1552782 non-null  int64  \n",
      " 1   start_time              1552782 non-null  object \n",
      " 2   end_time                1552782 non-null  object \n",
      " 3   start_station_id        1552782 non-null  int64  \n",
      " 4   start_station_lat       1552782 non-null  float64\n",
      " 5   start_station_lon       1552782 non-null  float64\n",
      " 6   end_station_id          1552782 non-null  int64  \n",
      " 7   end_station_lat         1552782 non-null  float64\n",
      " 8   end_station_lon         1552782 non-null  float64\n",
      " 9   bike_id                 1552782 non-null  object \n",
      " 10  start_station_lat_mode  1552782 non-null  float64\n",
      " 11  start_station_lon_mode  1552782 non-null  float64\n",
      " 12  end_station_lat_mode    1552782 non-null  float64\n",
      " 13  end_station_lon_mode    1552782 non-null  float64\n",
      "dtypes: float64(8), int64(3), object(3)\n",
      "memory usage: 210.0+ MB\n"
     ]
    }
   ],
   "source": [
    "bike_set_almost_clean = bike_set_dirty_merged\n",
    "bike_set_almost_clean.info()"
   ]
  },
  {
   "cell_type": "code",
   "execution_count": 13,
   "metadata": {
    "collapsed": false,
    "ExecuteTime": {
     "end_time": "2023-05-31T12:48:13.766825Z",
     "start_time": "2023-05-31T12:45:38.063905Z"
    }
   },
   "outputs": [
    {
     "data": {
      "text/plain": "   Unnamed: 0           start_time             end_time  start_station_id  \\\n0           0  2018-05-29 16:45:00  2018-05-29 17:08:00              3068   \n1         891  2019-08-16 17:12:00  2019-08-16 17:42:00              3068   \n2        1467  2019-01-30 12:22:00  2019-01-30 12:28:00              3068   \n3        6956  2018-05-15 08:23:00  2018-05-15 08:30:00              3068   \n4       11733  2018-11-03 18:30:00  2018-11-03 18:51:00              3068   \n\n   start_station_lat  start_station_lon  end_station_id  end_station_lat  \\\n0            34.0532        -118.250954            3014         34.05661   \n1            34.0532        -118.250954            3014         34.05661   \n2            34.0532        -118.250954            3014         34.05661   \n3            34.0532        -118.250954            3014         34.05661   \n4            34.0532        -118.250954            3014         34.05661   \n\n   end_station_lon bike_id  start_station_lat_mode  start_station_lon_mode  \\\n0      -118.237213    5772                 34.0532             -118.250954   \n1      -118.237213   16618                 34.0532             -118.250954   \n2      -118.237213   06358                 34.0532             -118.250954   \n3      -118.237213    6144                 34.0532             -118.250954   \n4      -118.237213    5860                 34.0532             -118.250954   \n\n   end_station_lat_mode  end_station_lon_mode  \n0              34.05661           -118.237213  \n1              34.05661           -118.237213  \n2              34.05661           -118.237213  \n3              34.05661           -118.237213  \n4              34.05661           -118.237213  ",
      "text/html": "<div>\n<style scoped>\n    .dataframe tbody tr th:only-of-type {\n        vertical-align: middle;\n    }\n\n    .dataframe tbody tr th {\n        vertical-align: top;\n    }\n\n    .dataframe thead th {\n        text-align: right;\n    }\n</style>\n<table border=\"1\" class=\"dataframe\">\n  <thead>\n    <tr style=\"text-align: right;\">\n      <th></th>\n      <th>Unnamed: 0</th>\n      <th>start_time</th>\n      <th>end_time</th>\n      <th>start_station_id</th>\n      <th>start_station_lat</th>\n      <th>start_station_lon</th>\n      <th>end_station_id</th>\n      <th>end_station_lat</th>\n      <th>end_station_lon</th>\n      <th>bike_id</th>\n      <th>start_station_lat_mode</th>\n      <th>start_station_lon_mode</th>\n      <th>end_station_lat_mode</th>\n      <th>end_station_lon_mode</th>\n    </tr>\n  </thead>\n  <tbody>\n    <tr>\n      <th>0</th>\n      <td>0</td>\n      <td>2018-05-29 16:45:00</td>\n      <td>2018-05-29 17:08:00</td>\n      <td>3068</td>\n      <td>34.0532</td>\n      <td>-118.250954</td>\n      <td>3014</td>\n      <td>34.05661</td>\n      <td>-118.237213</td>\n      <td>5772</td>\n      <td>34.0532</td>\n      <td>-118.250954</td>\n      <td>34.05661</td>\n      <td>-118.237213</td>\n    </tr>\n    <tr>\n      <th>1</th>\n      <td>891</td>\n      <td>2019-08-16 17:12:00</td>\n      <td>2019-08-16 17:42:00</td>\n      <td>3068</td>\n      <td>34.0532</td>\n      <td>-118.250954</td>\n      <td>3014</td>\n      <td>34.05661</td>\n      <td>-118.237213</td>\n      <td>16618</td>\n      <td>34.0532</td>\n      <td>-118.250954</td>\n      <td>34.05661</td>\n      <td>-118.237213</td>\n    </tr>\n    <tr>\n      <th>2</th>\n      <td>1467</td>\n      <td>2019-01-30 12:22:00</td>\n      <td>2019-01-30 12:28:00</td>\n      <td>3068</td>\n      <td>34.0532</td>\n      <td>-118.250954</td>\n      <td>3014</td>\n      <td>34.05661</td>\n      <td>-118.237213</td>\n      <td>06358</td>\n      <td>34.0532</td>\n      <td>-118.250954</td>\n      <td>34.05661</td>\n      <td>-118.237213</td>\n    </tr>\n    <tr>\n      <th>3</th>\n      <td>6956</td>\n      <td>2018-05-15 08:23:00</td>\n      <td>2018-05-15 08:30:00</td>\n      <td>3068</td>\n      <td>34.0532</td>\n      <td>-118.250954</td>\n      <td>3014</td>\n      <td>34.05661</td>\n      <td>-118.237213</td>\n      <td>6144</td>\n      <td>34.0532</td>\n      <td>-118.250954</td>\n      <td>34.05661</td>\n      <td>-118.237213</td>\n    </tr>\n    <tr>\n      <th>4</th>\n      <td>11733</td>\n      <td>2018-11-03 18:30:00</td>\n      <td>2018-11-03 18:51:00</td>\n      <td>3068</td>\n      <td>34.0532</td>\n      <td>-118.250954</td>\n      <td>3014</td>\n      <td>34.05661</td>\n      <td>-118.237213</td>\n      <td>5860</td>\n      <td>34.0532</td>\n      <td>-118.250954</td>\n      <td>34.05661</td>\n      <td>-118.237213</td>\n    </tr>\n  </tbody>\n</table>\n</div>"
     },
     "execution_count": 13,
     "metadata": {},
     "output_type": "execute_result"
    }
   ],
   "source": [
    "from datetime import datetime\n",
    "dateformat0 = \"%H/%M/%S %d-%m-%Y\"\n",
    "dateformat1 = \"%Y-%m-%d %H:%M:%S\"\n",
    "for i, row in bike_set_almost_clean.iterrows():\n",
    "    try:\n",
    "        bike_set_almost_clean.at[i, 'start_time'] = datetime.strptime(bike_set_almost_clean.loc[i, 'start_time'], dateformat0)\n",
    "    except ValueError:\n",
    "        bike_set_almost_clean.at[i, 'start_time'] = datetime.strptime(bike_set_almost_clean.loc[i, 'start_time'], dateformat1)\n",
    "    try:\n",
    "        bike_set_almost_clean.at[i, 'end_time'] = datetime.strptime(bike_set_almost_clean.loc[i, 'end_time'], dateformat0)\n",
    "    except ValueError:\n",
    "        bike_set_almost_clean.at[i, 'end_time'] = datetime.strptime(bike_set_almost_clean.loc[i, 'end_time'], dateformat1)\n",
    "bike_set_almost_clean.head()"
   ]
  },
  {
   "cell_type": "code",
   "execution_count": 14,
   "metadata": {
    "collapsed": false,
    "ExecuteTime": {
     "end_time": "2023-05-31T12:48:20.798125Z",
     "start_time": "2023-05-31T12:48:19.962605Z"
    }
   },
   "outputs": [
    {
     "name": "stdout",
     "output_type": "stream",
     "text": [
      "<class 'pandas.core.frame.DataFrame'>\n",
      "Int64Index: 1552782 entries, 0 to 1552781\n",
      "Data columns (total 10 columns):\n",
      " #   Column             Non-Null Count    Dtype  \n",
      "---  ------             --------------    -----  \n",
      " 0   Unnamed: 0         1552782 non-null  int64  \n",
      " 1   start_time         1552782 non-null  object \n",
      " 2   end_time           1552782 non-null  object \n",
      " 3   start_station_id   1552782 non-null  int64  \n",
      " 4   start_station_lat  1552782 non-null  float64\n",
      " 5   start_station_lon  1552782 non-null  float64\n",
      " 6   end_station_id     1552782 non-null  int64  \n",
      " 7   end_station_lat    1552782 non-null  float64\n",
      " 8   end_station_lon    1552782 non-null  float64\n",
      " 9   bike_id            1552782 non-null  object \n",
      "dtypes: float64(4), int64(3), object(3)\n",
      "memory usage: 162.6+ MB\n"
     ]
    }
   ],
   "source": [
    "bike_set_clean = bike_set_almost_clean.drop(['start_station_lat_mode', 'start_station_lon_mode', 'end_station_lat_mode', 'end_station_lon_mode'], axis=1)\n",
    "bike_set_clean.info()"
   ]
  },
  {
   "cell_type": "code",
   "execution_count": 15,
   "metadata": {
    "collapsed": false,
    "ExecuteTime": {
     "end_time": "2023-05-31T12:48:22.414451Z",
     "start_time": "2023-05-31T12:48:21.889175Z"
    }
   },
   "outputs": [
    {
     "name": "stdout",
     "output_type": "stream",
     "text": [
      "<class 'pandas.core.frame.DataFrame'>\n",
      "Int64Index: 1552782 entries, 0 to 1552781\n",
      "Data columns (total 10 columns):\n",
      " #   Column             Non-Null Count    Dtype         \n",
      "---  ------             --------------    -----         \n",
      " 0   Unnamed: 0         1552782 non-null  int64         \n",
      " 1   start_time         1552782 non-null  datetime64[ns]\n",
      " 2   end_time           1552782 non-null  object        \n",
      " 3   start_station_id   1552782 non-null  int64         \n",
      " 4   start_station_lat  1552782 non-null  float64       \n",
      " 5   start_station_lon  1552782 non-null  float64       \n",
      " 6   end_station_id     1552782 non-null  int64         \n",
      " 7   end_station_lat    1552782 non-null  float64       \n",
      " 8   end_station_lon    1552782 non-null  float64       \n",
      " 9   bike_id            1552782 non-null  object        \n",
      "dtypes: datetime64[ns](1), float64(4), int64(3), object(2)\n",
      "memory usage: 162.6+ MB\n"
     ]
    }
   ],
   "source": [
    "bike_set_clean['start_time'] = pd.to_datetime(bike_set_almost_clean['start_time'], format=\"%Y-%m-%d %H:%M:%S\")\n",
    "bike_set_clean.info()"
   ]
  },
  {
   "cell_type": "code",
   "execution_count": 16,
   "metadata": {
    "collapsed": false,
    "ExecuteTime": {
     "end_time": "2023-05-31T12:48:23.553540Z",
     "start_time": "2023-05-31T12:48:22.993348Z"
    }
   },
   "outputs": [
    {
     "name": "stdout",
     "output_type": "stream",
     "text": [
      "<class 'pandas.core.frame.DataFrame'>\n",
      "Int64Index: 1552782 entries, 0 to 1552781\n",
      "Data columns (total 10 columns):\n",
      " #   Column             Non-Null Count    Dtype         \n",
      "---  ------             --------------    -----         \n",
      " 0   Unnamed: 0         1552782 non-null  int64         \n",
      " 1   start_time         1552782 non-null  datetime64[ns]\n",
      " 2   end_time           1552782 non-null  datetime64[ns]\n",
      " 3   start_station_id   1552782 non-null  int64         \n",
      " 4   start_station_lat  1552782 non-null  float64       \n",
      " 5   start_station_lon  1552782 non-null  float64       \n",
      " 6   end_station_id     1552782 non-null  int64         \n",
      " 7   end_station_lat    1552782 non-null  float64       \n",
      " 8   end_station_lon    1552782 non-null  float64       \n",
      " 9   bike_id            1552782 non-null  object        \n",
      "dtypes: datetime64[ns](2), float64(4), int64(3), object(1)\n",
      "memory usage: 162.6+ MB\n"
     ]
    }
   ],
   "source": [
    "bike_set_clean['end_time'] = pd.to_datetime(bike_set_almost_clean['end_time'], format=\"%Y-%m-%d %H:%M:%S\")\n",
    "bike_set_clean.info()"
   ]
  },
  {
   "cell_type": "code",
   "execution_count": 17,
   "metadata": {
    "collapsed": false,
    "ExecuteTime": {
     "end_time": "2023-05-31T12:48:38.927746Z",
     "start_time": "2023-05-31T12:48:24.019014Z"
    }
   },
   "outputs": [],
   "source": [
    "bike_set_clean.to_csv('outCSV/Clean_Metro_Set.csv')"
   ]
  },
  {
   "cell_type": "code",
   "execution_count": null,
   "outputs": [],
   "source": [],
   "metadata": {
    "collapsed": false
   }
  }
 ],
 "metadata": {
  "kernelspec": {
   "display_name": "Python 3",
   "language": "python",
   "name": "python3"
  },
  "language_info": {
   "codemirror_mode": {
    "name": "ipython",
    "version": 2
   },
   "file_extension": ".py",
   "mimetype": "text/x-python",
   "name": "python",
   "nbconvert_exporter": "python",
   "pygments_lexer": "ipython2",
   "version": "2.7.6"
  }
 },
 "nbformat": 4,
 "nbformat_minor": 0
}
