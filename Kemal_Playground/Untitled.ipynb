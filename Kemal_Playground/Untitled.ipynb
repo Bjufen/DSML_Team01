{
 "cells": [
  {
   "cell_type": "code",
   "execution_count": 1,
   "id": "29f535c4",
   "metadata": {
    "ExecuteTime": {
     "end_time": "2023-05-31T07:06:09.459498Z",
     "start_time": "2023-05-31T07:06:07.998711Z"
    }
   },
   "outputs": [],
   "source": [
    "import pandas as pd\n",
    "import numpy as np"
   ]
  },
  {
   "cell_type": "markdown",
   "id": "76f78128",
   "metadata": {},
   "source": [
    "### Prepare the location-dataset\n",
    "First, we need to prepare the dataset, as most of the data (or columns) we won't need. To decide whether an entry (or location) is part of our interest, we shall only consider the geographic data and \"amenity\" of the location. Later on, we will also filter the locations out which have attributes that do not really have a logical cohesion with our bike-rental data."
   ]
  },
  {
   "cell_type": "code",
   "execution_count": 2,
   "id": "96d5c5a3",
   "metadata": {
    "ExecuteTime": {
     "end_time": "2023-05-31T07:08:04.335144Z",
     "start_time": "2023-05-31T07:08:02.348739Z"
    }
   },
   "outputs": [
    {
     "name": "stderr",
     "output_type": "stream",
     "text": [
      "/var/folders/_v/6rn4knv13fs88z1_74ms8bk40000gn/T/ipykernel_29022/3062912576.py:5: FutureWarning: In a future version of pandas all arguments of DataFrame.dropna will be keyword-only.\n",
      "  POI1 = POI.dropna(0).drop_duplicates().copy()\n"
     ]
    }
   ],
   "source": [
    "# we create two \"versions\" of our datasets, one which only includes entries with a name and an amenity. And one \n",
    "# where entries might have no name, but have to be assigned an amenity. Let's compare the two:\n",
    "LA = pd.read_csv(\"csv/POIs.csv\", dtype = str)\n",
    "POI = LA[[\"name\", \"lon\", \"lat\", \"amenity\"]]\n",
    "POI1 = POI.dropna(0).drop_duplicates().copy()\n",
    "POI2 = POI[POI[\"amenity\"].notna()].drop_duplicates().copy()"
   ]
  },
  {
   "cell_type": "code",
   "execution_count": 3,
   "id": "56b83d76",
   "metadata": {
    "ExecuteTime": {
     "end_time": "2023-05-31T07:08:06.916146Z",
     "start_time": "2023-05-31T07:08:06.902369Z"
    }
   },
   "outputs": [
    {
     "name": "stdout",
     "output_type": "stream",
     "text": [
      "PO1-Size: 34701.0\n",
      "POI2-Size:  77125.0\n"
     ]
    }
   ],
   "source": [
    "# We divide through 4, as we have 4 columns/attributes per entry\n",
    "print(\"PO1-Size:\", POI1.size/4)\n",
    "print(\"POI2-Size: \", POI2.size/4)"
   ]
  },
  {
   "cell_type": "markdown",
   "id": "a5c38127",
   "metadata": {},
   "source": [
    "What's interesting, is that POI2 has a much bigger row-count. Let's check why that is."
   ]
  },
  {
   "cell_type": "code",
   "execution_count": 13,
   "id": "5c83dee2",
   "metadata": {
    "ExecuteTime": {
     "end_time": "2023-05-31T08:13:05.448447Z",
     "start_time": "2023-05-31T08:13:05.441776Z"
    }
   },
   "outputs": [
    {
     "name": "stdout",
     "output_type": "stream",
     "text": [
      "POI1-Amenity: ['studio' 'fast_food' 'fast_food' ... 'ice_cream' 'bank' 'fast_food'] \n",
      "POI2-Amenity: ['toilets' 'parking' 'studio' ... 'university' 'social_facility'\n",
      " 'place_of_worship']\n"
     ]
    }
   ],
   "source": [
    "poi1amenity = POI1[\"amenity\"].to_numpy()\n",
    "poi2amenity = POI2[\"amenity\"].to_numpy()\n",
    "print(\"POI1-Amenity:\", poi1amenity,\n",
    "      \"\\nPOI2-Amenity:\", poi2amenity)"
   ]
  },
  {
   "cell_type": "markdown",
   "id": "ecb9254a",
   "metadata": {},
   "source": [
    "As we can see, POI2 includes entries f.e. with amenities like \"toilets\" or \"parking\". These additional entries can give us an insight into how many of our bike renters also use cars, for example. It would not be very smart to just don't consider these values, so I will continue to work with POI2, instead."
   ]
  },
  {
   "cell_type": "markdown",
   "id": "57a04cea",
   "metadata": {},
   "source": [
    "As I am not going to remove any entries from my table, I still want to know what sort of locations I have stored in my DF, so I will check my \"amenity\"-column exactly for an insight into interesting data. Later on, we can filter out any data we don't consider useful for our analysis."
   ]
  },
  {
   "cell_type": "code",
   "execution_count": 15,
   "id": "95d4162e",
   "metadata": {
    "ExecuteTime": {
     "end_time": "2023-05-31T08:19:06.611827Z",
     "start_time": "2023-05-31T08:19:06.609358Z"
    }
   },
   "outputs": [
    {
     "name": "stdout",
     "output_type": "stream",
     "text": [
      "['Addiction Treatment' 'Aviation Laboratory' 'Casting_Center'\n",
      " 'Comfort Shoe Store' 'Commercial Printer' 'Elementary School'\n",
      " 'Festival_Grounds' 'Lockers' 'Open Green Area' 'Skincare'\n",
      " 'Solar Panel Installation' 'Website Designer' 'Window Treatments'\n",
      " 'acting_school' 'amphitheater' 'amphitheatre' 'animal_boarding'\n",
      " 'animal_breeding' 'animal_shelter' 'animal_training' 'apartment' 'arcade'\n",
      " 'archive' 'art_gallery' 'art_school' 'art_work' 'arts_centre' 'ash_tray'\n",
      " 'assisted_living;skilled_nursing_facility' 'atm' 'audiologist'\n",
      " 'auditorium' 'auto_towing' 'baby_hatch' 'bandstand' 'bank'\n",
      " 'bank;fire_station;fast_food' 'bar' 'batting_cage' 'bbq' 'bear_box'\n",
      " 'bench' 'bicycle_parking' 'bicycle_rental' 'bicycle_repair_station'\n",
      " 'biergarten' 'bikelane' 'binoculars' 'bleachers' 'boat_rental'\n",
      " 'boat_sharing' 'boat_storage' 'book_dropoff' 'book_return'\n",
      " 'bowling alley' 'brothel' 'bureau_de_change' 'bus_station'\n",
      " 'business_center' 'cafe' 'canteen' 'car_pooling' 'car_rental'\n",
      " 'car_sharing' 'car_wash' 'car_wash;car_detail;oil_change' 'casino'\n",
      " 'charging' 'charging_station' 'charity_donation' 'check_cashing'\n",
      " 'check_in' 'childcare' 'church' 'cinema' 'clinic' 'clock' 'club'\n",
      " 'clubhouse' 'coast_guard' 'coffee' 'coin dealer' 'college'\n",
      " 'college;place_of_worship' 'comedy_club' 'community_centre'\n",
      " 'community_centre;school' 'compressed_air' 'concert_hall'\n",
      " 'conference_centre' 'construction' 'convenience_store'\n",
      " 'convention_centre' 'cooking_school' 'corral' 'counter' 'courthouse'\n",
      " 'courthouse;library' 'coworking_space' 'coworking_space;daycare'\n",
      " 'crematorium' 'crypt' 'dancing_school' 'dentist'\n",
      " 'device_charging_station' 'dispatch_center' 'dispensary' 'disused'\n",
      " 'dive_centre' 'doctors' 'doctors;school' 'dog_toilet' 'dojo' 'donation'\n",
      " 'dressing_room' 'drinking_water' 'driver_training' 'driving_school'\n",
      " 'educational_facility' 'electronic_repair' 'em' 'escooter_rental'\n",
      " 'events_venue' 'exercise_point' 'exhibition_centre' 'family_planning'\n",
      " 'fast_food' 'fast_food;bicycle_rental' 'ferry_terminal' 'field_shelter'\n",
      " 'fire_station' 'fire_station;prison' 'firing_range' 'first_aid' 'fixme'\n",
      " 'flight_school' 'food_court' 'fountain' 'fuel' 'fuel;atm' 'fuel;car_wash'\n",
      " 'fuel;convenience_store' 'fuel;convenience_store;car_wash' 'gambling'\n",
      " 'garden' 'gazebo' 'ghost_kitchen' 'give_box' 'gold_exchange' 'grave_yard'\n",
      " 'guest_relations' 'healthcare' 'hitching_post' 'ho' 'hookah_bar'\n",
      " 'hookah_lounge' 'hooklah_lounge' 'horse_hitch' 'hospital' 'hydrant'\n",
      " 'ice_cream' 'industrial' 'internet_cafe' 'juice bar' 'juice_bar'\n",
      " 'karaoke_box' 'kick-scooter_rental' 'kindergarten' 'kitchen'\n",
      " 'language_school' 'laundry' 'laundry_room;mail_box;gym' 'letter_box'\n",
      " 'level_crossing' 'library' 'library_dropoff' 'lifeguard' 'loading_dock'\n",
      " 'local yarn shop' 'locker' 'lockers' 'lounger' 'love_hotel' 'mail room'\n",
      " 'mailroom' 'manhole' 'map' 'marketplace' 'mausoleum' 'meditation_centre'\n",
      " 'monastery' 'money_transfer' 'mortuary' 'motorcycle_parking'\n",
      " 'motorcycle_rental' 'mountain_rescue' 'museum' 'music_school'\n",
      " 'music_venue' 'nightclub' 'nursing_home' 'office' 'orthodontist'\n",
      " 'outdoor_seating' 'overflow parking' 'package_room' 'package_services'\n",
      " 'paddleshop' 'palmist' 'parcel_locker' 'parking' 'parking;school'\n",
      " 'parking;theatre' 'parking_entrance' 'parking_space' 'payment_centre'\n",
      " 'payment_terminal' 'pet' 'pharmacy' 'photo_booth' 'pier'\n",
      " 'place_of_worship' 'planetarium' 'playground' 'police' 'polling_station'\n",
      " 'post_box' 'post_depot' 'post_office' 'pre_school;day_care' 'prep_school'\n",
      " 'prison' 'psychic' 'pub' 'public_bath' 'public_bookcase'\n",
      " 'public_building' 'public_transport_tickets' 'radio_station' 'railway'\n",
      " 'ranger_station' 'reception_desk' 'recycling' 'refugee_site' 'research'\n",
      " 'research_institute' 'restaurant' 'retirement_home' 'rv_storage' 'salon'\n",
      " 'sanitary_dump_station' 'school' 'school;place_of_worship'\n",
      " 'scooter_share' 'security_booth' 'security_control' 'self_storage'\n",
      " 'shelter' 'shirlpool' 'shower' 'sign' 'skateboard_parking' 'ski_rental'\n",
      " 'ski_school' 'smoke_shop' 'smoking_area' 'snack' 'snack_cart'\n",
      " 'snack_stand' 'social_centre' 'social_club' 'social_facility' 'spa'\n",
      " 'sport' 'stables' 'stage' 'stor' 'storage' 'store' 'strip_club'\n",
      " 'stripclub' 'stripclub;bar' 'stroller_rental' 'student_accommodation'\n",
      " 'studio' 'summer camp' 'sun_shelter' 'surface' 'table' 'taxi' 'telephone'\n",
      " 'theatre' 'ticket_booth' 'ticket_validator' 'toilets' 'townhall'\n",
      " 'trade_school' 'trailer park' 'trailer_park' 'training' 'trolley_bay'\n",
      " 'truck_parking' 'truck_stop' 'turn_stile' 'tutoring_centre' 'university'\n",
      " 'urgent_care' 'vacuum_cleaner' 'vehicle_inspection' 'vending_machine'\n",
      " 'veterinary' 'veterinary_pharmacy' 'waiting_area' 'washing_machine'\n",
      " 'waste_basket' 'waste_basket;recycling' 'waste_basket;vending_machine'\n",
      " 'waste_disposal' 'waste_transfer_station' 'water_dispenser' 'water_point'\n",
      " 'water_slide' 'waterfall' 'watering_place'\n",
      " 'watering_place;drinking_water' 'wedding_chapel' 'weighbridge'\n",
      " 'wheelchair_rental' 'whirlpool' 'yacht_club']\n"
     ]
    }
   ],
   "source": [
    "#Here I extract the \"amenity\" column, convert it into a numPy array and then sort out the redundant data with np.unique\n",
    "amenity = np.unique(POI2[\"amenity\"].to_numpy())\n",
    "print(amenity)"
   ]
  },
  {
   "cell_type": "markdown",
   "id": "8253c854",
   "metadata": {},
   "source": [
    "#### Extended Cleansing\n",
    "As some of the amenity-entries are not 1:1 the same but very similar, we are going to \"join\" some og the attributes, as listed below. Also, I am creating a \"relevants\" Series for later use."
   ]
  },
  {
   "cell_type": "code",
   "execution_count": 27,
   "outputs": [
    {
     "name": "stdout",
     "output_type": "stream",
     "text": [
      "['Addiction Treatment' 'Aviation Laboratory' 'Casting_Center'\n",
      " 'Comfort Shoe Store' 'Commercial Printer' 'Elementary School'\n",
      " 'Festival_Grounds' 'Lockers' 'Open Green Area' 'Skincare'\n",
      " 'Solar Panel Installation' 'Website Designer' 'Window Treatments'\n",
      " 'acting_school' 'amphitheater' 'amphitheatre' 'animal_boarding'\n",
      " 'animal_breeding' 'animal_shelter' 'animal_training' 'apartment' 'arcade'\n",
      " 'archive' 'art_gallery' 'art_school' 'art_work' 'arts_centre' 'ash_tray'\n",
      " 'assisted_living;skilled_nursing_facility' 'atm' 'audiologist'\n",
      " 'auditorium' 'auto_towing' 'baby_hatch' 'bandstand' 'bank'\n",
      " 'bank;fire_station;fast_food' 'bar' 'batting_cage' 'bbq' 'bear_box'\n",
      " 'bench' 'bicycle_parking' 'bicycle_rental' 'bicycle_repair_station'\n",
      " 'biergarten' 'bikelane' 'binoculars' 'bleachers' 'boat_rental'\n",
      " 'boat_sharing' 'boat_storage' 'book_dropoff' 'book_return'\n",
      " 'bowling alley' 'brothel' 'bureau_de_change' 'bus_station'\n",
      " 'business_center' 'cafe' 'canteen' 'car_pooling' 'car_rental'\n",
      " 'car_sharing' 'car_wash' 'car_wash;car_detail;oil_change' 'casino'\n",
      " 'charging' 'charging_station' 'charity_donation' 'check_cashing'\n",
      " 'check_in' 'childcare' 'church' 'cinema' 'clinic' 'clock' 'club'\n",
      " 'clubhouse' 'coast_guard' 'coffee' 'coin dealer' 'college'\n",
      " 'college;place_of_worship' 'comedy_club' 'community_centre'\n",
      " 'community_centre;school' 'compressed_air' 'concert_hall'\n",
      " 'conference_centre' 'construction' 'convenience_store'\n",
      " 'convention_centre' 'cooking_school' 'corral' 'counter' 'courthouse'\n",
      " 'courthouse;library' 'coworking_space' 'coworking_space;daycare'\n",
      " 'crematorium' 'crypt' 'dancing_school' 'dentist'\n",
      " 'device_charging_station' 'dispatch_center' 'dispensary' 'disused'\n",
      " 'dive_centre' 'doctors' 'doctors;school' 'dog_toilet' 'dojo' 'donation'\n",
      " 'dressing_room' 'drinking_water' 'driver_training' 'driving_school'\n",
      " 'educational_facility' 'electronic_repair' 'em' 'escooter_rental'\n",
      " 'events_venue' 'exercise_point' 'exhibition_centre' 'family_planning'\n",
      " 'fast_food' 'fast_food;bicycle_rental' 'ferry_terminal' 'field_shelter'\n",
      " 'fire_station' 'fire_station;prison' 'firing_range' 'first_aid' 'fixme'\n",
      " 'flight_school' 'food_court' 'fountain' 'fuel' 'fuel;atm' 'fuel;car_wash'\n",
      " 'fuel;convenience_store' 'fuel;convenience_store;car_wash' 'gambling'\n",
      " 'garden' 'gazebo' 'ghost_kitchen' 'give_box' 'gold_exchange' 'grave_yard'\n",
      " 'guest_relations' 'healthcare' 'hitching_post' 'ho' 'hookah_bar'\n",
      " 'hookah_lounge' 'hooklah_lounge' 'horse_hitch' 'hospital' 'hydrant'\n",
      " 'ice_cream' 'industrial' 'internet_cafe' 'juice_bar' 'karaoke_box'\n",
      " 'kick-scooter_rental' 'kindergarten' 'kitchen' 'language_school'\n",
      " 'laundry' 'laundry_room;mail_box;gym' 'letter_box' 'level_crossing'\n",
      " 'library' 'library_dropoff' 'lifeguard' 'loading_dock' 'local yarn shop'\n",
      " 'lockers' 'lounger' 'love_hotel' 'mailroom' 'manhole' 'map' 'marketplace'\n",
      " 'mausoleum' 'meditation_centre' 'monastery' 'money_transfer' 'mortuary'\n",
      " 'motorcycle_parking' 'motorcycle_rental' 'mountain_rescue' 'museum'\n",
      " 'music_school' 'music_venue' 'nightclub' 'nursing_home' 'office'\n",
      " 'orthodontist' 'outdoor_seating' 'overflow parking' 'package_room'\n",
      " 'package_services' 'paddleshop' 'palmist' 'parcel_locker' 'parking'\n",
      " 'parking;school' 'parking;theatre' 'parking_entrance' 'parking_space'\n",
      " 'payment_centre' 'payment_terminal' 'pet' 'pharmacy' 'photo_booth' 'pier'\n",
      " 'place_of_worship' 'planetarium' 'playground' 'police' 'polling_station'\n",
      " 'post_box' 'post_depot' 'post_office' 'pre_school;day_care' 'prep_school'\n",
      " 'prison' 'psychic' 'pub' 'public_bath' 'public_bookcase'\n",
      " 'public_building' 'public_transport_tickets' 'radio_station' 'railway'\n",
      " 'ranger_station' 'reception_desk' 'recycling' 'refugee_site' 'research'\n",
      " 'research_institute' 'restaurant' 'retirement_home' 'rv_storage' 'salon'\n",
      " 'sanitary_dump_station' 'school' 'school;place_of_worship'\n",
      " 'scooter_share' 'security_booth' 'security_control' 'self_storage'\n",
      " 'shelter' 'shirlpool' 'shower' 'sign' 'skateboard_parking' 'ski_rental'\n",
      " 'ski_school' 'smoke_shop' 'smoking_area' 'snack' 'snack_cart'\n",
      " 'snack_stand' 'social_centre' 'social_club' 'social_facility' 'spa'\n",
      " 'sport' 'stables' 'stage' 'stor' 'storage' 'store' 'strip_club'\n",
      " 'stripclub' 'stripclub;bar' 'stroller_rental' 'student_accommodation'\n",
      " 'studio' 'summer camp' 'sun_shelter' 'surface' 'table' 'taxi' 'telephone'\n",
      " 'theatre' 'ticket_booth' 'ticket_validator' 'toilets' 'townhall'\n",
      " 'trade_school' 'trailer park' 'trailer_park' 'training' 'trolley_bay'\n",
      " 'truck_parking' 'truck_stop' 'turn_stile' 'tutoring_centre' 'university'\n",
      " 'urgent_care' 'vacuum_cleaner' 'vehicle_inspection' 'vending_machine'\n",
      " 'veterinary' 'veterinary_pharmacy' 'waiting_area' 'washing_machine'\n",
      " 'waste_basket' 'waste_basket;recycling' 'waste_basket;vending_machine'\n",
      " 'waste_disposal' 'waste_transfer_station' 'water_dispenser' 'water_point'\n",
      " 'water_slide' 'waterfall' 'watering_place'\n",
      " 'watering_place;drinking_water' 'wedding_chapel' 'weighbridge'\n",
      " 'wheelchair_rental' 'whirlpool' 'yacht_club']\n"
     ]
    }
   ],
   "source": [
    "##For now, I will store especially interesting data in a List, so later on we can use it for looking at the most relevant data isolated.\n",
    "relevants = ['bicycle_parking', 'bicycle_rental', 'bicycle_repair_station', 'bikelane', 'car_rental', 'car_sharing', 'car_pooling', 'motorcycle_parking', 'motorcycle_rental', 'student_accommodation', ]\n",
    "##'ampitheater' = 'ampitheatre'\n",
    "#'hookah lounge' = 'hooklah lounge'\n",
    "#'juice bar' = 'juice_bar'\n",
    "#'locker' = 'lockers'\n",
    "#'mail room' = 'mailroom'\n",
    "#'strip club' = 'stripclub''\n",
    "POI2.loc[POI2['amenity']=='ampitheater', 'amenity'] = 'ampitheatre'\n",
    "POI2.loc[POI2['amenity']== \"juice bar\", 'amenity'] = 'juice_bar'\n",
    "POI2.loc[POI2['amenity']== \"hooklah lounge\", 'amenity'] = 'hookah lounge'\n",
    "POI2.loc[POI2['amenity']== \"locker\", 'amenity'] = 'lockers'\n",
    "POI2.loc[POI2['amenity']== \"mail room\", 'amenity'] = 'mailroom'\n",
    "POI2.loc[POI2['amenity']== \"juice bar\", 'amenity'] = 'juice_bar'\n",
    "POI2.loc[POI2['amenity']== \"strip club\", 'amenity'] = 'stripclub'\n",
    "\n",
    "amenity = np.unique(POI2[\"amenity\"].to_numpy())\n",
    "print(amenity)"
   ],
   "metadata": {
    "collapsed": false,
    "ExecuteTime": {
     "end_time": "2023-05-31T08:54:04.069442Z",
     "start_time": "2023-05-31T08:54:04.029788Z"
    }
   }
  },
  {
   "cell_type": "code",
   "execution_count": null,
   "outputs": [],
   "source": [],
   "metadata": {
    "collapsed": false
   }
  }
 ],
 "metadata": {
  "kernelspec": {
   "name": "base",
   "language": "python",
   "display_name": "base"
  },
  "language_info": {
   "codemirror_mode": {
    "name": "ipython",
    "version": 3
   },
   "file_extension": ".py",
   "mimetype": "text/x-python",
   "name": "python",
   "nbconvert_exporter": "python",
   "pygments_lexer": "ipython3",
   "version": "3.10.10"
  }
 },
 "nbformat": 4,
 "nbformat_minor": 5
}
