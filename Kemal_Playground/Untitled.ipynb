{
 "cells": [
  {
   "cell_type": "code",
   "execution_count": 1,
   "id": "29f535c4",
   "metadata": {},
   "outputs": [],
   "source": [
    "import pandas as pd\n",
    "import numpy as np"
   ]
  },
  {
   "cell_type": "markdown",
   "id": "76f78128",
   "metadata": {},
   "source": [
    "### Prepare the location-dataset\n",
    "First, we need to prepare the dataset, as most of the data (or columns) we won't need. To decide whether an entry (or location) is part of our interest, we shall only consider the geographic data and \"amenity\" of the location. Later on, we will also filter the locations out which have attributes that do not really have a logical cohesion with our bike-rental data."
   ]
  },
  {
   "cell_type": "code",
   "execution_count": 63,
   "id": "96d5c5a3",
   "metadata": {},
   "outputs": [
    {
     "name": "stderr",
     "output_type": "stream",
     "text": [
      "/var/folders/_v/6rn4knv13fs88z1_74ms8bk40000gn/T/ipykernel_38428/2557549062.py:5: FutureWarning: In a future version of pandas all arguments of DataFrame.dropna will be keyword-only.\n",
      "  POI1 = POI.dropna(0).drop_duplicates().copy()\n"
     ]
    }
   ],
   "source": [
    "# we create two \"versions\" of our datasets, one which only includes entries with a name and an amenity. And one \n",
    "# where entries might have no name, but have to be assigned an amenity. Let's compare the two:\n",
    "LA = pd.read_csv(\"csv/POIs.csv\", dtype = str)\n",
    "POI = LA[[\"name\", \"lon\", \"lat\", \"amenity\"]]\n",
    "POI1 = POI.dropna(0).drop_duplicates().copy()\n",
    "POI2 = POI[POI[\"amenity\"].notna()].drop_duplicates().copy()"
   ]
  },
  {
   "cell_type": "code",
   "execution_count": 64,
   "id": "56b83d76",
   "metadata": {},
   "outputs": [
    {
     "name": "stdout",
     "output_type": "stream",
     "text": [
      "PO1-Size: 34701.0\n",
      "POI2-Size:  77125.0\n"
     ]
    }
   ],
   "source": [
    "# We divide through 4, as we have 4 columns/attributes per entry\n",
    "print(\"PO1-Size:\", POI1.size/4)\n",
    "print(\"POI2-Size: \", POI2.size/4)"
   ]
  },
  {
   "cell_type": "markdown",
   "id": "a5c38127",
   "metadata": {},
   "source": [
    "What's interesting, is that POI2 has a much bigger value-count. Let's check why that is."
   ]
  },
  {
   "cell_type": "code",
   "execution_count": 96,
   "id": "5c83dee2",
   "metadata": {},
   "outputs": [
    {
     "name": "stdout",
     "output_type": "stream",
     "text": [
      "['studio' 'fast_food' 'fast_food' ... 'ice_cream' 'bank' 'fast_food'] ['toilets' 'parking' 'studio' ... 'university' 'social_facility'\n",
      " 'place_of_worship']\n"
     ]
    }
   ],
   "source": [
    "poi1amenity = POI1[\"amenity\"].to_numpy()\n",
    "poi2amenity = POI2[\"amenity\"].to_numpy()\n",
    "print(poi1amenity, poi2amenity)"
   ]
  },
  {
   "cell_type": "code",
   "execution_count": null,
   "id": "b5f13879",
   "metadata": {},
   "outputs": [],
   "source": []
  },
  {
   "cell_type": "markdown",
   "id": "ecb9254a",
   "metadata": {},
   "source": [
    "As we can see, POI2 includes much more entries, f.e. with amenities like \"toilets\" or \"parking\". These additional entries can give us an insight into how many of our bike renters also user cars, for example. It would not be very smart to just don't consider these values, so I will continue to work with POI2, instead."
   ]
  },
  {
   "cell_type": "code",
   "execution_count": null,
   "id": "f0194e07",
   "metadata": {},
   "outputs": [],
   "source": []
  },
  {
   "cell_type": "markdown",
   "id": "57a04cea",
   "metadata": {},
   "source": [
    "This already seems better, but we still have many entries that we most certainly will not need. Let's have a look at the \"amenity\" column and visualize how many and which attributes of locations there are."
   ]
  },
  {
   "cell_type": "code",
   "execution_count": 88,
   "id": "95d4162e",
   "metadata": {},
   "outputs": [
    {
     "data": {
      "text/plain": [
       "array(['Addiction Treatment', 'Aviation Laboratory', 'Casting_Center',\n",
       "       'Comfort Shoe Store', 'Commercial Printer', 'Elementary School',\n",
       "       'Festival_Grounds', 'Lockers', 'Open Green Area', 'Skincare',\n",
       "       'Solar Panel Installation', 'Website Designer',\n",
       "       'Window Treatments', 'acting_school', 'amphitheater',\n",
       "       'amphitheatre', 'animal_boarding', 'animal_breeding',\n",
       "       'animal_shelter', 'animal_training', 'apartment', 'arcade',\n",
       "       'archive', 'art_gallery', 'art_school', 'art_work', 'arts_centre',\n",
       "       'ash_tray', 'assisted_living;skilled_nursing_facility', 'atm',\n",
       "       'audiologist', 'auditorium', 'auto_towing', 'baby_hatch',\n",
       "       'bandstand', 'bank', 'bank;fire_station;fast_food', 'bar',\n",
       "       'batting_cage', 'bbq', 'bear_box', 'bench', 'bicycle_parking',\n",
       "       'bicycle_rental', 'bicycle_repair_station', 'biergarten',\n",
       "       'bikelane', 'binoculars', 'bleachers', 'boat_rental',\n",
       "       'boat_sharing', 'boat_storage', 'book_dropoff', 'book_return',\n",
       "       'bowling alley', 'brothel', 'bureau_de_change', 'bus_station',\n",
       "       'business_center', 'cafe', 'canteen', 'car_pooling', 'car_rental',\n",
       "       'car_sharing', 'car_wash', 'car_wash;car_detail;oil_change',\n",
       "       'casino', 'charging', 'charging_station', 'charity_donation',\n",
       "       'check_cashing', 'check_in', 'childcare', 'church', 'cinema',\n",
       "       'clinic', 'clock', 'club', 'clubhouse', 'coast_guard', 'coffee',\n",
       "       'coin dealer', 'college', 'college;place_of_worship',\n",
       "       'comedy_club', 'community_centre', 'community_centre;school',\n",
       "       'compressed_air', 'concert_hall', 'conference_centre',\n",
       "       'construction', 'convenience_store', 'convention_centre',\n",
       "       'cooking_school', 'corral', 'counter', 'courthouse',\n",
       "       'courthouse;library', 'coworking_space', 'coworking_space;daycare',\n",
       "       'crematorium', 'crypt', 'dancing_school', 'dentist',\n",
       "       'device_charging_station', 'dispatch_center', 'dispensary',\n",
       "       'disused', 'dive_centre', 'doctors', 'doctors;school',\n",
       "       'dog_toilet', 'dojo', 'donation', 'dressing_room',\n",
       "       'drinking_water', 'driver_training', 'driving_school',\n",
       "       'educational_facility', 'electronic_repair', 'em',\n",
       "       'escooter_rental', 'events_venue', 'exercise_point',\n",
       "       'exhibition_centre', 'family_planning', 'fast_food',\n",
       "       'fast_food;bicycle_rental', 'ferry_terminal', 'field_shelter',\n",
       "       'fire_station', 'fire_station;prison', 'firing_range', 'first_aid',\n",
       "       'fixme', 'flight_school', 'food_court', 'fountain', 'fuel',\n",
       "       'fuel;atm', 'fuel;car_wash', 'fuel;convenience_store',\n",
       "       'fuel;convenience_store;car_wash', 'gambling', 'garden', 'gazebo',\n",
       "       'ghost_kitchen', 'give_box', 'gold_exchange', 'grave_yard',\n",
       "       'guest_relations', 'healthcare', 'hitching_post', 'ho',\n",
       "       'hookah_bar', 'hookah_lounge', 'hooklah_lounge', 'horse_hitch',\n",
       "       'hospital', 'hydrant', 'ice_cream', 'industrial', 'internet_cafe',\n",
       "       'juice bar', 'juice_bar', 'karaoke_box', 'kick-scooter_rental',\n",
       "       'kindergarten', 'kitchen', 'language_school', 'laundry',\n",
       "       'laundry_room;mail_box;gym', 'letter_box', 'level_crossing',\n",
       "       'library', 'library_dropoff', 'lifeguard', 'loading_dock',\n",
       "       'local yarn shop', 'locker', 'lockers', 'lounger', 'love_hotel',\n",
       "       'mail room', 'mailroom', 'manhole', 'map', 'marketplace',\n",
       "       'mausoleum', 'meditation_centre', 'monastery', 'money_transfer',\n",
       "       'mortuary', 'motorcycle_parking', 'motorcycle_rental',\n",
       "       'mountain_rescue', 'museum', 'music_school', 'music_venue',\n",
       "       'nightclub', 'nursing_home', 'office', 'orthodontist',\n",
       "       'outdoor_seating', 'overflow parking', 'package_room',\n",
       "       'package_services', 'paddleshop', 'palmist', 'parcel_locker',\n",
       "       'parking', 'parking;school', 'parking;theatre', 'parking_entrance',\n",
       "       'parking_space', 'payment_centre', 'payment_terminal', 'pet',\n",
       "       'pharmacy', 'photo_booth', 'pier', 'place_of_worship',\n",
       "       'planetarium', 'playground', 'police', 'polling_station',\n",
       "       'post_box', 'post_depot', 'post_office', 'pre_school;day_care',\n",
       "       'prep_school', 'prison', 'psychic', 'pub', 'public_bath',\n",
       "       'public_bookcase', 'public_building', 'public_transport_tickets',\n",
       "       'radio_station', 'railway', 'ranger_station', 'reception_desk',\n",
       "       'recycling', 'refugee_site', 'research', 'research_institute',\n",
       "       'restaurant', 'retirement_home', 'rv_storage', 'salon',\n",
       "       'sanitary_dump_station', 'school', 'school;place_of_worship',\n",
       "       'scooter_share', 'security_booth', 'security_control',\n",
       "       'self_storage', 'shelter', 'shirlpool', 'shower', 'sign',\n",
       "       'skateboard_parking', 'ski_rental', 'ski_school', 'smoke_shop',\n",
       "       'smoking_area', 'snack', 'snack_cart', 'snack_stand',\n",
       "       'social_centre', 'social_club', 'social_facility', 'spa', 'sport',\n",
       "       'stables', 'stage', 'stor', 'storage', 'store', 'strip_club',\n",
       "       'stripclub', 'stripclub;bar', 'stroller_rental',\n",
       "       'student_accommodation', 'studio', 'summer camp', 'sun_shelter',\n",
       "       'surface', 'table', 'taxi', 'telephone', 'theatre', 'ticket_booth',\n",
       "       'ticket_validator', 'toilets', 'townhall', 'trade_school',\n",
       "       'trailer park', 'trailer_park', 'training', 'trolley_bay',\n",
       "       'truck_parking', 'truck_stop', 'turn_stile', 'tutoring_centre',\n",
       "       'university', 'urgent_care', 'vacuum_cleaner',\n",
       "       'vehicle_inspection', 'vending_machine', 'veterinary',\n",
       "       'veterinary_pharmacy', 'waiting_area', 'washing_machine',\n",
       "       'waste_basket', 'waste_basket;recycling',\n",
       "       'waste_basket;vending_machine', 'waste_disposal',\n",
       "       'waste_transfer_station', 'water_dispenser', 'water_point',\n",
       "       'water_slide', 'waterfall', 'watering_place',\n",
       "       'watering_place;drinking_water', 'wedding_chapel', 'weighbridge',\n",
       "       'wheelchair_rental', 'whirlpool', 'yacht_club'], dtype=object)"
      ]
     },
     "execution_count": 88,
     "metadata": {},
     "output_type": "execute_result"
    }
   ],
   "source": [
    "#Here I extract the \"amenity\" column, convert it into a numPy array and then sort out the redundant data with np.unique\n",
    "amenity = np.unique(POI2[\"amenity\"].to_numpy())\n",
    "amenity"
   ]
  },
  {
   "cell_type": "markdown",
   "id": "8253c854",
   "metadata": {},
   "source": []
  }
 ],
 "metadata": {
  "kernelspec": {
   "display_name": "base",
   "language": "python",
   "name": "base"
  },
  "language_info": {
   "codemirror_mode": {
    "name": "ipython",
    "version": 3
   },
   "file_extension": ".py",
   "mimetype": "text/x-python",
   "name": "python",
   "nbconvert_exporter": "python",
   "pygments_lexer": "ipython3",
   "version": "3.10.10"
  }
 },
 "nbformat": 4,
 "nbformat_minor": 5
}
