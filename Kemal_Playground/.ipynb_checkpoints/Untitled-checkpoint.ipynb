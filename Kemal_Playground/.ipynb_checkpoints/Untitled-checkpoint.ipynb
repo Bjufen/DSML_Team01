{
 "cells": [
  {
   "cell_type": "code",
   "execution_count": 1,
   "id": "982915f1",
   "metadata": {},
   "outputs": [],
   "source": [
    "import pandas as pd\n",
    "import numpy as np"
   ]
  },
  {
   "cell_type": "markdown",
   "id": "7261285f",
   "metadata": {},
   "source": [
    "### Prepare the location-dataset\n",
    "First, we need to prepare the dataset, as most of the data (or columns) we won't need. To decide whether an entry (or location) is part of our interest, we shall only consider the geographic data and \"amenity\" of the location. Later on, we will also filter the locations out which have attributes that do not really have a logical cohesion with our bike-rental data."
   ]
  },
  {
   "cell_type": "code",
   "execution_count": 44,
   "id": "829f30ca",
   "metadata": {},
   "outputs": [
    {
     "name": "stderr",
     "output_type": "stream",
     "text": [
      "/var/folders/_v/6rn4knv13fs88z1_74ms8bk40000gn/T/ipykernel_38428/1739284715.py:3: FutureWarning: In a future version of pandas all arguments of DataFrame.dropna will be keyword-only.\n",
      "  POI1 = POI.dropna(0).copy()\n"
     ]
    }
   ],
   "source": [
    "# we create two \"versions\" of our datasets, one which only includes entries with a name and an amenity. And one \n",
    "# where entries might have no name, but have to be assigned an amenity. Let's compare the two:\n",
    "LA = pd.read_csv(\"csv/POIs.csv\", dtype = str)\n",
    "POI = LA[[\"name\", \"lon\", \"lat\", \"amenity\"]]\n",
    "POI1 = POI.dropna(0).copy()\n",
    "POI2 = POI[POI[\"amenity\"].notna()]"
   ]
  },
  {
   "cell_type": "code",
   "execution_count": 49,
   "id": "bd1c9948",
   "metadata": {},
   "outputs": [
    {
     "data": {
      "text/html": [
       "<div>\n",
       "<style scoped>\n",
       "    .dataframe tbody tr th:only-of-type {\n",
       "        vertical-align: middle;\n",
       "    }\n",
       "\n",
       "    .dataframe tbody tr th {\n",
       "        vertical-align: top;\n",
       "    }\n",
       "\n",
       "    .dataframe thead th {\n",
       "        text-align: right;\n",
       "    }\n",
       "</style>\n",
       "<table border=\"1\" class=\"dataframe\">\n",
       "  <thead>\n",
       "    <tr style=\"text-align: right;\">\n",
       "      <th></th>\n",
       "      <th>name</th>\n",
       "      <th>lon</th>\n",
       "      <th>lat</th>\n",
       "      <th>amenity</th>\n",
       "    </tr>\n",
       "  </thead>\n",
       "  <tbody>\n",
       "    <tr>\n",
       "      <th>0</th>\n",
       "      <td>NaN</td>\n",
       "      <td>-118.29458</td>\n",
       "      <td>34.118114</td>\n",
       "      <td>toilets</td>\n",
       "    </tr>\n",
       "    <tr>\n",
       "      <th>2</th>\n",
       "      <td>NaN</td>\n",
       "      <td>-116.43478</td>\n",
       "      <td>33.047447</td>\n",
       "      <td>parking</td>\n",
       "    </tr>\n",
       "    <tr>\n",
       "      <th>6</th>\n",
       "      <td>Golden Era Productions</td>\n",
       "      <td>-116.98781</td>\n",
       "      <td>33.833775</td>\n",
       "      <td>studio</td>\n",
       "    </tr>\n",
       "    <tr>\n",
       "      <th>12</th>\n",
       "      <td>Jack in the Box</td>\n",
       "      <td>-118.15158</td>\n",
       "      <td>34.077217</td>\n",
       "      <td>fast_food</td>\n",
       "    </tr>\n",
       "    <tr>\n",
       "      <th>13</th>\n",
       "      <td>Yoshinoya</td>\n",
       "      <td>-118.21602</td>\n",
       "      <td>34.076218</td>\n",
       "      <td>fast_food</td>\n",
       "    </tr>\n",
       "    <tr>\n",
       "      <th>...</th>\n",
       "      <td>...</td>\n",
       "      <td>...</td>\n",
       "      <td>...</td>\n",
       "      <td>...</td>\n",
       "    </tr>\n",
       "    <tr>\n",
       "      <th>183806</th>\n",
       "      <td>NaN</td>\n",
       "      <td>NaN</td>\n",
       "      <td>NaN</td>\n",
       "      <td>university</td>\n",
       "    </tr>\n",
       "    <tr>\n",
       "      <th>183807</th>\n",
       "      <td>West Coast University Orange County Campus</td>\n",
       "      <td>NaN</td>\n",
       "      <td>NaN</td>\n",
       "      <td>university</td>\n",
       "    </tr>\n",
       "    <tr>\n",
       "      <th>183810</th>\n",
       "      <td>Penny Lane Centers</td>\n",
       "      <td>NaN</td>\n",
       "      <td>NaN</td>\n",
       "      <td>social_facility</td>\n",
       "    </tr>\n",
       "    <tr>\n",
       "      <th>183811</th>\n",
       "      <td>NaN</td>\n",
       "      <td>NaN</td>\n",
       "      <td>NaN</td>\n",
       "      <td>parking</td>\n",
       "    </tr>\n",
       "    <tr>\n",
       "      <th>183813</th>\n",
       "      <td>Saint Therese Catholic Church</td>\n",
       "      <td>NaN</td>\n",
       "      <td>NaN</td>\n",
       "      <td>place_of_worship</td>\n",
       "    </tr>\n",
       "  </tbody>\n",
       "</table>\n",
       "<p>139810 rows × 4 columns</p>\n",
       "</div>"
      ],
      "text/plain": [
       "                                              name         lon        lat  \\\n",
       "0                                              NaN  -118.29458  34.118114   \n",
       "2                                              NaN  -116.43478  33.047447   \n",
       "6                           Golden Era Productions  -116.98781  33.833775   \n",
       "12                                 Jack in the Box  -118.15158  34.077217   \n",
       "13                                       Yoshinoya  -118.21602  34.076218   \n",
       "...                                            ...         ...        ...   \n",
       "183806                                         NaN         NaN        NaN   \n",
       "183807  West Coast University Orange County Campus         NaN        NaN   \n",
       "183810                          Penny Lane Centers         NaN        NaN   \n",
       "183811                                         NaN         NaN        NaN   \n",
       "183813               Saint Therese Catholic Church         NaN        NaN   \n",
       "\n",
       "                 amenity  \n",
       "0                toilets  \n",
       "2                parking  \n",
       "6                 studio  \n",
       "12             fast_food  \n",
       "13             fast_food  \n",
       "...                  ...  \n",
       "183806        university  \n",
       "183807        university  \n",
       "183810   social_facility  \n",
       "183811           parking  \n",
       "183813  place_of_worship  \n",
       "\n",
       "[139810 rows x 4 columns]"
      ]
     },
     "execution_count": 49,
     "metadata": {},
     "output_type": "execute_result"
    }
   ],
   "source": [
    "POI1\n",
    "POI2"
   ]
  },
  {
   "cell_type": "markdown",
   "id": "9e9fea18",
   "metadata": {},
   "source": []
  },
  {
   "cell_type": "markdown",
   "id": "ac3cbce0",
   "metadata": {},
   "source": [
    "This already seems better, but we still have many entries that we most certainly will not need. Let's have a look at the \"amenity\" column and visualize how many and which attributes of locations there are."
   ]
  },
  {
   "cell_type": "code",
   "execution_count": 42,
   "id": "2c2ec280",
   "metadata": {},
   "outputs": [
    {
     "data": {
      "text/plain": [
       "array(['Addiction Treatment', 'Casting_Center', 'Comfort Shoe Store',\n",
       "       'Commercial Printer', 'Skincare', 'Solar Panel Installation',\n",
       "       'Website Designer', 'Window Treatments', 'animal_boarding',\n",
       "       'animal_shelter', 'animal_training', 'apartment', 'arcade',\n",
       "       'archive', 'art_school', 'art_work', 'arts_centre', 'atm',\n",
       "       'audiologist', 'auditorium', 'auto_towing', 'baby_hatch', 'bank',\n",
       "       'bar', 'bbq', 'bear_box', 'bench', 'bicycle_parking',\n",
       "       'bicycle_rental', 'bicycle_repair_station', 'biergarten',\n",
       "       'binoculars', 'boat_rental', 'book_return', 'bowling alley',\n",
       "       'bureau_de_change', 'bus_station', 'cafe', 'car_rental',\n",
       "       'car_sharing', 'car_wash', 'car_wash;car_detail;oil_change',\n",
       "       'casino', 'charging_station', 'charity_donation', 'check_cashing',\n",
       "       'check_in', 'childcare', 'church', 'cinema', 'clinic', 'clock',\n",
       "       'club', 'coffee', 'coin dealer', 'college', 'community_centre',\n",
       "       'concert_hall', 'conference_centre', 'construction',\n",
       "       'convenience_store', 'cooking_school', 'courthouse',\n",
       "       'courthouse;library', 'coworking_space', 'coworking_space;daycare',\n",
       "       'dancing_school', 'dentist', 'dispensary', 'disused',\n",
       "       'dive_centre', 'doctors', 'dojo', 'donation', 'drinking_water',\n",
       "       'driver_training', 'driving_school', 'electronic_repair',\n",
       "       'events_venue', 'exhibition_centre', 'family_planning',\n",
       "       'fast_food', 'ferry_terminal', 'fire_station', 'fixme',\n",
       "       'flight_school', 'food_court', 'fountain', 'fuel', 'fuel;atm',\n",
       "       'fuel;car_wash', 'ghost_kitchen', 'gold_exchange', 'grave_yard',\n",
       "       'guest_relations', 'healthcare', 'hitching_post', 'ho',\n",
       "       'hookah_bar', 'hookah_lounge', 'hooklah_lounge', 'hospital',\n",
       "       'ice_cream', 'industrial', 'internet_cafe', 'juice bar',\n",
       "       'juice_bar', 'karaoke_box', 'kindergarten', 'language_school',\n",
       "       'library', 'loading_dock', 'local yarn shop', 'lockers', 'lounger',\n",
       "       'marketplace', 'monastery', 'money_transfer', 'mortuary',\n",
       "       'motorcycle_rental', 'music_school', 'music_venue', 'nightclub',\n",
       "       'nursing_home', 'package_services', 'paddleshop', 'parcel_locker',\n",
       "       'parking', 'parking_entrance', 'parking_space', 'payment_centre',\n",
       "       'payment_terminal', 'pharmacy', 'photo_booth', 'place_of_worship',\n",
       "       'planetarium', 'police', 'polling_station', 'post_box',\n",
       "       'post_depot', 'post_office', 'pre_school;day_care', 'prep_school',\n",
       "       'prison', 'psychic', 'pub', 'public_bath', 'public_bookcase',\n",
       "       'public_building', 'radio_station', 'ranger_station',\n",
       "       'reception_desk', 'recycling', 'research_institute', 'restaurant',\n",
       "       'salon', 'sanitary_dump_station', 'school',\n",
       "       'school;place_of_worship', 'security_booth', 'shelter', 'shower',\n",
       "       'sign', 'ski_school', 'smoke_shop', 'smoking_area', 'snack',\n",
       "       'snack_cart', 'snack_stand', 'social_centre', 'social_facility',\n",
       "       'spa', 'stripclub', 'stripclub;bar', 'studio', 'taxi', 'telephone',\n",
       "       'theatre', 'toilets', 'townhall', 'trade_school', 'trailer_park',\n",
       "       'training', 'university', 'vehicle_inspection', 'vending_machine',\n",
       "       'veterinary', 'veterinary_pharmacy', 'waste_basket',\n",
       "       'waste_disposal', 'waste_transfer_station', 'water_dispenser',\n",
       "       'watering_place', 'weighbridge'], dtype=object)"
      ]
     },
     "execution_count": 42,
     "metadata": {},
     "output_type": "execute_result"
    }
   ],
   "source": [
    "#Here I extract the \"amenity\" column, convert it into a numPy array and then sort out the redundant data with np.unique\n",
    "amenity = np.unique(POI1[\"amenity\"].to_numpy())\n",
    "amenity"
   ]
  },
  {
   "cell_type": "markdown",
   "id": "932a1523",
   "metadata": {},
   "source": []
  }
 ],
 "metadata": {
  "kernelspec": {
   "display_name": "base",
   "language": "python",
   "name": "base"
  },
  "language_info": {
   "codemirror_mode": {
    "name": "ipython",
    "version": 3
   },
   "file_extension": ".py",
   "mimetype": "text/x-python",
   "name": "python",
   "nbconvert_exporter": "python",
   "pygments_lexer": "ipython3",
   "version": "3.10.10"
  }
 },
 "nbformat": 4,
 "nbformat_minor": 5
}
