{
 "cells": [
  {
   "cell_type": "code",
   "execution_count": 1,
   "id": "e54572b2",
   "metadata": {},
   "outputs": [],
   "source": [
    "import pandas as pd\n",
    "import numpy as np"
   ]
  },
  {
   "cell_type": "markdown",
   "id": "d10959b1",
   "metadata": {},
   "source": [
    "### Prepare the location-dataset\n",
    "First, we need to prepare the dataset, as most of the data (or columns) we won't need. To decide whether an entry (or location) is part of our interest, we shall only consider the geographic data and \"amenity\" of the location. Later on, we will also filter the locations out which have attributes that do not really have a logical cohesion with our bike-rental data."
   ]
  },
  {
   "cell_type": "code",
   "execution_count": 2,
   "id": "b3b5ab81",
   "metadata": {},
   "outputs": [
    {
     "name": "stderr",
     "output_type": "stream",
     "text": [
      "/var/folders/_v/6rn4knv13fs88z1_74ms8bk40000gn/T/ipykernel_66292/1753914413.py:3: FutureWarning: In a future version of pandas all arguments of DataFrame.dropna will be keyword-only.\n",
      "  POI1 = POI.dropna(0)\n"
     ]
    }
   ],
   "source": [
    "LA = pd.read_csv(\"csv/POIs.csv\", dtype = str)\n",
    "POI = LA[[\"name\", \"lon\", \"lat\", \"amenity\"]]\n",
    "POI1 = POI.dropna(0)"
   ]
  },
  {
   "cell_type": "code",
   "execution_count": 3,
   "id": "e894cd6e",
   "metadata": {},
   "outputs": [
    {
     "data": {
      "text/html": [
       "<div>\n",
       "<style scoped>\n",
       "    .dataframe tbody tr th:only-of-type {\n",
       "        vertical-align: middle;\n",
       "    }\n",
       "\n",
       "    .dataframe tbody tr th {\n",
       "        vertical-align: top;\n",
       "    }\n",
       "\n",
       "    .dataframe thead th {\n",
       "        text-align: right;\n",
       "    }\n",
       "</style>\n",
       "<table border=\"1\" class=\"dataframe\">\n",
       "  <thead>\n",
       "    <tr style=\"text-align: right;\">\n",
       "      <th></th>\n",
       "      <th>name</th>\n",
       "      <th>lon</th>\n",
       "      <th>lat</th>\n",
       "      <th>amenity</th>\n",
       "    </tr>\n",
       "  </thead>\n",
       "  <tbody>\n",
       "    <tr>\n",
       "      <th>6</th>\n",
       "      <td>Golden Era Productions</td>\n",
       "      <td>-116.98781</td>\n",
       "      <td>33.833775</td>\n",
       "      <td>studio</td>\n",
       "    </tr>\n",
       "    <tr>\n",
       "      <th>12</th>\n",
       "      <td>Jack in the Box</td>\n",
       "      <td>-118.15158</td>\n",
       "      <td>34.077217</td>\n",
       "      <td>fast_food</td>\n",
       "    </tr>\n",
       "    <tr>\n",
       "      <th>13</th>\n",
       "      <td>Yoshinoya</td>\n",
       "      <td>-118.21602</td>\n",
       "      <td>34.076218</td>\n",
       "      <td>fast_food</td>\n",
       "    </tr>\n",
       "    <tr>\n",
       "      <th>14</th>\n",
       "      <td>Jack in the Box</td>\n",
       "      <td>-118.21601</td>\n",
       "      <td>34.076694</td>\n",
       "      <td>fast_food</td>\n",
       "    </tr>\n",
       "    <tr>\n",
       "      <th>17</th>\n",
       "      <td>The Vault</td>\n",
       "      <td>-117.18167</td>\n",
       "      <td>34.054432</td>\n",
       "      <td>pub</td>\n",
       "    </tr>\n",
       "    <tr>\n",
       "      <th>...</th>\n",
       "      <td>...</td>\n",
       "      <td>...</td>\n",
       "      <td>...</td>\n",
       "      <td>...</td>\n",
       "    </tr>\n",
       "    <tr>\n",
       "      <th>88141</th>\n",
       "      <td>McDonald's</td>\n",
       "      <td>-117.97096</td>\n",
       "      <td>33.913445</td>\n",
       "      <td>fast_food</td>\n",
       "    </tr>\n",
       "    <tr>\n",
       "      <th>88142</th>\n",
       "      <td>Sam's Club</td>\n",
       "      <td>-117.9714</td>\n",
       "      <td>33.913116</td>\n",
       "      <td>fuel</td>\n",
       "    </tr>\n",
       "    <tr>\n",
       "      <th>88152</th>\n",
       "      <td>Baskin-Robbins</td>\n",
       "      <td>-117.865776</td>\n",
       "      <td>33.8873</td>\n",
       "      <td>ice_cream</td>\n",
       "    </tr>\n",
       "    <tr>\n",
       "      <th>88153</th>\n",
       "      <td>Bank of America</td>\n",
       "      <td>-117.86375</td>\n",
       "      <td>33.88731</td>\n",
       "      <td>bank</td>\n",
       "    </tr>\n",
       "    <tr>\n",
       "      <th>88155</th>\n",
       "      <td>Jay Bird's</td>\n",
       "      <td>-120.67254</td>\n",
       "      <td>35.247932</td>\n",
       "      <td>fast_food</td>\n",
       "    </tr>\n",
       "  </tbody>\n",
       "</table>\n",
       "<p>34705 rows × 4 columns</p>\n",
       "</div>"
      ],
      "text/plain": [
       "                         name          lon        lat    amenity\n",
       "6      Golden Era Productions   -116.98781  33.833775     studio\n",
       "12            Jack in the Box   -118.15158  34.077217  fast_food\n",
       "13                  Yoshinoya   -118.21602  34.076218  fast_food\n",
       "14            Jack in the Box   -118.21601  34.076694  fast_food\n",
       "17                  The Vault   -117.18167  34.054432        pub\n",
       "...                       ...          ...        ...        ...\n",
       "88141              McDonald's   -117.97096  33.913445  fast_food\n",
       "88142              Sam's Club    -117.9714  33.913116       fuel\n",
       "88152          Baskin-Robbins  -117.865776    33.8873  ice_cream\n",
       "88153         Bank of America   -117.86375   33.88731       bank\n",
       "88155              Jay Bird's   -120.67254  35.247932  fast_food\n",
       "\n",
       "[34705 rows x 4 columns]"
      ]
     },
     "execution_count": 3,
     "metadata": {},
     "output_type": "execute_result"
    }
   ],
   "source": [
    "POI1"
   ]
  },
  {
   "cell_type": "markdown",
   "id": "bb8c0252",
   "metadata": {},
   "source": [
    "This already seems better, but we still have many entries that we most certainly will not need. Let's have a look at the \"amenity\" column and visualize how many and which attributes of locations there are."
   ]
  },
  {
   "cell_type": "code",
   "execution_count": 5,
   "id": "95c182ef",
   "metadata": {},
   "outputs": [
    {
     "data": {
      "text/plain": [
       "array(['Addiction Treatment', 'Casting_Center', 'Comfort Shoe Store',\n",
       "       'Commercial Printer', 'Skincare', 'Solar Panel Installation',\n",
       "       'Website Designer', 'Window Treatments', 'animal_boarding',\n",
       "       'animal_shelter', 'animal_training', 'apartment', 'arcade',\n",
       "       'archive', 'art_school', 'art_work', 'arts_centre', 'atm',\n",
       "       'audiologist', 'auditorium', 'auto_towing', 'baby_hatch', 'bank',\n",
       "       'bar', 'bbq', 'bear_box', 'bench', 'bicycle_parking',\n",
       "       'bicycle_rental', 'bicycle_repair_station', 'biergarten',\n",
       "       'binoculars', 'boat_rental', 'book_return', 'bowling alley',\n",
       "       'bureau_de_change', 'bus_station', 'cafe', 'car_rental',\n",
       "       'car_sharing', 'car_wash', 'car_wash;car_detail;oil_change',\n",
       "       'casino', 'charging_station', 'charity_donation', 'check_cashing',\n",
       "       'check_in', 'childcare', 'church', 'cinema', 'clinic', 'clock',\n",
       "       'club', 'coffee', 'coin dealer', 'college', 'community_centre',\n",
       "       'concert_hall', 'conference_centre', 'construction',\n",
       "       'convenience_store', 'cooking_school', 'courthouse',\n",
       "       'courthouse;library', 'coworking_space', 'coworking_space;daycare',\n",
       "       'dancing_school', 'dentist', 'dispensary', 'disused',\n",
       "       'dive_centre', 'doctors', 'dojo', 'donation', 'drinking_water',\n",
       "       'driver_training', 'driving_school', 'electronic_repair',\n",
       "       'events_venue', 'exhibition_centre', 'family_planning',\n",
       "       'fast_food', 'ferry_terminal', 'fire_station', 'fixme',\n",
       "       'flight_school', 'food_court', 'fountain', 'fuel', 'fuel;atm',\n",
       "       'fuel;car_wash', 'ghost_kitchen', 'gold_exchange', 'grave_yard',\n",
       "       'guest_relations', 'healthcare', 'hitching_post', 'ho',\n",
       "       'hookah_bar', 'hookah_lounge', 'hooklah_lounge', 'hospital',\n",
       "       'ice_cream', 'industrial', 'internet_cafe', 'juice bar',\n",
       "       'juice_bar', 'karaoke_box', 'kindergarten', 'language_school',\n",
       "       'library', 'loading_dock', 'local yarn shop', 'lockers', 'lounger',\n",
       "       'marketplace', 'monastery', 'money_transfer', 'mortuary',\n",
       "       'motorcycle_rental', 'music_school', 'music_venue', 'nightclub',\n",
       "       'nursing_home', 'package_services', 'paddleshop', 'parcel_locker',\n",
       "       'parking', 'parking_entrance', 'parking_space', 'payment_centre',\n",
       "       'payment_terminal', 'pharmacy', 'photo_booth', 'place_of_worship',\n",
       "       'planetarium', 'police', 'polling_station', 'post_box',\n",
       "       'post_depot', 'post_office', 'pre_school;day_care', 'prep_school',\n",
       "       'prison', 'psychic', 'pub', 'public_bath', 'public_bookcase',\n",
       "       'public_building', 'radio_station', 'ranger_station',\n",
       "       'reception_desk', 'recycling', 'research_institute', 'restaurant',\n",
       "       'salon', 'sanitary_dump_station', 'school',\n",
       "       'school;place_of_worship', 'security_booth', 'shelter', 'shower',\n",
       "       'sign', 'ski_school', 'smoke_shop', 'smoking_area', 'snack',\n",
       "       'snack_cart', 'snack_stand', 'social_centre', 'social_facility',\n",
       "       'spa', 'stripclub', 'stripclub;bar', 'studio', 'taxi', 'telephone',\n",
       "       'theatre', 'toilets', 'townhall', 'trade_school', 'trailer_park',\n",
       "       'training', 'university', 'vehicle_inspection', 'vending_machine',\n",
       "       'veterinary', 'veterinary_pharmacy', 'waste_basket',\n",
       "       'waste_disposal', 'waste_transfer_station', 'water_dispenser',\n",
       "       'watering_place', 'weighbridge'], dtype=object)"
      ]
     },
     "execution_count": 5,
     "metadata": {},
     "output_type": "execute_result"
    }
   ],
   "source": [
    "#Here I extract the \"amenity\" column, convert it into a numPy array and then delete the redundant data with np.unique\n",
    "amenity = np.unique(POI1[\"amenity\"].to_numpy())\n",
    "amenity"
   ]
  },
  {
   "cell_type": "markdown",
   "id": "f363b644",
   "metadata": {},
   "source": []
  },
  {
   "cell_type": "code",
   "execution_count": 7,
   "id": "92b70701",
   "metadata": {},
   "outputs": [
    {
     "data": {
      "text/html": [
       "<div>\n",
       "<style scoped>\n",
       "    .dataframe tbody tr th:only-of-type {\n",
       "        vertical-align: middle;\n",
       "    }\n",
       "\n",
       "    .dataframe tbody tr th {\n",
       "        vertical-align: top;\n",
       "    }\n",
       "\n",
       "    .dataframe thead th {\n",
       "        text-align: right;\n",
       "    }\n",
       "</style>\n",
       "<table border=\"1\" class=\"dataframe\">\n",
       "  <thead>\n",
       "    <tr style=\"text-align: right;\">\n",
       "      <th></th>\n",
       "      <th>name</th>\n",
       "      <th>lon</th>\n",
       "      <th>lat</th>\n",
       "      <th>amenity</th>\n",
       "    </tr>\n",
       "  </thead>\n",
       "  <tbody>\n",
       "    <tr>\n",
       "      <th>24910</th>\n",
       "      <td>Watermill Express</td>\n",
       "      <td>-117.17484</td>\n",
       "      <td>32.81994</td>\n",
       "      <td>water_dispenser</td>\n",
       "    </tr>\n",
       "  </tbody>\n",
       "</table>\n",
       "</div>"
      ],
      "text/plain": [
       "                    name         lon       lat          amenity\n",
       "24910  Watermill Express  -117.17484  32.81994  water_dispenser"
      ]
     },
     "execution_count": 7,
     "metadata": {},
     "output_type": "execute_result"
    }
   ],
   "source": [
    "POI[(POI[\"amenity\"] == \"water_dispenser\")]"
   ]
  },
  {
   "cell_type": "code",
   "execution_count": null,
   "id": "c64544e2",
   "metadata": {},
   "outputs": [],
   "source": []
  }
 ],
 "metadata": {
  "kernelspec": {
   "display_name": "base",
   "language": "python",
   "name": "base"
  },
  "language_info": {
   "codemirror_mode": {
    "name": "ipython",
    "version": 3
   },
   "file_extension": ".py",
   "mimetype": "text/x-python",
   "name": "python",
   "nbconvert_exporter": "python",
   "pygments_lexer": "ipython3",
   "version": "3.10.10"
  }
 },
 "nbformat": 4,
 "nbformat_minor": 5
}
