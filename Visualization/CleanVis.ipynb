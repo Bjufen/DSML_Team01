{
 "cells": [
  {
   "cell_type": "code",
   "execution_count": 36,
   "metadata": {
    "collapsed": true,
    "ExecuteTime": {
     "start_time": "2023-07-22T13:02:05.906335Z",
     "end_time": "2023-07-22T13:02:05.906335Z"
    }
   },
   "outputs": [
    {
     "name": "stdout",
     "output_type": "stream",
     "text": [
      "<class 'pandas.core.frame.DataFrame'>\n",
      "Int64Index: 394 entries, 0 to 80\n",
      "Data columns (total 17 columns):\n",
      " #   Column           Non-Null Count  Dtype \n",
      "---  ------           --------------  ----- \n",
      " 0   end_station_id   394 non-null    int64 \n",
      " 1   idle_time        394 non-null    object\n",
      " 2   morgens          394 non-null    int64 \n",
      " 3   vormittags       394 non-null    int64 \n",
      " 4   mittags          394 non-null    int64 \n",
      " 5   nachmittags      394 non-null    int64 \n",
      " 6   abends           394 non-null    int64 \n",
      " 7   nachts           394 non-null    int64 \n",
      " 8   monday           394 non-null    int64 \n",
      " 9   tuesday          394 non-null    int64 \n",
      " 10  wednesday        394 non-null    int64 \n",
      " 11  thursday         394 non-null    int64 \n",
      " 12  friday           394 non-null    int64 \n",
      " 13  saturday         394 non-null    int64 \n",
      " 14  sunday           394 non-null    int64 \n",
      " 15  end_station_lat  394 non-null    object\n",
      " 16  end_station_lon  394 non-null    object\n",
      "dtypes: int64(14), object(3)\n",
      "memory usage: 55.4+ KB\n",
      "None\n",
      "393\n",
      "<class 'pandas.core.frame.DataFrame'>\n",
      "Int64Index: 197 entries, 0 to 316\n",
      "Data columns (total 17 columns):\n",
      " #   Column           Non-Null Count  Dtype  \n",
      "---  ------           --------------  -----  \n",
      " 0   end_station_id   197 non-null    int64  \n",
      " 1   idle_time        197 non-null    float64\n",
      " 2   morgens          197 non-null    int64  \n",
      " 3   vormittags       197 non-null    int64  \n",
      " 4   mittags          197 non-null    int64  \n",
      " 5   nachmittags      197 non-null    int64  \n",
      " 6   abends           197 non-null    int64  \n",
      " 7   nachts           197 non-null    int64  \n",
      " 8   monday           197 non-null    int64  \n",
      " 9   tuesday          197 non-null    int64  \n",
      " 10  wednesday        197 non-null    int64  \n",
      " 11  thursday         197 non-null    int64  \n",
      " 12  friday           197 non-null    int64  \n",
      " 13  saturday         197 non-null    int64  \n",
      " 14  sunday           197 non-null    int64  \n",
      " 15  end_station_lat  197 non-null    float64\n",
      " 16  end_station_lon  197 non-null    float64\n",
      "dtypes: float64(3), int64(14)\n",
      "memory usage: 27.7 KB\n",
      "<class 'pandas.core.frame.DataFrame'>\n",
      "Int64Index: 196 entries, 116 to 80\n",
      "Data columns (total 17 columns):\n",
      " #   Column           Non-Null Count  Dtype  \n",
      "---  ------           --------------  -----  \n",
      " 0   end_station_id   196 non-null    int64  \n",
      " 1   idle_time        196 non-null    float64\n",
      " 2   morgens          196 non-null    int64  \n",
      " 3   vormittags       196 non-null    int64  \n",
      " 4   mittags          196 non-null    int64  \n",
      " 5   nachmittags      196 non-null    int64  \n",
      " 6   abends           196 non-null    int64  \n",
      " 7   nachts           196 non-null    int64  \n",
      " 8   monday           196 non-null    int64  \n",
      " 9   tuesday          196 non-null    int64  \n",
      " 10  wednesday        196 non-null    int64  \n",
      " 11  thursday         196 non-null    int64  \n",
      " 12  friday           196 non-null    int64  \n",
      " 13  saturday         196 non-null    int64  \n",
      " 14  sunday           196 non-null    int64  \n",
      " 15  end_station_lat  196 non-null    float64\n",
      " 16  end_station_lon  196 non-null    float64\n",
      "dtypes: float64(3), int64(14)\n",
      "memory usage: 27.6 KB\n"
     ]
    },
    {
     "data": {
      "text/plain": "(None, None)"
     },
     "execution_count": 36,
     "metadata": {},
     "output_type": "execute_result"
    }
   ],
   "source": [
    "import pandas as pd\n",
    "import numpy as np\n",
    "\n",
    "\n",
    "csv_file = '../Data_Cleanup/outCSV/Station_ID_with_AvgIdleDaytimesDays_and_lonlat.csv'\n",
    "df = pd.read_csv(csv_file)\n",
    "sorted_df = df.sort_values(by=\"idle_time\", ascending=False)\n",
    "print(sorted_df.info())\n",
    "sorted_df['end_station_lat'] = sorted_df['end_station_lat'].str[1:-1].astype(np.float64)\n",
    "sorted_df['end_station_lon'] = sorted_df['end_station_lon'].str[1:-1].astype(np.float64)\n",
    "sorted_df['idle_time'] = pd.to_timedelta(sorted_df['idle_time'])\n",
    "sorted_df = sorted_df[sorted_df['idle_time'] <= pd.Timedelta(days=30)]\n",
    "\n",
    "\n",
    "sorted_df['idle_time'] = sorted_df['idle_time'].dt.total_seconds()/3600\n",
    "\n",
    "\n",
    "nodups_df = sorted_df.drop_duplicates(subset=[\"end_station_lon\", \"end_station_lat\"], keep = \"first\")\n",
    "print(len(sorted_df))\n",
    "top50_percent = sorted_df.head(197)\n",
    "bottom50_percent = sorted_df.tail(196)\n",
    "top50_percent.info(), bottom50_percent.info()"
   ]
  },
  {
   "cell_type": "code",
   "execution_count": 37,
   "outputs": [],
   "source": [
    "avg_idle_time_top_50 = top50_percent[\"idle_time\"].mean()\n",
    "avg_idle_time_bottom_50 = bottom50_percent[\"idle_time\"].mean()\n",
    "\n",
    "over_top_avg_df = sorted_df[sorted_df[\"idle_time\"] >= avg_idle_time_top_50]\n",
    "# over_top_avg_df.count()\n",
    "\n",
    "under_bottom_avg_df = sorted_df[sorted_df[\"idle_time\"] <= avg_idle_time_bottom_50]\n"
   ],
   "metadata": {
    "collapsed": false,
    "ExecuteTime": {
     "start_time": "2023-07-22T13:02:05.906335Z",
     "end_time": "2023-07-22T13:02:05.907296Z"
    }
   }
  },
  {
   "cell_type": "code",
   "execution_count": 38,
   "outputs": [
    {
     "name": "stderr",
     "output_type": "stream",
     "text": [
      "C:\\Users\\yusuf\\AppData\\Local\\Temp\\ipykernel_98632\\2836388722.py:2: SettingWithCopyWarning: \n",
      "A value is trying to be set on a copy of a slice from a DataFrame.\n",
      "Try using .loc[row_indexer,col_indexer] = value instead\n",
      "\n",
      "See the caveats in the documentation: https://pandas.pydata.org/pandas-docs/stable/user_guide/indexing.html#returning-a-view-versus-a-copy\n",
      "  over_top_avg_df[\"neighboring_stations\"] = None\n",
      "C:\\Users\\yusuf\\AppData\\Local\\Temp\\ipykernel_98632\\2836388722.py:3: SettingWithCopyWarning: \n",
      "A value is trying to be set on a copy of a slice from a DataFrame.\n",
      "Try using .loc[row_indexer,col_indexer] = value instead\n",
      "\n",
      "See the caveats in the documentation: https://pandas.pydata.org/pandas-docs/stable/user_guide/indexing.html#returning-a-view-versus-a-copy\n",
      "  over_top_avg_df[\"avg_neighbor_idle_time\"] = None\n",
      "C:\\Users\\yusuf\\AppData\\Local\\Temp\\ipykernel_98632\\2836388722.py:24: SettingWithCopyWarning: \n",
      "A value is trying to be set on a copy of a slice from a DataFrame.\n",
      "Try using .loc[row_indexer,col_indexer] = value instead\n",
      "\n",
      "See the caveats in the documentation: https://pandas.pydata.org/pandas-docs/stable/user_guide/indexing.html#returning-a-view-versus-a-copy\n",
      "  under_bottom_avg_df[\"neighboring_stations\"] = None\n",
      "C:\\Users\\yusuf\\AppData\\Local\\Temp\\ipykernel_98632\\2836388722.py:25: SettingWithCopyWarning: \n",
      "A value is trying to be set on a copy of a slice from a DataFrame.\n",
      "Try using .loc[row_indexer,col_indexer] = value instead\n",
      "\n",
      "See the caveats in the documentation: https://pandas.pydata.org/pandas-docs/stable/user_guide/indexing.html#returning-a-view-versus-a-copy\n",
      "  under_bottom_avg_df[\"avg_neighbor_idle_time\"] = None\n"
     ]
    }
   ],
   "source": [
    "from geopy import distance\n",
    "over_top_avg_df[\"neighboring_stations\"] = None\n",
    "over_top_avg_df[\"avg_neighbor_idle_time\"] = None\n",
    "for i, row in over_top_avg_df.iterrows():\n",
    "    station_id = i\n",
    "    lat = row['end_station_lat']\n",
    "    lon = row['end_station_lon']\n",
    "    center_coords = (lat, lon)\n",
    "    neighbor_idle_time_sum = pd.Timedelta(0)\n",
    "\n",
    "\n",
    "    neighboring_stations = []\n",
    "    for index, sorted_row in sorted_df.iterrows():\n",
    "        station_coords = (sorted_row['end_station_lat'], sorted_row['end_station_lon'])\n",
    "        dist = distance.distance(center_coords, station_coords).meters\n",
    "\n",
    "        if dist <= 500:\n",
    "            neighboring_stations.append(sorted_row[\"end_station_id\"])\n",
    "            neighbor_idle_time_sum += pd.Timedelta(sorted_row[\"idle_time\"])\n",
    "    over_top_avg_df.at[i, \"neighboring_stations\"] = neighboring_stations\n",
    "\n",
    "\n",
    "\n",
    "under_bottom_avg_df[\"neighboring_stations\"] = None\n",
    "under_bottom_avg_df[\"avg_neighbor_idle_time\"] = None\n",
    "\n",
    "for i, row in under_bottom_avg_df.iterrows():\n",
    "    station_id = i\n",
    "    lat = row['end_station_lat']\n",
    "    lon = row['end_station_lon']\n",
    "    center_coords = (lat, lon)\n",
    "    neighbor_idle_time_sum = pd.Timedelta(0)\n",
    "\n",
    "\n",
    "    neighboring_stations = []\n",
    "    for index, sorted_row in sorted_df.iterrows():\n",
    "        station_coords = (sorted_row['end_station_lat'], sorted_row['end_station_lon'])\n",
    "        dist = distance.distance(center_coords, station_coords).meters\n",
    "\n",
    "        if dist <= 500:\n",
    "            neighboring_stations.append(sorted_row[\"end_station_id\"])\n",
    "            neighbor_idle_time_sum += pd.Timedelta(sorted_row[\"idle_time\"])\n",
    "    under_bottom_avg_df.at[i, \"neighboring_stations\"] = neighboring_stations\n"
   ],
   "metadata": {
    "collapsed": false,
    "ExecuteTime": {
     "start_time": "2023-07-22T13:02:16.173920Z",
     "end_time": "2023-07-22T13:02:16.174932Z"
    }
   }
  },
  {
   "cell_type": "code",
   "execution_count": 39,
   "outputs": [
    {
     "data": {
      "text/plain": "     end_station_id   idle_time  morgens  vormittags  mittags  nachmittags  \\\n0              3000  221.201909    24162       23653    22421        21080   \n67             4125  154.930928      106         111      105          106   \n293            4499  103.947705      124         132      120          124   \n197            4379  101.813975       74          72       66           58   \n202            4384   93.880557      133         131      116          117   \n\n     abends  nachts  monday  tuesday  wednesday  thursday  friday  saturday  \\\n0     21352   24092   16488    16587      16570     16895   16961     17023   \n67      100      98      65       74         67        67      72        63   \n293     122     122      74       75         72        85      82        72   \n197      57      67      39       39         36        34      33        45   \n202      86     118      62       64         69        58      59        73   \n\n     sunday  end_station_lat  end_station_lon  \\\n0     18160        34.048500      -118.258537   \n67       71        33.766659      -118.261017   \n293      85        34.186569      -118.388008   \n197      44        34.017368      -118.420601   \n202      55        33.990318      -118.412048   \n\n                                  neighboring_stations avg_neighbor_idle_time  \n0    [3000.0, 4286.0, 4516.0, 4285.0, 3063.0, 3032....                   None  \n67                                            [4125.0]                   None  \n293                                           [4499.0]                   None  \n197   [4379.0, 4338.0, 4328.0, 4560.0, 4561.0, 4570.0]                   None  \n202                   [4384.0, 4337.0, 4577.0, 4521.0]                   None  ",
      "text/html": "<div>\n<style scoped>\n    .dataframe tbody tr th:only-of-type {\n        vertical-align: middle;\n    }\n\n    .dataframe tbody tr th {\n        vertical-align: top;\n    }\n\n    .dataframe thead th {\n        text-align: right;\n    }\n</style>\n<table border=\"1\" class=\"dataframe\">\n  <thead>\n    <tr style=\"text-align: right;\">\n      <th></th>\n      <th>end_station_id</th>\n      <th>idle_time</th>\n      <th>morgens</th>\n      <th>vormittags</th>\n      <th>mittags</th>\n      <th>nachmittags</th>\n      <th>abends</th>\n      <th>nachts</th>\n      <th>monday</th>\n      <th>tuesday</th>\n      <th>wednesday</th>\n      <th>thursday</th>\n      <th>friday</th>\n      <th>saturday</th>\n      <th>sunday</th>\n      <th>end_station_lat</th>\n      <th>end_station_lon</th>\n      <th>neighboring_stations</th>\n      <th>avg_neighbor_idle_time</th>\n    </tr>\n  </thead>\n  <tbody>\n    <tr>\n      <th>0</th>\n      <td>3000</td>\n      <td>221.201909</td>\n      <td>24162</td>\n      <td>23653</td>\n      <td>22421</td>\n      <td>21080</td>\n      <td>21352</td>\n      <td>24092</td>\n      <td>16488</td>\n      <td>16587</td>\n      <td>16570</td>\n      <td>16895</td>\n      <td>16961</td>\n      <td>17023</td>\n      <td>18160</td>\n      <td>34.048500</td>\n      <td>-118.258537</td>\n      <td>[3000.0, 4286.0, 4516.0, 4285.0, 3063.0, 3032....</td>\n      <td>None</td>\n    </tr>\n    <tr>\n      <th>67</th>\n      <td>4125</td>\n      <td>154.930928</td>\n      <td>106</td>\n      <td>111</td>\n      <td>105</td>\n      <td>106</td>\n      <td>100</td>\n      <td>98</td>\n      <td>65</td>\n      <td>74</td>\n      <td>67</td>\n      <td>67</td>\n      <td>72</td>\n      <td>63</td>\n      <td>71</td>\n      <td>33.766659</td>\n      <td>-118.261017</td>\n      <td>[4125.0]</td>\n      <td>None</td>\n    </tr>\n    <tr>\n      <th>293</th>\n      <td>4499</td>\n      <td>103.947705</td>\n      <td>124</td>\n      <td>132</td>\n      <td>120</td>\n      <td>124</td>\n      <td>122</td>\n      <td>122</td>\n      <td>74</td>\n      <td>75</td>\n      <td>72</td>\n      <td>85</td>\n      <td>82</td>\n      <td>72</td>\n      <td>85</td>\n      <td>34.186569</td>\n      <td>-118.388008</td>\n      <td>[4499.0]</td>\n      <td>None</td>\n    </tr>\n    <tr>\n      <th>197</th>\n      <td>4379</td>\n      <td>101.813975</td>\n      <td>74</td>\n      <td>72</td>\n      <td>66</td>\n      <td>58</td>\n      <td>57</td>\n      <td>67</td>\n      <td>39</td>\n      <td>39</td>\n      <td>36</td>\n      <td>34</td>\n      <td>33</td>\n      <td>45</td>\n      <td>44</td>\n      <td>34.017368</td>\n      <td>-118.420601</td>\n      <td>[4379.0, 4338.0, 4328.0, 4560.0, 4561.0, 4570.0]</td>\n      <td>None</td>\n    </tr>\n    <tr>\n      <th>202</th>\n      <td>4384</td>\n      <td>93.880557</td>\n      <td>133</td>\n      <td>131</td>\n      <td>116</td>\n      <td>117</td>\n      <td>86</td>\n      <td>118</td>\n      <td>62</td>\n      <td>64</td>\n      <td>69</td>\n      <td>58</td>\n      <td>59</td>\n      <td>73</td>\n      <td>55</td>\n      <td>33.990318</td>\n      <td>-118.412048</td>\n      <td>[4384.0, 4337.0, 4577.0, 4521.0]</td>\n      <td>None</td>\n    </tr>\n  </tbody>\n</table>\n</div>"
     },
     "execution_count": 39,
     "metadata": {},
     "output_type": "execute_result"
    }
   ],
   "source": [
    "\n",
    "over_top_avg_df.head()"
   ],
   "metadata": {
    "collapsed": false,
    "ExecuteTime": {
     "start_time": "2023-07-22T13:02:16.189455Z",
     "end_time": "2023-07-22T13:02:16.189455Z"
    }
   }
  },
  {
   "cell_type": "code",
   "execution_count": 40,
   "outputs": [
    {
     "name": "stderr",
     "output_type": "stream",
     "text": [
      "C:\\Users\\yusuf\\AppData\\Local\\Temp\\ipykernel_98632\\75913379.py:11: SettingWithCopyWarning: \n",
      "A value is trying to be set on a copy of a slice from a DataFrame.\n",
      "Try using .loc[row_indexer,col_indexer] = value instead\n",
      "\n",
      "See the caveats in the documentation: https://pandas.pydata.org/pandas-docs/stable/user_guide/indexing.html#returning-a-view-versus-a-copy\n",
      "  over_top_avg_df['avg_neighbor_idle_time'] = over_top_avg_df.apply(calculate_avg_neighbor_idle_time, axis=1)\n",
      "C:\\Users\\yusuf\\AppData\\Local\\Temp\\ipykernel_98632\\75913379.py:12: SettingWithCopyWarning: \n",
      "A value is trying to be set on a copy of a slice from a DataFrame.\n",
      "Try using .loc[row_indexer,col_indexer] = value instead\n",
      "\n",
      "See the caveats in the documentation: https://pandas.pydata.org/pandas-docs/stable/user_guide/indexing.html#returning-a-view-versus-a-copy\n",
      "  under_bottom_avg_df['avg_neighbor_idle_time'] = under_bottom_avg_df.apply(calculate_avg_neighbor_idle_time, axis=1)\n"
     ]
    },
    {
     "data": {
      "text/plain": "(     end_station_id   idle_time  morgens  vormittags  mittags  nachmittags  \\\n 0              3000  221.201909    24162       23653    22421        21080   \n 67             4125  154.930928      106         111      105          106   \n 293            4499  103.947705      124         132      120          124   \n 197            4379  101.813975       74          72       66           58   \n 202            4384   93.880557      133         131      116          117   \n \n      abends  nachts  monday  tuesday  wednesday  thursday  friday  saturday  \\\n 0     21352   24092   16488    16587      16570     16895   16961     17023   \n 67      100      98      65       74         67        67      72        63   \n 293     122     122      74       75         72        85      82        72   \n 197      57      67      39       39         36        34      33        45   \n 202      86     118      62       64         69        58      59        73   \n \n      sunday  end_station_lat  end_station_lon  \\\n 0     18160        34.048500      -118.258537   \n 67       71        33.766659      -118.261017   \n 293      85        34.186569      -118.388008   \n 197      44        34.017368      -118.420601   \n 202      55        33.990318      -118.412048   \n \n                                   neighboring_stations  \\\n 0    [3000.0, 4286.0, 4516.0, 4285.0, 3063.0, 3032....   \n 67                                            [4125.0]   \n 293                                           [4499.0]   \n 197   [4379.0, 4338.0, 4328.0, 4560.0, 4561.0, 4570.0]   \n 202                   [4384.0, 4337.0, 4577.0, 4521.0]   \n \n        avg_neighbor_idle_time  \n 0   0 days 00:00:00.000000021  \n 67  0 days 00:00:00.000000154  \n 293 0 days 00:00:00.000000103  \n 197 0 days 00:00:00.000000037  \n 202 0 days 00:00:00.000000050  ,\n      end_station_id  idle_time  morgens  vormittags  mittags  nachmittags  \\\n 15             3023   4.799259     4336        5199     5488         5944   \n 322            4539   4.775433      365         530      586          635   \n 20             3028   4.759044     1335        1526     1503         1427   \n 35             3046   4.727100     3047        3435     3394         3147   \n 365            4587   4.687706      706         835      906          953   \n \n      abends  nachts  monday  tuesday  wednesday  thursday  friday  saturday  \\\n 15     2158    2609    1556     1672       1699      1792    1805      1642   \n 322     506     271     239      188        205       211     227       205   \n 20      641     904     408      476        472       525     540       574   \n 35     1505    1777    1119     1173       1105      1112    1186      1131   \n 365     556     497     286      247        270       296     317       329   \n \n      sunday  end_station_lat  end_station_lon  \\\n 15     1580        34.050911      -118.240967   \n 322     243        34.101761      -118.334740   \n 20      536        34.058319      -118.246094   \n 35     1045        34.052872      -118.247490   \n 365     317        34.060791      -118.309067   \n \n                                  neighboring_stations  \\\n 15           [3023.0, 3016.0, 3062.0, 3042.0, 3030.0]   \n 322          [4527.0, 4529.0, 4517.0, 4539.0, 4402.0]   \n 20                           [4480.0, 3024.0, 3028.0]   \n 35   [3046.0, 3029.0, 3027.0, 3068.0, 3069.0, 3030.0]   \n 365                                  [4444.0, 4587.0]   \n \n        avg_neighbor_idle_time  \n 15  0 days 00:00:00.000000002  \n 322 0 days 00:00:00.000000007  \n 20  0 days 00:00:00.000000006  \n 35  0 days 00:00:00.000000002  \n 365 0 days 00:00:00.000000004  )"
     },
     "execution_count": 40,
     "metadata": {},
     "output_type": "execute_result"
    }
   ],
   "source": [
    "#Convert idle_time in df_sorted from string to timedelta\n",
    "sorted_df['idle_time'] = pd.to_timedelta(sorted_df['idle_time'])\n",
    "\n",
    "def calculate_avg_neighbor_idle_time(row):\n",
    "    # Get the idle times of the neighboring stations from df_sorted\n",
    "    neighbor_idle_times = sorted_df.loc[sorted_df['end_station_id'].isin(row['neighboring_stations']), 'idle_time']\n",
    "\n",
    "    # Calculate and return the average idle time\n",
    "    return neighbor_idle_times.mean()\n",
    "\n",
    "over_top_avg_df['avg_neighbor_idle_time'] = over_top_avg_df.apply(calculate_avg_neighbor_idle_time, axis=1)\n",
    "under_bottom_avg_df['avg_neighbor_idle_time'] = under_bottom_avg_df.apply(calculate_avg_neighbor_idle_time, axis=1)\n",
    "\n",
    "over_top_avg_df.head(), under_bottom_avg_df.head()"
   ],
   "metadata": {
    "collapsed": false,
    "ExecuteTime": {
     "start_time": "2023-07-22T13:02:16.304616Z",
     "end_time": "2023-07-22T13:02:16.304616Z"
    }
   }
  }
 ],
 "metadata": {
  "kernelspec": {
   "display_name": "Python 3",
   "language": "python",
   "name": "python3"
  },
  "language_info": {
   "codemirror_mode": {
    "name": "ipython",
    "version": 2
   },
   "file_extension": ".py",
   "mimetype": "text/x-python",
   "name": "python",
   "nbconvert_exporter": "python",
   "pygments_lexer": "ipython2",
   "version": "2.7.6"
  }
 },
 "nbformat": 4,
 "nbformat_minor": 0
}
