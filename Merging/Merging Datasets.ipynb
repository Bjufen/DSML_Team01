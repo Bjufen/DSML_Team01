{
 "cells": [
  {
   "cell_type": "code",
   "execution_count": null,
   "metadata": {},
   "outputs": [],
   "source": [
    "import pandas as pd\n",
    "from datetime import datetime, timedelta\n",
    "metro_file = '../Data_Cleanup/outCSV/Metro_Set_with_IdleTime.csv'\n",
    "weather_file = \"../Data_Cleanup/outCSV/Clean_Weather_Set.csv\"\n",
    "metro_set = pd.read_csv(metro_file, index_col=0)\n",
    "weather_set = pd.read_csv(weather_file, index_col=0)\n",
    "\n"
   ]
  },
  {
   "cell_type": "code",
   "execution_count": null,
   "metadata": {},
   "outputs": [],
   "source": [
    "metro_set['start_time'] = pd.to_datetime(metro_set['start_time'])\n",
    "weather_set['timestamp'] = pd.to_datetime(weather_set['timestamp'])\n",
    "metro_set.sort_values('start_time', inplace=True)\n",
    "weather_set.sort_values('timestamp', inplace=True)\n",
    "\n",
    "Weather_Set1 = weather_set.set_index('timestamp').reindex(metro_set.set_index('start_time').index, method='nearest').reset_index()\n",
    "print(Weather_Set1)\n",
    "\n",
    "merged_set = pd.merge(metro_set, Weather_Set1, on='start_time')\n",
    "\n",
    "merged_set.to_csv(\"../Data_Cleanup/outCSV/Merged_set.csv\")\n"
   ]
  },
  {
   "cell_type": "code",
   "execution_count": null,
   "metadata": {},
   "outputs": [],
   "source": [
    "merged_set.info()"
   ]
  }
 ],
 "metadata": {
  "kernelspec": {
   "display_name": "DSML",
   "language": "python",
   "name": "python3"
  },
  "language_info": {
   "codemirror_mode": {
    "name": "ipython",
    "version": 3
   },
   "file_extension": ".py",
   "mimetype": "text/x-python",
   "name": "python",
   "nbconvert_exporter": "python",
   "pygments_lexer": "ipython3",
   "version": "3.11.2"
  },
  "orig_nbformat": 4
 },
 "nbformat": 4,
 "nbformat_minor": 2
}
