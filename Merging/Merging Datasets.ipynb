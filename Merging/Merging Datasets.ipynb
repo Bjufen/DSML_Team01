{
 "cells": [
  {
   "cell_type": "code",
   "execution_count": 14,
   "metadata": {
    "ExecuteTime": {
     "start_time": "2023-07-16T19:03:03.500666Z",
     "end_time": "2023-07-16T19:03:07.897460Z"
    }
   },
   "outputs": [
    {
     "name": "stderr",
     "output_type": "stream",
     "text": [
      "C:\\Users\\yusuf\\AppData\\Local\\Temp\\ipykernel_76432\\227642119.py:5: DtypeWarning: Columns (9) have mixed types. Specify dtype option on import or set low_memory=False.\n",
      "  metro_set = pd.read_csv(metro_file, index_col=0)\n"
     ]
    },
    {
     "name": "stdout",
     "output_type": "stream",
     "text": [
      "<class 'pandas.core.frame.DataFrame'>\n",
      "Int64Index: 1552782 entries, 690312 to 373108\n",
      "Data columns (total 10 columns):\n",
      " #   Column             Non-Null Count    Dtype  \n",
      "---  ------             --------------    -----  \n",
      " 0   start_time         1552782 non-null  object \n",
      " 1   end_time           1552782 non-null  object \n",
      " 2   start_station_id   1552782 non-null  int64  \n",
      " 3   start_station_lat  1552782 non-null  float64\n",
      " 4   start_station_lon  1552782 non-null  float64\n",
      " 5   end_station_id     1552782 non-null  int64  \n",
      " 6   end_station_lat    1552782 non-null  float64\n",
      " 7   end_station_lon    1552782 non-null  float64\n",
      " 8   bike_id            1552782 non-null  object \n",
      " 9   idle_time          1551807 non-null  object \n",
      "dtypes: float64(4), int64(2), object(4)\n",
      "memory usage: 130.3+ MB\n"
     ]
    }
   ],
   "source": [
    "import pandas as pd\n",
    "from datetime import datetime, timedelta\n",
    "metro_file = '../Data_Cleanup/outCSV/Metro_Set_with_IdleTime.csv'\n",
    "weather_file = \"../Data_Cleanup/outCSV/Clean_Weather_Set.csv\"\n",
    "metro_set = pd.read_csv(metro_file, index_col=0)\n",
    "weather_set = pd.read_csv(weather_file, index_col=0)\n",
    "metro_set.info()\n",
    "\n"
   ]
  },
  {
   "cell_type": "code",
   "execution_count": 19,
   "outputs": [],
   "source": [
    "metro_set['start_time'] = pd.to_datetime(metro_set['start_time'])\n",
    "weather_set['timestamp'] = pd.to_datetime(weather_set['timestamp'])\n",
    "metro_set.sort_values('start_time', inplace=True)\n",
    "weather_set.sort_values('timestamp', inplace=True)\n",
    "\n",
    "Weather_Set1 = weather_set.set_index('timestamp').reindex(metro_set.set_index('start_time').index, method='nearest')\n",
    "Weather_Set1 = Weather_Set1.loc[~Weather_Set1.index.duplicated(keep='first')].reset_index()\n",
    "\n",
    "merged_set = pd.merge(metro_set, Weather_Set1, on='start_time', how='left')\n",
    "merged_set.to_csv(\"../Data_Cleanup/outCSV/Merged_set.csv\")"
   ],
   "metadata": {
    "collapsed": false,
    "ExecuteTime": {
     "start_time": "2023-07-16T19:05:12.960485Z",
     "end_time": "2023-07-16T19:05:33.580674Z"
    }
   }
  },
  {
   "cell_type": "code",
   "execution_count": 16,
   "outputs": [
    {
     "name": "stdout",
     "output_type": "stream",
     "text": [
      "<class 'pandas.core.frame.DataFrame'>\n",
      "Int64Index: 1552782 entries, 0 to 1552781\n",
      "Data columns (total 17 columns):\n",
      " #   Column                   Non-Null Count    Dtype         \n",
      "---  ------                   --------------    -----         \n",
      " 0   start_time               1552782 non-null  datetime64[ns]\n",
      " 1   end_time                 1552782 non-null  object        \n",
      " 2   start_station_id         1552782 non-null  int64         \n",
      " 3   start_station_lat        1552782 non-null  float64       \n",
      " 4   start_station_lon        1552782 non-null  float64       \n",
      " 5   end_station_id           1552782 non-null  int64         \n",
      " 6   end_station_lat          1552782 non-null  float64       \n",
      " 7   end_station_lon          1552782 non-null  float64       \n",
      " 8   bike_id                  1552782 non-null  object        \n",
      " 9   idle_time                1551807 non-null  object        \n",
      " 10  temperature              1552782 non-null  float64       \n",
      " 11  cloud_cover              1552782 non-null  float64       \n",
      " 12  cloud_cover_description  1552782 non-null  object        \n",
      " 13  pressure                 1552782 non-null  float64       \n",
      " 14  windspeed                1552782 non-null  float64       \n",
      " 15  precipitation            1552782 non-null  float64       \n",
      " 16  felt_temperature         1552782 non-null  float64       \n",
      "dtypes: datetime64[ns](1), float64(10), int64(2), object(4)\n",
      "memory usage: 213.2+ MB\n"
     ]
    }
   ],
   "source": [
    "merged_set.info()"
   ],
   "metadata": {
    "collapsed": false,
    "ExecuteTime": {
     "start_time": "2023-07-16T19:03:28.141022Z",
     "end_time": "2023-07-16T19:03:29.056183Z"
    }
   }
  },
  {
   "cell_type": "code",
   "execution_count": 13,
   "metadata": {
    "ExecuteTime": {
     "start_time": "2023-07-16T18:56:43.469156Z",
     "end_time": "2023-07-16T18:57:23.832252Z"
    }
   },
   "outputs": [
    {
     "name": "stdout",
     "output_type": "stream",
     "text": [
      "<class 'pandas.core.frame.DataFrame'>\n",
      "RangeIndex: 1552782 entries, 0 to 1552781\n",
      "Data columns (total 10 columns):\n",
      " #   Column                   Non-Null Count    Dtype         \n",
      "---  ------                   --------------    -----         \n",
      " 0   start_time               1552782 non-null  datetime64[ns]\n",
      " 1   index                    1552782 non-null  int64         \n",
      " 2   city                     1552782 non-null  object        \n",
      " 3   temperature              1552782 non-null  float64       \n",
      " 4   cloud_cover              1552782 non-null  float64       \n",
      " 5   cloud_cover_description  1552782 non-null  object        \n",
      " 6   pressure                 1552782 non-null  float64       \n",
      " 7   windspeed                1552782 non-null  float64       \n",
      " 8   precipitation            1552782 non-null  float64       \n",
      " 9   felt_temperature         1552782 non-null  float64       \n",
      "dtypes: datetime64[ns](1), float64(6), int64(1), object(2)\n",
      "memory usage: 118.5+ MB\n",
      "None\n",
      "<class 'pandas.core.frame.DataFrame'>\n",
      "Int64Index: 2987702 entries, 0 to 2987701\n",
      "Data columns (total 19 columns):\n",
      " #   Column                   Dtype         \n",
      "---  ------                   -----         \n",
      " 0   start_time               datetime64[ns]\n",
      " 1   end_time                 object        \n",
      " 2   start_station_id         int64         \n",
      " 3   start_station_lat        float64       \n",
      " 4   start_station_lon        float64       \n",
      " 5   end_station_id           int64         \n",
      " 6   end_station_lat          float64       \n",
      " 7   end_station_lon          float64       \n",
      " 8   bike_id                  object        \n",
      " 9   idle_time                object        \n",
      " 10  index                    int64         \n",
      " 11  city                     object        \n",
      " 12  temperature              float64       \n",
      " 13  cloud_cover              float64       \n",
      " 14  cloud_cover_description  object        \n",
      " 15  pressure                 float64       \n",
      " 16  windspeed                float64       \n",
      " 17  precipitation            float64       \n",
      " 18  felt_temperature         float64       \n",
      "dtypes: datetime64[ns](1), float64(10), int64(3), object(5)\n",
      "memory usage: 455.9+ MB\n",
      "None\n"
     ]
    }
   ],
   "source": [
    "#Faulty code\n",
    "#metro_set['start_time'] = pd.to_datetime(metro_set['start_time'])\n",
    "#weather_set['timestamp'] = pd.to_datetime(weather_set['timestamp'])\n",
    "#metro_set.sort_values('start_time', inplace=True)\n",
    "#weather_set.sort_values('timestamp', inplace=True)\n",
    "#\n",
    "#weather_set.reset_index(inplace=True)\n",
    "#Weather_Set1 = weather_set.set_index('timestamp').reindex(metro_set.set_index('start_time').index, method='nearest').reset_index()\n",
    "#\n",
    "#print(Weather_Set1.info())\n",
    "#\n",
    "#merged_set = pd.merge(metro_set, Weather_Set1, on='start_time')\n",
    "#print(merged_set.info())\n",
    "#merged_set.to_csv(\"../Data_Cleanup/outCSV/Merged_set.csv\")\n",
    "#"
   ]
  },
  {
   "cell_type": "code",
   "execution_count": 17,
   "outputs": [
    {
     "name": "stdout",
     "output_type": "stream",
     "text": [
      "1057378\n",
      "1057378\n"
     ]
    }
   ],
   "source": [
    "print(metro_set['start_time'].nunique())\n",
    "print(Weather_Set1['start_time'].nunique())"
   ],
   "metadata": {
    "collapsed": false,
    "ExecuteTime": {
     "start_time": "2023-07-16T19:04:52.568050Z",
     "end_time": "2023-07-16T19:04:52.744016Z"
    }
   }
  },
  {
   "cell_type": "code",
   "execution_count": 18,
   "metadata": {
    "ExecuteTime": {
     "start_time": "2023-07-16T19:04:55.694493Z",
     "end_time": "2023-07-16T19:04:56.620309Z"
    }
   },
   "outputs": [
    {
     "name": "stdout",
     "output_type": "stream",
     "text": [
      "<class 'pandas.core.frame.DataFrame'>\n",
      "Int64Index: 1552782 entries, 0 to 1552781\n",
      "Data columns (total 17 columns):\n",
      " #   Column                   Non-Null Count    Dtype         \n",
      "---  ------                   --------------    -----         \n",
      " 0   start_time               1552782 non-null  datetime64[ns]\n",
      " 1   end_time                 1552782 non-null  object        \n",
      " 2   start_station_id         1552782 non-null  int64         \n",
      " 3   start_station_lat        1552782 non-null  float64       \n",
      " 4   start_station_lon        1552782 non-null  float64       \n",
      " 5   end_station_id           1552782 non-null  int64         \n",
      " 6   end_station_lat          1552782 non-null  float64       \n",
      " 7   end_station_lon          1552782 non-null  float64       \n",
      " 8   bike_id                  1552782 non-null  object        \n",
      " 9   idle_time                1551807 non-null  object        \n",
      " 10  temperature              1552782 non-null  float64       \n",
      " 11  cloud_cover              1552782 non-null  float64       \n",
      " 12  cloud_cover_description  1552782 non-null  object        \n",
      " 13  pressure                 1552782 non-null  float64       \n",
      " 14  windspeed                1552782 non-null  float64       \n",
      " 15  precipitation            1552782 non-null  float64       \n",
      " 16  felt_temperature         1552782 non-null  float64       \n",
      "dtypes: datetime64[ns](1), float64(10), int64(2), object(4)\n",
      "memory usage: 213.2+ MB\n"
     ]
    }
   ],
   "source": [
    "merged_set.info()"
   ]
  }
 ],
 "metadata": {
  "kernelspec": {
   "display_name": "DSML",
   "language": "python",
   "name": "python3"
  },
  "language_info": {
   "codemirror_mode": {
    "name": "ipython",
    "version": 3
   },
   "file_extension": ".py",
   "mimetype": "text/x-python",
   "name": "python",
   "nbconvert_exporter": "python",
   "pygments_lexer": "ipython3",
   "version": "3.11.2"
  },
  "orig_nbformat": 4
 },
 "nbformat": 4,
 "nbformat_minor": 2
}
