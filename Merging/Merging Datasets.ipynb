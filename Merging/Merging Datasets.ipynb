{
 "cells": [
  {
   "cell_type": "code",
   "execution_count": 7,
   "metadata": {},
   "outputs": [
    {
     "name": "stderr",
     "output_type": "stream",
     "text": [
      "C:\\Users\\moham\\AppData\\Local\\Temp\\ipykernel_2116\\460171687.py:5: DtypeWarning: Columns (10) have mixed types. Specify dtype option on import or set low_memory=False.\n",
      "  metro_set = pd.read_csv(metro_file, index_col=0)\n"
     ]
    }
   ],
   "source": [
    "import pandas as pd\n",
    "from datetime import datetime, timedelta\n",
    "metro_file = '../Data_Cleanup/outCSV/Metro_Set_with_IdleTime.csv'\n",
    "weather_file = \"../Data_Cleanup/outCSV/Clean_Weather_Set.csv\"\n",
    "metro_set = pd.read_csv(metro_file, index_col=0)\n",
    "weather_set = pd.read_csv(weather_file, index_col=0)\n",
    "\n"
   ]
  },
  {
   "cell_type": "code",
   "execution_count": 8,
   "metadata": {},
   "outputs": [],
   "source": [
    "import pandas as pd\n",
    "\n",
    "# Step 1: Convert time columns to a compatible format if necessary\n",
    "\n",
    "metro_set[\"start_time\"] = pd.to_datetime(metro_set[\"start_time\"])\n",
    "weather_set[\"timestamp\"] = pd.to_datetime(weather_set[\"timestamp\"])\n",
    "\n",
    "# Step 2: Sort both datasets by time\n",
    "\n",
    "Metro_Set = metro_set.sort_values('start_time')\n",
    "Weather_Set = weather_set.sort_values('timestamp')\n",
    "\n",
    "# Step 3: Merge the datasets based on the nearest time\n",
    "\n",
    "merged_set = pd.merge_asof(Metro_Set, Weather_Set, left_on='start_time', right_on='timestamp')\n",
    "\n",
    "# Step 4: Perform a left join and keep all rows from Metro_Set\n",
    "\n",
    "merged_set = pd.merge(Metro_Set, Weather_Set, how='left', left_on='start_time', right_on='timestamp')\n",
    "\n",
    "\n",
    "\n",
    "# The merged_set now contains the Metro_Set with the felt temperature added and missing values filled using forward-fill.\n",
    "\n"
   ]
  },
  {
   "cell_type": "code",
   "execution_count": 12,
   "metadata": {},
   "outputs": [],
   "source": [
    "merged_set.drop(\"timestamp\", axis=1, inplace=True)\n",
    "\n",
    "merged_set[\"temperature\"].fillna(method=\"ffill\", inplace=True)\n",
    "merged_set[\"cloud_cover\"].fillna(method=\"ffill\", inplace=True)\n",
    "merged_set[\"cloud_cover_description\"].fillna(method=\"ffill\", inplace=True)\n",
    "merged_set[\"pressure\"].fillna(method=\"ffill\", inplace=True)\n",
    "merged_set[\"windspeed\"].fillna(method=\"ffill\", inplace=True)\n",
    "merged_set[\"precipitation\"].fillna(method=\"ffill\", inplace=True)\n",
    "merged_set[\"felt_temperature\"].fillna(method=\"ffill\", inplace=True)\n"
   ]
  },
  {
   "cell_type": "code",
   "execution_count": 14,
   "metadata": {},
   "outputs": [],
   "source": [
    "\n",
    "merged_set[\"temperature\"].fillna(method=\"bfill\", inplace=True)\n",
    "merged_set[\"cloud_cover\"].fillna(method=\"bfill\", inplace=True)\n",
    "merged_set[\"cloud_cover_description\"].fillna(method=\"bfill\", inplace=True)\n",
    "merged_set[\"pressure\"].fillna(method=\"bfill\", inplace=True)\n",
    "merged_set[\"windspeed\"].fillna(method=\"bfill\", inplace=True)\n",
    "merged_set[\"precipitation\"].fillna(method=\"bfill\", inplace=True)\n",
    "merged_set[\"felt_temperature\"].fillna(method=\"bfill\", inplace=True)"
   ]
  },
  {
   "cell_type": "code",
   "execution_count": 15,
   "metadata": {},
   "outputs": [],
   "source": [
    "merged_set.to_csv(\"../Data_Cleanup/outCSV/Merged_Set_test1.csv\")"
   ]
  }
 ],
 "metadata": {
  "kernelspec": {
   "display_name": "DSML",
   "language": "python",
   "name": "python3"
  },
  "language_info": {
   "codemirror_mode": {
    "name": "ipython",
    "version": 3
   },
   "file_extension": ".py",
   "mimetype": "text/x-python",
   "name": "python",
   "nbconvert_exporter": "python",
   "pygments_lexer": "ipython3",
   "version": "3.11.2"
  },
  "orig_nbformat": 4
 },
 "nbformat": 4,
 "nbformat_minor": 2
}
