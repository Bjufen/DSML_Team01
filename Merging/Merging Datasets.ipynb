{
 "cells": [
  {
   "cell_type": "code",
   "execution_count": 1,
   "metadata": {
    "ExecuteTime": {
     "start_time": "2023-07-21T21:18:07.503424Z",
     "end_time": "2023-07-21T21:18:11.176076Z"
    }
   },
   "outputs": [
    {
     "name": "stderr",
     "output_type": "stream",
     "text": [
      "C:\\Users\\yusuf\\AppData\\Local\\Temp\\ipykernel_115884\\2902614706.py:5: DtypeWarning: Columns (10) have mixed types. Specify dtype option on import or set low_memory=False.\n",
      "  metro_set = pd.read_csv(metro_file, index_col=0)\n"
     ]
    },
    {
     "name": "stdout",
     "output_type": "stream",
     "text": [
      "<class 'pandas.core.frame.DataFrame'>\n",
      "Int64Index: 1552782 entries, 0 to 1552777\n",
      "Data columns (total 24 columns):\n",
      " #   Column             Non-Null Count    Dtype  \n",
      "---  ------             --------------    -----  \n",
      " 0   Unnamed: 0         1552782 non-null  int64  \n",
      " 1   start_time         1552782 non-null  object \n",
      " 2   end_time           1552782 non-null  object \n",
      " 3   start_station_id   1552782 non-null  int64  \n",
      " 4   start_station_lat  1552782 non-null  float64\n",
      " 5   start_station_lon  1552782 non-null  float64\n",
      " 6   end_station_id     1552782 non-null  int64  \n",
      " 7   end_station_lat    1552782 non-null  float64\n",
      " 8   end_station_lon    1552782 non-null  float64\n",
      " 9   bike_id            1552782 non-null  object \n",
      " 10  idle_time          1551807 non-null  object \n",
      " 11  morgens            1552782 non-null  int64  \n",
      " 12  vormittags         1552782 non-null  int64  \n",
      " 13  mittags            1552782 non-null  int64  \n",
      " 14  nachmittags        1552782 non-null  int64  \n",
      " 15  abends             1552782 non-null  int64  \n",
      " 16  nachts             1552782 non-null  int64  \n",
      " 17  monday             1552782 non-null  int64  \n",
      " 18  tuesday            1552782 non-null  int64  \n",
      " 19  wednesday          1552782 non-null  int64  \n",
      " 20  thursday           1552782 non-null  int64  \n",
      " 21  friday             1552782 non-null  int64  \n",
      " 22  saturday           1552782 non-null  int64  \n",
      " 23  sunday             1552782 non-null  int64  \n",
      "dtypes: float64(4), int64(16), object(4)\n",
      "memory usage: 296.2+ MB\n",
      "<class 'pandas.core.frame.DataFrame'>\n",
      "Index: 77362 entries, Burbank to Burbank\n",
      "Data columns (total 8 columns):\n",
      " #   Column                   Non-Null Count  Dtype  \n",
      "---  ------                   --------------  -----  \n",
      " 0   timestamp                77362 non-null  object \n",
      " 1   temperature              77362 non-null  float64\n",
      " 2   cloud_cover              77362 non-null  float64\n",
      " 3   cloud_cover_description  77362 non-null  object \n",
      " 4   pressure                 77362 non-null  float64\n",
      " 5   windspeed                77362 non-null  float64\n",
      " 6   precipitation            77362 non-null  float64\n",
      " 7   felt_temperature         77362 non-null  float64\n",
      "dtypes: float64(6), object(2)\n",
      "memory usage: 5.3+ MB\n"
     ]
    },
    {
     "data": {
      "text/plain": "(None, None)"
     },
     "execution_count": 1,
     "metadata": {},
     "output_type": "execute_result"
    }
   ],
   "source": [
    "import pandas as pd\n",
    "from datetime import datetime, timedelta\n",
    "metro_file = '../Data_Cleanup/outCSV/Metro_Set_DayAndDayTimes.csv'\n",
    "weather_file = \"../Data_Cleanup/outCSV/Clean_Weather_Set.csv\"\n",
    "metro_set = pd.read_csv(metro_file, index_col=0)\n",
    "weather_set = pd.read_csv(weather_file, index_col=0)\n",
    "\n",
    "\n",
    "metro_set.info(), weather_set.info()"
   ]
  },
  {
   "cell_type": "code",
   "execution_count": 3,
   "outputs": [],
   "source": [
    "metro_set['start_time'] = pd.to_datetime(metro_set['start_time'])\n",
    "weather_set['timestamp'] = pd.to_datetime(weather_set['timestamp'])\n",
    "metro_set.sort_values('start_time', inplace=True)\n",
    "weather_set.sort_values('timestamp', inplace=True)\n",
    "\n",
    "Weather_Set1 = weather_set.set_index('timestamp').reindex(metro_set.set_index('start_time').index, method='nearest')\n",
    "Weather_Set1 = Weather_Set1.loc[~Weather_Set1.index.duplicated(keep='first')].reset_index()\n",
    "\n",
    "merged_set = pd.merge(metro_set, Weather_Set1, on='start_time', how='left')\n",
    "merged_set.to_csv(\"../Data_Cleanup/outCSV/Merged_set_new.csv\")"
   ],
   "metadata": {
    "collapsed": false,
    "ExecuteTime": {
     "start_time": "2023-07-19T16:36:15.277680Z",
     "end_time": "2023-07-19T16:36:34.786158Z"
    }
   }
  },
  {
   "cell_type": "code",
   "execution_count": 4,
   "outputs": [
    {
     "name": "stdout",
     "output_type": "stream",
     "text": [
      "<class 'pandas.core.frame.DataFrame'>\n",
      "Int64Index: 1552782 entries, 0 to 1552781\n",
      "Data columns (total 31 columns):\n",
      " #   Column                   Non-Null Count    Dtype         \n",
      "---  ------                   --------------    -----         \n",
      " 0   Unnamed: 0               1552782 non-null  int64         \n",
      " 1   start_time               1552782 non-null  datetime64[ns]\n",
      " 2   end_time                 1552782 non-null  object        \n",
      " 3   start_station_id         1552782 non-null  int64         \n",
      " 4   start_station_lat        1552782 non-null  float64       \n",
      " 5   start_station_lon        1552782 non-null  float64       \n",
      " 6   end_station_id           1552782 non-null  int64         \n",
      " 7   end_station_lat          1552782 non-null  float64       \n",
      " 8   end_station_lon          1552782 non-null  float64       \n",
      " 9   bike_id                  1552782 non-null  object        \n",
      " 10  idle_time                1551807 non-null  object        \n",
      " 11  morgens                  1552782 non-null  int64         \n",
      " 12  vormittags               1552782 non-null  int64         \n",
      " 13  mittags                  1552782 non-null  int64         \n",
      " 14  nachmittags              1552782 non-null  int64         \n",
      " 15  abends                   1552782 non-null  int64         \n",
      " 16  nachts                   1552782 non-null  int64         \n",
      " 17  monday                   1552782 non-null  int64         \n",
      " 18  tuesday                  1552782 non-null  int64         \n",
      " 19  wednesday                1552782 non-null  int64         \n",
      " 20  thursday                 1552782 non-null  int64         \n",
      " 21  friday                   1552782 non-null  int64         \n",
      " 22  saturday                 1552782 non-null  int64         \n",
      " 23  sunday                   1552782 non-null  int64         \n",
      " 24  temperature              1552782 non-null  float64       \n",
      " 25  cloud_cover              1552782 non-null  float64       \n",
      " 26  cloud_cover_description  1552782 non-null  object        \n",
      " 27  pressure                 1552782 non-null  float64       \n",
      " 28  windspeed                1552782 non-null  float64       \n",
      " 29  precipitation            1552782 non-null  float64       \n",
      " 30  felt_temperature         1552782 non-null  float64       \n",
      "dtypes: datetime64[ns](1), float64(10), int64(16), object(4)\n",
      "memory usage: 379.1+ MB\n"
     ]
    }
   ],
   "source": [
    "merged_set.info()"
   ],
   "metadata": {
    "collapsed": false,
    "ExecuteTime": {
     "start_time": "2023-07-19T16:36:34.786158Z",
     "end_time": "2023-07-19T16:36:35.456709Z"
    }
   }
  },
  {
   "cell_type": "code",
   "execution_count": 5,
   "metadata": {
    "ExecuteTime": {
     "start_time": "2023-07-19T16:36:35.459741Z",
     "end_time": "2023-07-19T16:36:35.475182Z"
    }
   },
   "outputs": [],
   "source": [
    "#Faulty code\n",
    "#metro_set['start_time'] = pd.to_datetime(metro_set['start_time'])\n",
    "#weather_set['timestamp'] = pd.to_datetime(weather_set['timestamp'])\n",
    "#metro_set.sort_values('start_time', inplace=True)\n",
    "#weather_set.sort_values('timestamp', inplace=True)\n",
    "#\n",
    "#weather_set.reset_index(inplace=True)\n",
    "#Weather_Set1 = weather_set.set_index('timestamp').reindex(metro_set.set_index('start_time').index, method='nearest').reset_index()\n",
    "#\n",
    "#print(Weather_Set1.info())\n",
    "#\n",
    "#merged_set = pd.merge(metro_set, Weather_Set1, on='start_time')\n",
    "#print(merged_set.info())\n",
    "#merged_set.to_csv(\"../Data_Cleanup/outCSV/Merged_set.csv\")\n",
    "#"
   ]
  },
  {
   "cell_type": "code",
   "execution_count": 6,
   "outputs": [
    {
     "name": "stdout",
     "output_type": "stream",
     "text": [
      "1057378\n",
      "1057378\n"
     ]
    }
   ],
   "source": [
    "print(metro_set['start_time'].nunique())\n",
    "print(Weather_Set1['start_time'].nunique())"
   ],
   "metadata": {
    "collapsed": false,
    "ExecuteTime": {
     "start_time": "2023-07-19T16:36:35.478764Z",
     "end_time": "2023-07-19T16:36:35.617220Z"
    }
   }
  },
  {
   "cell_type": "code",
   "execution_count": 7,
   "metadata": {
    "ExecuteTime": {
     "start_time": "2023-07-19T16:36:35.617220Z",
     "end_time": "2023-07-19T16:36:36.253085Z"
    }
   },
   "outputs": [
    {
     "name": "stdout",
     "output_type": "stream",
     "text": [
      "<class 'pandas.core.frame.DataFrame'>\n",
      "Int64Index: 1552782 entries, 0 to 1552781\n",
      "Data columns (total 31 columns):\n",
      " #   Column                   Non-Null Count    Dtype         \n",
      "---  ------                   --------------    -----         \n",
      " 0   Unnamed: 0               1552782 non-null  int64         \n",
      " 1   start_time               1552782 non-null  datetime64[ns]\n",
      " 2   end_time                 1552782 non-null  object        \n",
      " 3   start_station_id         1552782 non-null  int64         \n",
      " 4   start_station_lat        1552782 non-null  float64       \n",
      " 5   start_station_lon        1552782 non-null  float64       \n",
      " 6   end_station_id           1552782 non-null  int64         \n",
      " 7   end_station_lat          1552782 non-null  float64       \n",
      " 8   end_station_lon          1552782 non-null  float64       \n",
      " 9   bike_id                  1552782 non-null  object        \n",
      " 10  idle_time                1551807 non-null  object        \n",
      " 11  morgens                  1552782 non-null  int64         \n",
      " 12  vormittags               1552782 non-null  int64         \n",
      " 13  mittags                  1552782 non-null  int64         \n",
      " 14  nachmittags              1552782 non-null  int64         \n",
      " 15  abends                   1552782 non-null  int64         \n",
      " 16  nachts                   1552782 non-null  int64         \n",
      " 17  monday                   1552782 non-null  int64         \n",
      " 18  tuesday                  1552782 non-null  int64         \n",
      " 19  wednesday                1552782 non-null  int64         \n",
      " 20  thursday                 1552782 non-null  int64         \n",
      " 21  friday                   1552782 non-null  int64         \n",
      " 22  saturday                 1552782 non-null  int64         \n",
      " 23  sunday                   1552782 non-null  int64         \n",
      " 24  temperature              1552782 non-null  float64       \n",
      " 25  cloud_cover              1552782 non-null  float64       \n",
      " 26  cloud_cover_description  1552782 non-null  object        \n",
      " 27  pressure                 1552782 non-null  float64       \n",
      " 28  windspeed                1552782 non-null  float64       \n",
      " 29  precipitation            1552782 non-null  float64       \n",
      " 30  felt_temperature         1552782 non-null  float64       \n",
      "dtypes: datetime64[ns](1), float64(10), int64(16), object(4)\n",
      "memory usage: 379.1+ MB\n"
     ]
    }
   ],
   "source": [
    "merged_set.info()"
   ]
  }
 ],
 "metadata": {
  "kernelspec": {
   "display_name": "DSML",
   "language": "python",
   "name": "python3"
  },
  "language_info": {
   "codemirror_mode": {
    "name": "ipython",
    "version": 3
   },
   "file_extension": ".py",
   "mimetype": "text/x-python",
   "name": "python",
   "nbconvert_exporter": "python",
   "pygments_lexer": "ipython3",
   "version": "3.11.2"
  },
  "orig_nbformat": 4
 },
 "nbformat": 4,
 "nbformat_minor": 2
}
