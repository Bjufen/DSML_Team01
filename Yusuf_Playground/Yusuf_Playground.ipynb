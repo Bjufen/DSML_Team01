{
 "cells": [
  {
   "cell_type": "code",
   "execution_count": 14,
   "metadata": {
    "collapsed": true,
    "ExecuteTime": {
     "start_time": "2023-05-03T23:12:52.458876Z",
     "end_time": "2023-05-03T23:12:52.552093Z"
    }
   },
   "outputs": [],
   "source": [
    "import pandas as pd\n",
    "weather_set = pd.read_csv(\"CSV/Weather_losAngeles.csv\", sep=\",\", index_col=\"timestamp\")"
   ]
  },
  {
   "cell_type": "code",
   "execution_count": 15,
   "outputs": [
    {
     "data": {
      "text/plain": "                        city  temperature  cloud_cover  \\\ntimestamp                                                \n2015-01-01 08:53:00  Burbank          3.0         33.0   \n2015-01-01 09:53:00  Burbank          2.0         33.0   \n2015-01-01 10:53:00  Burbank          2.0         33.0   \n2015-01-01 11:53:00  Burbank          1.0         33.0   \n2015-01-01 12:53:00  Burbank          1.0         33.0   \n\n                    cloud_cover_description  pressure  windspeed  \\\ntimestamp                                                          \n2015-01-01 08:53:00                    Fair    989.11        0.0   \n2015-01-01 09:53:00                    Fair    989.77        0.0   \n2015-01-01 10:53:00                    Fair    989.44        0.0   \n2015-01-01 11:53:00                    Fair    989.77        0.0   \n2015-01-01 12:53:00                    Fair    990.10        0.0   \n\n                     precipitation  felt_temperature  \ntimestamp                                             \n2015-01-01 08:53:00            0.0               3.0  \n2015-01-01 09:53:00            0.0               2.0  \n2015-01-01 10:53:00            0.0               2.0  \n2015-01-01 11:53:00            0.0               1.0  \n2015-01-01 12:53:00            0.0               1.0  ",
      "text/html": "<div>\n<style scoped>\n    .dataframe tbody tr th:only-of-type {\n        vertical-align: middle;\n    }\n\n    .dataframe tbody tr th {\n        vertical-align: top;\n    }\n\n    .dataframe thead th {\n        text-align: right;\n    }\n</style>\n<table border=\"1\" class=\"dataframe\">\n  <thead>\n    <tr style=\"text-align: right;\">\n      <th></th>\n      <th>city</th>\n      <th>temperature</th>\n      <th>cloud_cover</th>\n      <th>cloud_cover_description</th>\n      <th>pressure</th>\n      <th>windspeed</th>\n      <th>precipitation</th>\n      <th>felt_temperature</th>\n    </tr>\n    <tr>\n      <th>timestamp</th>\n      <th></th>\n      <th></th>\n      <th></th>\n      <th></th>\n      <th></th>\n      <th></th>\n      <th></th>\n      <th></th>\n    </tr>\n  </thead>\n  <tbody>\n    <tr>\n      <th>2015-01-01 08:53:00</th>\n      <td>Burbank</td>\n      <td>3.0</td>\n      <td>33.0</td>\n      <td>Fair</td>\n      <td>989.11</td>\n      <td>0.0</td>\n      <td>0.0</td>\n      <td>3.0</td>\n    </tr>\n    <tr>\n      <th>2015-01-01 09:53:00</th>\n      <td>Burbank</td>\n      <td>2.0</td>\n      <td>33.0</td>\n      <td>Fair</td>\n      <td>989.77</td>\n      <td>0.0</td>\n      <td>0.0</td>\n      <td>2.0</td>\n    </tr>\n    <tr>\n      <th>2015-01-01 10:53:00</th>\n      <td>Burbank</td>\n      <td>2.0</td>\n      <td>33.0</td>\n      <td>Fair</td>\n      <td>989.44</td>\n      <td>0.0</td>\n      <td>0.0</td>\n      <td>2.0</td>\n    </tr>\n    <tr>\n      <th>2015-01-01 11:53:00</th>\n      <td>Burbank</td>\n      <td>1.0</td>\n      <td>33.0</td>\n      <td>Fair</td>\n      <td>989.77</td>\n      <td>0.0</td>\n      <td>0.0</td>\n      <td>1.0</td>\n    </tr>\n    <tr>\n      <th>2015-01-01 12:53:00</th>\n      <td>Burbank</td>\n      <td>1.0</td>\n      <td>33.0</td>\n      <td>Fair</td>\n      <td>990.10</td>\n      <td>0.0</td>\n      <td>0.0</td>\n      <td>1.0</td>\n    </tr>\n  </tbody>\n</table>\n</div>"
     },
     "execution_count": 15,
     "metadata": {},
     "output_type": "execute_result"
    }
   ],
   "source": [
    "weather_set.head()"
   ],
   "metadata": {
    "collapsed": false,
    "ExecuteTime": {
     "start_time": "2023-05-03T23:12:52.552093Z",
     "end_time": "2023-05-03T23:12:52.599428Z"
    }
   }
  },
  {
   "cell_type": "code",
   "execution_count": 16,
   "outputs": [
    {
     "data": {
      "text/plain": "Index(['city', 'temperature', 'cloud_cover', 'cloud_cover_description',\n       'pressure', 'windspeed', 'precipitation', 'felt_temperature'],\n      dtype='object')"
     },
     "execution_count": 16,
     "metadata": {},
     "output_type": "execute_result"
    }
   ],
   "source": [
    "weather_set.columns"
   ],
   "metadata": {
    "collapsed": false,
    "ExecuteTime": {
     "start_time": "2023-05-03T23:12:52.586241Z",
     "end_time": "2023-05-03T23:12:52.599428Z"
    }
   }
  },
  {
   "cell_type": "code",
   "execution_count": 17,
   "outputs": [
    {
     "data": {
      "text/plain": "        temperature   cloud_cover      pressure     windspeed  precipitation  \\\ncount  77260.000000  77281.000000  77335.000000  77151.000000   77362.000000   \nmean      18.405177     30.304214    986.871789      8.452165       0.044915   \nstd        6.564116      5.243314      3.650721      6.813668       0.398354   \nmin      -17.000000      4.000000    968.370000      0.000000       0.000000   \n25%       14.000000     27.000000    984.500000      0.000000       0.000000   \n50%       18.000000     33.000000    986.480000      7.000000       0.000000   \n75%       22.000000     34.000000    989.110000     13.000000       0.000000   \nmax       54.000000     47.000000   1002.940000     65.000000      18.540000   \n\n       felt_temperature  \ncount      77254.000000  \nmean          18.249579  \nstd            6.418661  \nmin          -24.000000  \n25%           14.000000  \n50%           18.000000  \n75%           22.000000  \nmax           44.000000  ",
      "text/html": "<div>\n<style scoped>\n    .dataframe tbody tr th:only-of-type {\n        vertical-align: middle;\n    }\n\n    .dataframe tbody tr th {\n        vertical-align: top;\n    }\n\n    .dataframe thead th {\n        text-align: right;\n    }\n</style>\n<table border=\"1\" class=\"dataframe\">\n  <thead>\n    <tr style=\"text-align: right;\">\n      <th></th>\n      <th>temperature</th>\n      <th>cloud_cover</th>\n      <th>pressure</th>\n      <th>windspeed</th>\n      <th>precipitation</th>\n      <th>felt_temperature</th>\n    </tr>\n  </thead>\n  <tbody>\n    <tr>\n      <th>count</th>\n      <td>77260.000000</td>\n      <td>77281.000000</td>\n      <td>77335.000000</td>\n      <td>77151.000000</td>\n      <td>77362.000000</td>\n      <td>77254.000000</td>\n    </tr>\n    <tr>\n      <th>mean</th>\n      <td>18.405177</td>\n      <td>30.304214</td>\n      <td>986.871789</td>\n      <td>8.452165</td>\n      <td>0.044915</td>\n      <td>18.249579</td>\n    </tr>\n    <tr>\n      <th>std</th>\n      <td>6.564116</td>\n      <td>5.243314</td>\n      <td>3.650721</td>\n      <td>6.813668</td>\n      <td>0.398354</td>\n      <td>6.418661</td>\n    </tr>\n    <tr>\n      <th>min</th>\n      <td>-17.000000</td>\n      <td>4.000000</td>\n      <td>968.370000</td>\n      <td>0.000000</td>\n      <td>0.000000</td>\n      <td>-24.000000</td>\n    </tr>\n    <tr>\n      <th>25%</th>\n      <td>14.000000</td>\n      <td>27.000000</td>\n      <td>984.500000</td>\n      <td>0.000000</td>\n      <td>0.000000</td>\n      <td>14.000000</td>\n    </tr>\n    <tr>\n      <th>50%</th>\n      <td>18.000000</td>\n      <td>33.000000</td>\n      <td>986.480000</td>\n      <td>7.000000</td>\n      <td>0.000000</td>\n      <td>18.000000</td>\n    </tr>\n    <tr>\n      <th>75%</th>\n      <td>22.000000</td>\n      <td>34.000000</td>\n      <td>989.110000</td>\n      <td>13.000000</td>\n      <td>0.000000</td>\n      <td>22.000000</td>\n    </tr>\n    <tr>\n      <th>max</th>\n      <td>54.000000</td>\n      <td>47.000000</td>\n      <td>1002.940000</td>\n      <td>65.000000</td>\n      <td>18.540000</td>\n      <td>44.000000</td>\n    </tr>\n  </tbody>\n</table>\n</div>"
     },
     "execution_count": 17,
     "metadata": {},
     "output_type": "execute_result"
    }
   ],
   "source": [
    "weather_set.describe()"
   ],
   "metadata": {
    "collapsed": false,
    "ExecuteTime": {
     "start_time": "2023-05-03T23:12:52.599428Z",
     "end_time": "2023-05-03T23:12:52.691881Z"
    }
   }
  },
  {
   "cell_type": "code",
   "execution_count": 18,
   "outputs": [
    {
     "name": "stdout",
     "output_type": "stream",
     "text": [
      "<class 'pandas.core.frame.DataFrame'>\n",
      "Index: 77362 entries, 2015-01-01 08:53:00 to 2023-01-01 07:55:00\n",
      "Data columns (total 8 columns):\n",
      " #   Column                   Non-Null Count  Dtype  \n",
      "---  ------                   --------------  -----  \n",
      " 0   city                     77362 non-null  object \n",
      " 1   temperature              77260 non-null  float64\n",
      " 2   cloud_cover              77281 non-null  float64\n",
      " 3   cloud_cover_description  77281 non-null  object \n",
      " 4   pressure                 77335 non-null  float64\n",
      " 5   windspeed                77151 non-null  float64\n",
      " 6   precipitation            77362 non-null  float64\n",
      " 7   felt_temperature         77254 non-null  float64\n",
      "dtypes: float64(6), object(2)\n",
      "memory usage: 5.3+ MB\n"
     ]
    }
   ],
   "source": [
    "weather_set.info()"
   ],
   "metadata": {
    "collapsed": false,
    "ExecuteTime": {
     "start_time": "2023-05-03T23:12:52.652093Z",
     "end_time": "2023-05-03T23:12:52.723879Z"
    }
   }
  },
  {
   "cell_type": "code",
   "execution_count": 19,
   "outputs": [
    {
     "data": {
      "text/plain": "                      city  temperature  cloud_cover  cloud_cover_description  \\\ntimestamp                                                                       \n2015-01-01 08:53:00  False        False        False                    False   \n2015-01-01 09:53:00  False        False        False                    False   \n2015-01-01 10:53:00  False        False        False                    False   \n2015-01-01 11:53:00  False        False        False                    False   \n2015-01-01 12:53:00  False        False        False                    False   \n...                    ...          ...          ...                      ...   \n2023-01-01 06:36:00  False        False        False                    False   \n2023-01-01 06:53:00  False        False        False                    False   \n2023-01-01 07:18:00  False        False        False                    False   \n2023-01-01 07:53:00  False        False        False                    False   \n2023-01-01 07:55:00  False        False        False                    False   \n\n                     pressure  windspeed  precipitation  felt_temperature  \ntimestamp                                                                  \n2015-01-01 08:53:00     False      False          False             False  \n2015-01-01 09:53:00     False      False          False             False  \n2015-01-01 10:53:00     False      False          False             False  \n2015-01-01 11:53:00     False      False          False             False  \n2015-01-01 12:53:00     False      False          False             False  \n...                       ...        ...            ...               ...  \n2023-01-01 06:36:00     False      False          False             False  \n2023-01-01 06:53:00     False      False          False             False  \n2023-01-01 07:18:00     False      False          False             False  \n2023-01-01 07:53:00     False      False          False             False  \n2023-01-01 07:55:00     False      False          False             False  \n\n[77362 rows x 8 columns]",
      "text/html": "<div>\n<style scoped>\n    .dataframe tbody tr th:only-of-type {\n        vertical-align: middle;\n    }\n\n    .dataframe tbody tr th {\n        vertical-align: top;\n    }\n\n    .dataframe thead th {\n        text-align: right;\n    }\n</style>\n<table border=\"1\" class=\"dataframe\">\n  <thead>\n    <tr style=\"text-align: right;\">\n      <th></th>\n      <th>city</th>\n      <th>temperature</th>\n      <th>cloud_cover</th>\n      <th>cloud_cover_description</th>\n      <th>pressure</th>\n      <th>windspeed</th>\n      <th>precipitation</th>\n      <th>felt_temperature</th>\n    </tr>\n    <tr>\n      <th>timestamp</th>\n      <th></th>\n      <th></th>\n      <th></th>\n      <th></th>\n      <th></th>\n      <th></th>\n      <th></th>\n      <th></th>\n    </tr>\n  </thead>\n  <tbody>\n    <tr>\n      <th>2015-01-01 08:53:00</th>\n      <td>False</td>\n      <td>False</td>\n      <td>False</td>\n      <td>False</td>\n      <td>False</td>\n      <td>False</td>\n      <td>False</td>\n      <td>False</td>\n    </tr>\n    <tr>\n      <th>2015-01-01 09:53:00</th>\n      <td>False</td>\n      <td>False</td>\n      <td>False</td>\n      <td>False</td>\n      <td>False</td>\n      <td>False</td>\n      <td>False</td>\n      <td>False</td>\n    </tr>\n    <tr>\n      <th>2015-01-01 10:53:00</th>\n      <td>False</td>\n      <td>False</td>\n      <td>False</td>\n      <td>False</td>\n      <td>False</td>\n      <td>False</td>\n      <td>False</td>\n      <td>False</td>\n    </tr>\n    <tr>\n      <th>2015-01-01 11:53:00</th>\n      <td>False</td>\n      <td>False</td>\n      <td>False</td>\n      <td>False</td>\n      <td>False</td>\n      <td>False</td>\n      <td>False</td>\n      <td>False</td>\n    </tr>\n    <tr>\n      <th>2015-01-01 12:53:00</th>\n      <td>False</td>\n      <td>False</td>\n      <td>False</td>\n      <td>False</td>\n      <td>False</td>\n      <td>False</td>\n      <td>False</td>\n      <td>False</td>\n    </tr>\n    <tr>\n      <th>...</th>\n      <td>...</td>\n      <td>...</td>\n      <td>...</td>\n      <td>...</td>\n      <td>...</td>\n      <td>...</td>\n      <td>...</td>\n      <td>...</td>\n    </tr>\n    <tr>\n      <th>2023-01-01 06:36:00</th>\n      <td>False</td>\n      <td>False</td>\n      <td>False</td>\n      <td>False</td>\n      <td>False</td>\n      <td>False</td>\n      <td>False</td>\n      <td>False</td>\n    </tr>\n    <tr>\n      <th>2023-01-01 06:53:00</th>\n      <td>False</td>\n      <td>False</td>\n      <td>False</td>\n      <td>False</td>\n      <td>False</td>\n      <td>False</td>\n      <td>False</td>\n      <td>False</td>\n    </tr>\n    <tr>\n      <th>2023-01-01 07:18:00</th>\n      <td>False</td>\n      <td>False</td>\n      <td>False</td>\n      <td>False</td>\n      <td>False</td>\n      <td>False</td>\n      <td>False</td>\n      <td>False</td>\n    </tr>\n    <tr>\n      <th>2023-01-01 07:53:00</th>\n      <td>False</td>\n      <td>False</td>\n      <td>False</td>\n      <td>False</td>\n      <td>False</td>\n      <td>False</td>\n      <td>False</td>\n      <td>False</td>\n    </tr>\n    <tr>\n      <th>2023-01-01 07:55:00</th>\n      <td>False</td>\n      <td>False</td>\n      <td>False</td>\n      <td>False</td>\n      <td>False</td>\n      <td>False</td>\n      <td>False</td>\n      <td>False</td>\n    </tr>\n  </tbody>\n</table>\n<p>77362 rows × 8 columns</p>\n</div>"
     },
     "execution_count": 19,
     "metadata": {},
     "output_type": "execute_result"
    }
   ],
   "source": [
    "weather_set.isnull()"
   ],
   "metadata": {
    "collapsed": false,
    "ExecuteTime": {
     "start_time": "2023-05-03T23:12:52.676874Z",
     "end_time": "2023-05-03T23:12:52.776559Z"
    }
   }
  },
  {
   "cell_type": "code",
   "execution_count": 20,
   "outputs": [
    {
     "data": {
      "text/plain": "                        city  temperature  cloud_cover  \\\ntimestamp                                                \n2015-01-01 08:53:00  Burbank          3.0         33.0   \n2015-01-01 09:53:00  Burbank          2.0         33.0   \n2015-01-01 10:53:00  Burbank          2.0         33.0   \n2015-01-01 11:53:00  Burbank          1.0         33.0   \n2015-01-01 12:53:00  Burbank          1.0         33.0   \n...                      ...          ...          ...   \n2023-01-01 06:36:00  Burbank         13.0         12.0   \n2023-01-01 06:53:00  Burbank         13.0         12.0   \n2023-01-01 07:18:00  Burbank         13.0         40.0   \n2023-01-01 07:53:00  Burbank         13.0         11.0   \n2023-01-01 07:55:00  Burbank         13.0         11.0   \n\n                    cloud_cover_description  pressure  windspeed  \\\ntimestamp                                                          \n2015-01-01 08:53:00                    Fair    989.11        0.0   \n2015-01-01 09:53:00                    Fair    989.77        0.0   \n2015-01-01 10:53:00                    Fair    989.44        0.0   \n2015-01-01 11:53:00                    Fair    989.77        0.0   \n2015-01-01 12:53:00                    Fair    990.10        0.0   \n...                                     ...       ...        ...   \n2023-01-01 06:36:00                    Rain    979.24       30.0   \n2023-01-01 06:53:00            Rain / Windy    978.91       33.0   \n2023-01-01 07:18:00              Heavy Rain    978.25       31.0   \n2023-01-01 07:53:00              Light Rain    977.92       26.0   \n2023-01-01 07:55:00              Light Rain    978.25       24.0   \n\n                     precipitation  felt_temperature  \ntimestamp                                             \n2015-01-01 08:53:00           0.00               3.0  \n2015-01-01 09:53:00           0.00               2.0  \n2015-01-01 10:53:00           0.00               2.0  \n2015-01-01 11:53:00           0.00               1.0  \n2015-01-01 12:53:00           0.00               1.0  \n...                            ...               ...  \n2023-01-01 06:36:00           2.03              13.0  \n2023-01-01 06:53:00           2.79              13.0  \n2023-01-01 07:18:00           1.27              13.0  \n2023-01-01 07:53:00           3.05              13.0  \n2023-01-01 07:55:00           0.25              13.0  \n\n[76946 rows x 8 columns]",
      "text/html": "<div>\n<style scoped>\n    .dataframe tbody tr th:only-of-type {\n        vertical-align: middle;\n    }\n\n    .dataframe tbody tr th {\n        vertical-align: top;\n    }\n\n    .dataframe thead th {\n        text-align: right;\n    }\n</style>\n<table border=\"1\" class=\"dataframe\">\n  <thead>\n    <tr style=\"text-align: right;\">\n      <th></th>\n      <th>city</th>\n      <th>temperature</th>\n      <th>cloud_cover</th>\n      <th>cloud_cover_description</th>\n      <th>pressure</th>\n      <th>windspeed</th>\n      <th>precipitation</th>\n      <th>felt_temperature</th>\n    </tr>\n    <tr>\n      <th>timestamp</th>\n      <th></th>\n      <th></th>\n      <th></th>\n      <th></th>\n      <th></th>\n      <th></th>\n      <th></th>\n      <th></th>\n    </tr>\n  </thead>\n  <tbody>\n    <tr>\n      <th>2015-01-01 08:53:00</th>\n      <td>Burbank</td>\n      <td>3.0</td>\n      <td>33.0</td>\n      <td>Fair</td>\n      <td>989.11</td>\n      <td>0.0</td>\n      <td>0.00</td>\n      <td>3.0</td>\n    </tr>\n    <tr>\n      <th>2015-01-01 09:53:00</th>\n      <td>Burbank</td>\n      <td>2.0</td>\n      <td>33.0</td>\n      <td>Fair</td>\n      <td>989.77</td>\n      <td>0.0</td>\n      <td>0.00</td>\n      <td>2.0</td>\n    </tr>\n    <tr>\n      <th>2015-01-01 10:53:00</th>\n      <td>Burbank</td>\n      <td>2.0</td>\n      <td>33.0</td>\n      <td>Fair</td>\n      <td>989.44</td>\n      <td>0.0</td>\n      <td>0.00</td>\n      <td>2.0</td>\n    </tr>\n    <tr>\n      <th>2015-01-01 11:53:00</th>\n      <td>Burbank</td>\n      <td>1.0</td>\n      <td>33.0</td>\n      <td>Fair</td>\n      <td>989.77</td>\n      <td>0.0</td>\n      <td>0.00</td>\n      <td>1.0</td>\n    </tr>\n    <tr>\n      <th>2015-01-01 12:53:00</th>\n      <td>Burbank</td>\n      <td>1.0</td>\n      <td>33.0</td>\n      <td>Fair</td>\n      <td>990.10</td>\n      <td>0.0</td>\n      <td>0.00</td>\n      <td>1.0</td>\n    </tr>\n    <tr>\n      <th>...</th>\n      <td>...</td>\n      <td>...</td>\n      <td>...</td>\n      <td>...</td>\n      <td>...</td>\n      <td>...</td>\n      <td>...</td>\n      <td>...</td>\n    </tr>\n    <tr>\n      <th>2023-01-01 06:36:00</th>\n      <td>Burbank</td>\n      <td>13.0</td>\n      <td>12.0</td>\n      <td>Rain</td>\n      <td>979.24</td>\n      <td>30.0</td>\n      <td>2.03</td>\n      <td>13.0</td>\n    </tr>\n    <tr>\n      <th>2023-01-01 06:53:00</th>\n      <td>Burbank</td>\n      <td>13.0</td>\n      <td>12.0</td>\n      <td>Rain / Windy</td>\n      <td>978.91</td>\n      <td>33.0</td>\n      <td>2.79</td>\n      <td>13.0</td>\n    </tr>\n    <tr>\n      <th>2023-01-01 07:18:00</th>\n      <td>Burbank</td>\n      <td>13.0</td>\n      <td>40.0</td>\n      <td>Heavy Rain</td>\n      <td>978.25</td>\n      <td>31.0</td>\n      <td>1.27</td>\n      <td>13.0</td>\n    </tr>\n    <tr>\n      <th>2023-01-01 07:53:00</th>\n      <td>Burbank</td>\n      <td>13.0</td>\n      <td>11.0</td>\n      <td>Light Rain</td>\n      <td>977.92</td>\n      <td>26.0</td>\n      <td>3.05</td>\n      <td>13.0</td>\n    </tr>\n    <tr>\n      <th>2023-01-01 07:55:00</th>\n      <td>Burbank</td>\n      <td>13.0</td>\n      <td>11.0</td>\n      <td>Light Rain</td>\n      <td>978.25</td>\n      <td>24.0</td>\n      <td>0.25</td>\n      <td>13.0</td>\n    </tr>\n  </tbody>\n</table>\n<p>76946 rows × 8 columns</p>\n</div>"
     },
     "execution_count": 20,
     "metadata": {},
     "output_type": "execute_result"
    }
   ],
   "source": [
    "weather_set.dropna(axis=0, inplace=False)"
   ],
   "metadata": {
    "collapsed": false,
    "ExecuteTime": {
     "start_time": "2023-05-03T23:12:52.711872Z",
     "end_time": "2023-05-03T23:12:52.777560Z"
    }
   }
  },
  {
   "cell_type": "code",
   "execution_count": 21,
   "outputs": [
    {
     "data": {
      "text/plain": "416"
     },
     "execution_count": 21,
     "metadata": {},
     "output_type": "execute_result"
    }
   ],
   "source": [
    "len(weather_set) - len(weather_set.dropna())"
   ],
   "metadata": {
    "collapsed": false,
    "ExecuteTime": {
     "start_time": "2023-05-03T23:12:52.740330Z",
     "end_time": "2023-05-03T23:12:52.850625Z"
    }
   }
  },
  {
   "cell_type": "code",
   "execution_count": 22,
   "outputs": [
    {
     "data": {
      "text/plain": "                        city  temperature  cloud_cover  \\\ntimestamp                                                \n2015-01-01 08:53:00  Burbank          3.0         33.0   \n2015-01-01 09:53:00  Burbank          2.0         33.0   \n2015-01-01 10:53:00  Burbank          2.0         33.0   \n2015-01-01 11:53:00  Burbank          1.0         33.0   \n2015-01-01 12:53:00  Burbank          1.0         33.0   \n...                      ...          ...          ...   \n2023-01-01 06:36:00  Burbank         13.0         12.0   \n2023-01-01 06:53:00  Burbank         13.0         12.0   \n2023-01-01 07:18:00  Burbank         13.0         40.0   \n2023-01-01 07:53:00  Burbank         13.0         11.0   \n2023-01-01 07:55:00  Burbank         13.0         11.0   \n\n                    cloud_cover_description  pressure  windspeed  \\\ntimestamp                                                          \n2015-01-01 08:53:00                    Fair    989.11        0.0   \n2015-01-01 09:53:00                    Fair    989.77        0.0   \n2015-01-01 10:53:00                    Fair    989.44        0.0   \n2015-01-01 11:53:00                    Fair    989.77        0.0   \n2015-01-01 12:53:00                    Fair    990.10        0.0   \n...                                     ...       ...        ...   \n2023-01-01 06:36:00                    Rain    979.24       30.0   \n2023-01-01 06:53:00            Rain / Windy    978.91       33.0   \n2023-01-01 07:18:00              Heavy Rain    978.25       31.0   \n2023-01-01 07:53:00              Light Rain    977.92       26.0   \n2023-01-01 07:55:00              Light Rain    978.25       24.0   \n\n                     precipitation  felt_temperature  \ntimestamp                                             \n2015-01-01 08:53:00           0.00               3.0  \n2015-01-01 09:53:00           0.00               2.0  \n2015-01-01 10:53:00           0.00               2.0  \n2015-01-01 11:53:00           0.00               1.0  \n2015-01-01 12:53:00           0.00               1.0  \n...                            ...               ...  \n2023-01-01 06:36:00           2.03              13.0  \n2023-01-01 06:53:00           2.79              13.0  \n2023-01-01 07:18:00           1.27              13.0  \n2023-01-01 07:53:00           3.05              13.0  \n2023-01-01 07:55:00           0.25              13.0  \n\n[76946 rows x 8 columns]",
      "text/html": "<div>\n<style scoped>\n    .dataframe tbody tr th:only-of-type {\n        vertical-align: middle;\n    }\n\n    .dataframe tbody tr th {\n        vertical-align: top;\n    }\n\n    .dataframe thead th {\n        text-align: right;\n    }\n</style>\n<table border=\"1\" class=\"dataframe\">\n  <thead>\n    <tr style=\"text-align: right;\">\n      <th></th>\n      <th>city</th>\n      <th>temperature</th>\n      <th>cloud_cover</th>\n      <th>cloud_cover_description</th>\n      <th>pressure</th>\n      <th>windspeed</th>\n      <th>precipitation</th>\n      <th>felt_temperature</th>\n    </tr>\n    <tr>\n      <th>timestamp</th>\n      <th></th>\n      <th></th>\n      <th></th>\n      <th></th>\n      <th></th>\n      <th></th>\n      <th></th>\n      <th></th>\n    </tr>\n  </thead>\n  <tbody>\n    <tr>\n      <th>2015-01-01 08:53:00</th>\n      <td>Burbank</td>\n      <td>3.0</td>\n      <td>33.0</td>\n      <td>Fair</td>\n      <td>989.11</td>\n      <td>0.0</td>\n      <td>0.00</td>\n      <td>3.0</td>\n    </tr>\n    <tr>\n      <th>2015-01-01 09:53:00</th>\n      <td>Burbank</td>\n      <td>2.0</td>\n      <td>33.0</td>\n      <td>Fair</td>\n      <td>989.77</td>\n      <td>0.0</td>\n      <td>0.00</td>\n      <td>2.0</td>\n    </tr>\n    <tr>\n      <th>2015-01-01 10:53:00</th>\n      <td>Burbank</td>\n      <td>2.0</td>\n      <td>33.0</td>\n      <td>Fair</td>\n      <td>989.44</td>\n      <td>0.0</td>\n      <td>0.00</td>\n      <td>2.0</td>\n    </tr>\n    <tr>\n      <th>2015-01-01 11:53:00</th>\n      <td>Burbank</td>\n      <td>1.0</td>\n      <td>33.0</td>\n      <td>Fair</td>\n      <td>989.77</td>\n      <td>0.0</td>\n      <td>0.00</td>\n      <td>1.0</td>\n    </tr>\n    <tr>\n      <th>2015-01-01 12:53:00</th>\n      <td>Burbank</td>\n      <td>1.0</td>\n      <td>33.0</td>\n      <td>Fair</td>\n      <td>990.10</td>\n      <td>0.0</td>\n      <td>0.00</td>\n      <td>1.0</td>\n    </tr>\n    <tr>\n      <th>...</th>\n      <td>...</td>\n      <td>...</td>\n      <td>...</td>\n      <td>...</td>\n      <td>...</td>\n      <td>...</td>\n      <td>...</td>\n      <td>...</td>\n    </tr>\n    <tr>\n      <th>2023-01-01 06:36:00</th>\n      <td>Burbank</td>\n      <td>13.0</td>\n      <td>12.0</td>\n      <td>Rain</td>\n      <td>979.24</td>\n      <td>30.0</td>\n      <td>2.03</td>\n      <td>13.0</td>\n    </tr>\n    <tr>\n      <th>2023-01-01 06:53:00</th>\n      <td>Burbank</td>\n      <td>13.0</td>\n      <td>12.0</td>\n      <td>Rain / Windy</td>\n      <td>978.91</td>\n      <td>33.0</td>\n      <td>2.79</td>\n      <td>13.0</td>\n    </tr>\n    <tr>\n      <th>2023-01-01 07:18:00</th>\n      <td>Burbank</td>\n      <td>13.0</td>\n      <td>40.0</td>\n      <td>Heavy Rain</td>\n      <td>978.25</td>\n      <td>31.0</td>\n      <td>1.27</td>\n      <td>13.0</td>\n    </tr>\n    <tr>\n      <th>2023-01-01 07:53:00</th>\n      <td>Burbank</td>\n      <td>13.0</td>\n      <td>11.0</td>\n      <td>Light Rain</td>\n      <td>977.92</td>\n      <td>26.0</td>\n      <td>3.05</td>\n      <td>13.0</td>\n    </tr>\n    <tr>\n      <th>2023-01-01 07:55:00</th>\n      <td>Burbank</td>\n      <td>13.0</td>\n      <td>11.0</td>\n      <td>Light Rain</td>\n      <td>978.25</td>\n      <td>24.0</td>\n      <td>0.25</td>\n      <td>13.0</td>\n    </tr>\n  </tbody>\n</table>\n<p>76946 rows × 8 columns</p>\n</div>"
     },
     "execution_count": 22,
     "metadata": {},
     "output_type": "execute_result"
    }
   ],
   "source": [
    "clean_weather_set = weather_set.dropna(axis=0)\n",
    "clean_weather_set"
   ],
   "metadata": {
    "collapsed": false,
    "ExecuteTime": {
     "start_time": "2023-05-03T23:12:52.790560Z",
     "end_time": "2023-05-03T23:12:52.909418Z"
    }
   }
  },
  {
   "cell_type": "code",
   "execution_count": 23,
   "outputs": [
    {
     "name": "stdout",
     "output_type": "stream",
     "text": [
      "weather_set: 77362\n",
      "clean_weather_set: 76946\n",
      "Datasets with null values: 416\n"
     ]
    }
   ],
   "source": [
    "print(\"weather_set:\",len(weather_set))\n",
    "print(\"clean_weather_set:\",len(clean_weather_set))\n",
    "print(\"Datasets with null values:\",len(weather_set) - len(weather_set.dropna()))"
   ],
   "metadata": {
    "collapsed": false,
    "ExecuteTime": {
     "start_time": "2023-05-03T23:12:52.820515Z",
     "end_time": "2023-05-03T23:12:52.909418Z"
    }
   }
  },
  {
   "cell_type": "code",
   "execution_count": 24,
   "outputs": [
    {
     "data": {
      "text/plain": "                        city  temperature  cloud_cover  \\\ntimestamp                                                \n2015-01-26 17:53:00  Burbank          NaN         28.0   \n2015-05-27 17:51:00  Burbank         17.0          NaN   \n2015-05-27 17:53:00  Burbank         17.0          NaN   \n2015-05-27 18:53:00  Burbank         19.0         34.0   \n2015-08-03 16:53:00  Burbank         25.0          NaN   \n...                      ...          ...          ...   \n2022-11-08 12:53:00  Burbank          NaN         40.0   \n2022-11-16 12:53:00  Burbank         18.0         33.0   \n2022-11-20 21:53:00  Burbank         23.0         34.0   \n2022-11-29 18:53:00  Burbank         15.0         34.0   \n2022-12-21 19:53:00  Burbank         21.0         34.0   \n\n                    cloud_cover_description  pressure  windspeed  \\\ntimestamp                                                          \n2015-01-26 17:53:00           Mostly Cloudy    988.78        9.0   \n2015-05-27 17:51:00                     NaN    987.80        7.0   \n2015-05-27 17:53:00                     NaN    987.80       11.0   \n2015-05-27 18:53:00                    Fair    987.47        NaN   \n2015-08-03 16:53:00                     NaN    985.16        6.0   \n...                                     ...       ...        ...   \n2022-11-08 12:53:00              Heavy Rain    982.86       13.0   \n2022-11-16 12:53:00                    Fair    993.72        NaN   \n2022-11-20 21:53:00                    Fair    991.09        NaN   \n2022-11-29 18:53:00                    Fair    987.47        NaN   \n2022-12-21 19:53:00                    Fair    991.42        NaN   \n\n                     precipitation  felt_temperature  \ntimestamp                                             \n2015-01-26 17:53:00           0.00               NaN  \n2015-05-27 17:51:00           0.00              17.0  \n2015-05-27 17:53:00           0.00              17.0  \n2015-05-27 18:53:00           0.00              19.0  \n2015-08-03 16:53:00           0.00              26.0  \n...                            ...               ...  \n2022-11-08 12:53:00           4.83               NaN  \n2022-11-16 12:53:00           0.00              18.0  \n2022-11-20 21:53:00           0.00              23.0  \n2022-11-29 18:53:00           0.00              15.0  \n2022-12-21 19:53:00           0.00              21.0  \n\n[416 rows x 8 columns]",
      "text/html": "<div>\n<style scoped>\n    .dataframe tbody tr th:only-of-type {\n        vertical-align: middle;\n    }\n\n    .dataframe tbody tr th {\n        vertical-align: top;\n    }\n\n    .dataframe thead th {\n        text-align: right;\n    }\n</style>\n<table border=\"1\" class=\"dataframe\">\n  <thead>\n    <tr style=\"text-align: right;\">\n      <th></th>\n      <th>city</th>\n      <th>temperature</th>\n      <th>cloud_cover</th>\n      <th>cloud_cover_description</th>\n      <th>pressure</th>\n      <th>windspeed</th>\n      <th>precipitation</th>\n      <th>felt_temperature</th>\n    </tr>\n    <tr>\n      <th>timestamp</th>\n      <th></th>\n      <th></th>\n      <th></th>\n      <th></th>\n      <th></th>\n      <th></th>\n      <th></th>\n      <th></th>\n    </tr>\n  </thead>\n  <tbody>\n    <tr>\n      <th>2015-01-26 17:53:00</th>\n      <td>Burbank</td>\n      <td>NaN</td>\n      <td>28.0</td>\n      <td>Mostly Cloudy</td>\n      <td>988.78</td>\n      <td>9.0</td>\n      <td>0.00</td>\n      <td>NaN</td>\n    </tr>\n    <tr>\n      <th>2015-05-27 17:51:00</th>\n      <td>Burbank</td>\n      <td>17.0</td>\n      <td>NaN</td>\n      <td>NaN</td>\n      <td>987.80</td>\n      <td>7.0</td>\n      <td>0.00</td>\n      <td>17.0</td>\n    </tr>\n    <tr>\n      <th>2015-05-27 17:53:00</th>\n      <td>Burbank</td>\n      <td>17.0</td>\n      <td>NaN</td>\n      <td>NaN</td>\n      <td>987.80</td>\n      <td>11.0</td>\n      <td>0.00</td>\n      <td>17.0</td>\n    </tr>\n    <tr>\n      <th>2015-05-27 18:53:00</th>\n      <td>Burbank</td>\n      <td>19.0</td>\n      <td>34.0</td>\n      <td>Fair</td>\n      <td>987.47</td>\n      <td>NaN</td>\n      <td>0.00</td>\n      <td>19.0</td>\n    </tr>\n    <tr>\n      <th>2015-08-03 16:53:00</th>\n      <td>Burbank</td>\n      <td>25.0</td>\n      <td>NaN</td>\n      <td>NaN</td>\n      <td>985.16</td>\n      <td>6.0</td>\n      <td>0.00</td>\n      <td>26.0</td>\n    </tr>\n    <tr>\n      <th>...</th>\n      <td>...</td>\n      <td>...</td>\n      <td>...</td>\n      <td>...</td>\n      <td>...</td>\n      <td>...</td>\n      <td>...</td>\n      <td>...</td>\n    </tr>\n    <tr>\n      <th>2022-11-08 12:53:00</th>\n      <td>Burbank</td>\n      <td>NaN</td>\n      <td>40.0</td>\n      <td>Heavy Rain</td>\n      <td>982.86</td>\n      <td>13.0</td>\n      <td>4.83</td>\n      <td>NaN</td>\n    </tr>\n    <tr>\n      <th>2022-11-16 12:53:00</th>\n      <td>Burbank</td>\n      <td>18.0</td>\n      <td>33.0</td>\n      <td>Fair</td>\n      <td>993.72</td>\n      <td>NaN</td>\n      <td>0.00</td>\n      <td>18.0</td>\n    </tr>\n    <tr>\n      <th>2022-11-20 21:53:00</th>\n      <td>Burbank</td>\n      <td>23.0</td>\n      <td>34.0</td>\n      <td>Fair</td>\n      <td>991.09</td>\n      <td>NaN</td>\n      <td>0.00</td>\n      <td>23.0</td>\n    </tr>\n    <tr>\n      <th>2022-11-29 18:53:00</th>\n      <td>Burbank</td>\n      <td>15.0</td>\n      <td>34.0</td>\n      <td>Fair</td>\n      <td>987.47</td>\n      <td>NaN</td>\n      <td>0.00</td>\n      <td>15.0</td>\n    </tr>\n    <tr>\n      <th>2022-12-21 19:53:00</th>\n      <td>Burbank</td>\n      <td>21.0</td>\n      <td>34.0</td>\n      <td>Fair</td>\n      <td>991.42</td>\n      <td>NaN</td>\n      <td>0.00</td>\n      <td>21.0</td>\n    </tr>\n  </tbody>\n</table>\n<p>416 rows × 8 columns</p>\n</div>"
     },
     "execution_count": 24,
     "metadata": {},
     "output_type": "execute_result"
    }
   ],
   "source": [
    "weather_set[weather_set.isnull().any(axis=1)]"
   ],
   "metadata": {
    "collapsed": false,
    "ExecuteTime": {
     "start_time": "2023-05-03T23:12:52.851626Z",
     "end_time": "2023-05-03T23:12:52.975595Z"
    }
   }
  },
  {
   "cell_type": "code",
   "execution_count": 25,
   "outputs": [],
   "source": [
    "metro_set = pd.read_csv(\"CSV/metro_2017_2022.csv\", sep=\",\", index_col=\"transaction_id\")"
   ],
   "metadata": {
    "collapsed": false,
    "ExecuteTime": {
     "start_time": "2023-05-03T23:12:52.883855Z",
     "end_time": "2023-05-03T23:12:55.050562Z"
    }
   }
  },
  {
   "cell_type": "code",
   "execution_count": 26,
   "outputs": [
    {
     "data": {
      "text/plain": "Index(['start_time', 'end_time', 'start_station_id', 'start_station_lat',\n       'start_station_lon', 'end_station_id', 'end_station_lat',\n       'end_station_lon', 'bike_id'],\n      dtype='object')"
     },
     "execution_count": 26,
     "metadata": {},
     "output_type": "execute_result"
    }
   ],
   "source": [
    "metro_set.columns"
   ],
   "metadata": {
    "collapsed": false,
    "ExecuteTime": {
     "start_time": "2023-05-03T23:12:55.050562Z",
     "end_time": "2023-05-03T23:12:55.066067Z"
    }
   }
  },
  {
   "cell_type": "code",
   "execution_count": 27,
   "outputs": [
    {
     "data": {
      "text/plain": "       start_station_id  start_station_lat  start_station_lon  end_station_id  \\\ncount      1.552782e+06       1.542572e+06       1.542572e+06    1.552782e+06   \nmean       3.615318e+03       3.404273e+01      -1.182708e+02    3.602597e+03   \nstd        6.527251e+02       3.053914e-01       2.180630e+00    6.507752e+02   \nmin        3.000000e+03       3.371098e+01      -1.184954e+02    3.000000e+03   \n25%        3.032000e+03       3.402765e+01      -1.183056e+02    3.031000e+03   \n50%        3.074000e+03       3.404613e+01      -1.182587e+02    3.069000e+03   \n75%        4.250000e+03       3.405194e+01      -1.182483e+02    4.248000e+03   \nmax        4.638000e+03       5.570553e+01       1.182383e+02    4.640000e+03   \n\n       end_station_lat  end_station_lon  \ncount     1.513071e+06     1.513070e+06  \nmean      3.404177e+01    -1.182709e+02  \nstd       4.389338e-01     2.166677e+00  \nmin      -9.000000e+01    -1.184954e+02  \n25%       3.402762e+01    -1.183056e+02  \n50%       3.404607e+01    -1.182587e+02  \n75%       3.405110e+01    -1.182483e+02  \nmax       5.570553e+01     3.760654e+01  ",
      "text/html": "<div>\n<style scoped>\n    .dataframe tbody tr th:only-of-type {\n        vertical-align: middle;\n    }\n\n    .dataframe tbody tr th {\n        vertical-align: top;\n    }\n\n    .dataframe thead th {\n        text-align: right;\n    }\n</style>\n<table border=\"1\" class=\"dataframe\">\n  <thead>\n    <tr style=\"text-align: right;\">\n      <th></th>\n      <th>start_station_id</th>\n      <th>start_station_lat</th>\n      <th>start_station_lon</th>\n      <th>end_station_id</th>\n      <th>end_station_lat</th>\n      <th>end_station_lon</th>\n    </tr>\n  </thead>\n  <tbody>\n    <tr>\n      <th>count</th>\n      <td>1.552782e+06</td>\n      <td>1.542572e+06</td>\n      <td>1.542572e+06</td>\n      <td>1.552782e+06</td>\n      <td>1.513071e+06</td>\n      <td>1.513070e+06</td>\n    </tr>\n    <tr>\n      <th>mean</th>\n      <td>3.615318e+03</td>\n      <td>3.404273e+01</td>\n      <td>-1.182708e+02</td>\n      <td>3.602597e+03</td>\n      <td>3.404177e+01</td>\n      <td>-1.182709e+02</td>\n    </tr>\n    <tr>\n      <th>std</th>\n      <td>6.527251e+02</td>\n      <td>3.053914e-01</td>\n      <td>2.180630e+00</td>\n      <td>6.507752e+02</td>\n      <td>4.389338e-01</td>\n      <td>2.166677e+00</td>\n    </tr>\n    <tr>\n      <th>min</th>\n      <td>3.000000e+03</td>\n      <td>3.371098e+01</td>\n      <td>-1.184954e+02</td>\n      <td>3.000000e+03</td>\n      <td>-9.000000e+01</td>\n      <td>-1.184954e+02</td>\n    </tr>\n    <tr>\n      <th>25%</th>\n      <td>3.032000e+03</td>\n      <td>3.402765e+01</td>\n      <td>-1.183056e+02</td>\n      <td>3.031000e+03</td>\n      <td>3.402762e+01</td>\n      <td>-1.183056e+02</td>\n    </tr>\n    <tr>\n      <th>50%</th>\n      <td>3.074000e+03</td>\n      <td>3.404613e+01</td>\n      <td>-1.182587e+02</td>\n      <td>3.069000e+03</td>\n      <td>3.404607e+01</td>\n      <td>-1.182587e+02</td>\n    </tr>\n    <tr>\n      <th>75%</th>\n      <td>4.250000e+03</td>\n      <td>3.405194e+01</td>\n      <td>-1.182483e+02</td>\n      <td>4.248000e+03</td>\n      <td>3.405110e+01</td>\n      <td>-1.182483e+02</td>\n    </tr>\n    <tr>\n      <th>max</th>\n      <td>4.638000e+03</td>\n      <td>5.570553e+01</td>\n      <td>1.182383e+02</td>\n      <td>4.640000e+03</td>\n      <td>5.570553e+01</td>\n      <td>3.760654e+01</td>\n    </tr>\n  </tbody>\n</table>\n</div>"
     },
     "execution_count": 27,
     "metadata": {},
     "output_type": "execute_result"
    }
   ],
   "source": [
    "metro_set.describe()"
   ],
   "metadata": {
    "collapsed": false,
    "ExecuteTime": {
     "start_time": "2023-05-03T23:12:55.066067Z",
     "end_time": "2023-05-03T23:12:55.334946Z"
    }
   }
  },
  {
   "cell_type": "code",
   "execution_count": 28,
   "outputs": [
    {
     "name": "stdout",
     "output_type": "stream",
     "text": [
      "<class 'pandas.core.frame.DataFrame'>\n",
      "Int64Index: 1552782 entries, 0 to 1552781\n",
      "Data columns (total 9 columns):\n",
      " #   Column             Non-Null Count    Dtype  \n",
      "---  ------             --------------    -----  \n",
      " 0   start_time         1552782 non-null  object \n",
      " 1   end_time           1552782 non-null  object \n",
      " 2   start_station_id   1552782 non-null  int64  \n",
      " 3   start_station_lat  1542572 non-null  float64\n",
      " 4   start_station_lon  1542572 non-null  float64\n",
      " 5   end_station_id     1552782 non-null  int64  \n",
      " 6   end_station_lat    1513071 non-null  float64\n",
      " 7   end_station_lon    1513070 non-null  float64\n",
      " 8   bike_id            1552782 non-null  object \n",
      "dtypes: float64(4), int64(2), object(3)\n",
      "memory usage: 118.5+ MB\n"
     ]
    }
   ],
   "source": [
    "metro_set.info()"
   ],
   "metadata": {
    "collapsed": false,
    "ExecuteTime": {
     "start_time": "2023-05-03T23:12:55.334946Z",
     "end_time": "2023-05-03T23:12:55.729663Z"
    }
   }
  },
  {
   "cell_type": "code",
   "execution_count": 29,
   "outputs": [
    {
     "data": {
      "text/plain": "                         start_time             end_time  start_station_id  \\\ntransaction_id                                                               \n0               16/45/00 29-05-2018  17/08/00 29-05-2018              3068   \n1               18/34/00 09-08-2018  19/09/00 09-08-2018              4126   \n2               13/37/00 01-09-2021  13/48/00 01-09-2021              3082   \n3               12/40/00 31-08-2018  13/35/00 31-08-2018              4215   \n4               16/41/00 29-03-2018  17/15/00 29-03-2018              4126   \n...                             ...                  ...               ...   \n1552776         13/32/00 30-06-2018  13/54/00 30-06-2018              3016   \n1552778         13/34/00 26-10-2018  13/39/00 26-10-2018              3038   \n1552779         13/38/00 04-10-2018  15/51/00 04-10-2018              4212   \n1552780         20/51/00 26-10-2018  20/53/00 26-10-2018              3049   \n1552781         07/10/00 25-08-2017  07/18/00 25-08-2017              3055   \n\n                start_station_lat  start_station_lon  end_station_id  \\\ntransaction_id                                                         \n0                       34.053200        -118.250954            3014   \n1                       33.710979        -118.284668            4126   \n2                       34.046520        -118.237411            3031   \n3                       34.014309        -118.491341            4210   \n4                       33.710979        -118.284668            4126   \n...                           ...                ...             ...   \n1552776                 34.052898        -118.241562            3035   \n1552778                 34.046822        -118.248352            3030   \n1552779                 33.988129        -118.471741            4202   \n1552780                 34.056969        -118.253593            3049   \n1552781                 34.044159        -118.251579            3042   \n\n                end_station_lat  end_station_lon bike_id  \ntransaction_id                                            \n0                     34.056610      -118.237213    5772  \n1                     33.710979      -118.284668   12003  \n2                     34.044701      -118.252441    6107  \n3                     33.984341      -118.471550    6474  \n4                     33.710979      -118.284668    6374  \n...                         ...              ...     ...  \n1552776               34.048401      -118.260948    6705  \n1552778               34.051941      -118.243530   12334  \n1552779               33.991161      -118.468292    6276  \n1552780               34.056969      -118.253593    5837  \n1552781               34.049301      -118.238808    5847  \n\n[1507366 rows x 9 columns]",
      "text/html": "<div>\n<style scoped>\n    .dataframe tbody tr th:only-of-type {\n        vertical-align: middle;\n    }\n\n    .dataframe tbody tr th {\n        vertical-align: top;\n    }\n\n    .dataframe thead th {\n        text-align: right;\n    }\n</style>\n<table border=\"1\" class=\"dataframe\">\n  <thead>\n    <tr style=\"text-align: right;\">\n      <th></th>\n      <th>start_time</th>\n      <th>end_time</th>\n      <th>start_station_id</th>\n      <th>start_station_lat</th>\n      <th>start_station_lon</th>\n      <th>end_station_id</th>\n      <th>end_station_lat</th>\n      <th>end_station_lon</th>\n      <th>bike_id</th>\n    </tr>\n    <tr>\n      <th>transaction_id</th>\n      <th></th>\n      <th></th>\n      <th></th>\n      <th></th>\n      <th></th>\n      <th></th>\n      <th></th>\n      <th></th>\n      <th></th>\n    </tr>\n  </thead>\n  <tbody>\n    <tr>\n      <th>0</th>\n      <td>16/45/00 29-05-2018</td>\n      <td>17/08/00 29-05-2018</td>\n      <td>3068</td>\n      <td>34.053200</td>\n      <td>-118.250954</td>\n      <td>3014</td>\n      <td>34.056610</td>\n      <td>-118.237213</td>\n      <td>5772</td>\n    </tr>\n    <tr>\n      <th>1</th>\n      <td>18/34/00 09-08-2018</td>\n      <td>19/09/00 09-08-2018</td>\n      <td>4126</td>\n      <td>33.710979</td>\n      <td>-118.284668</td>\n      <td>4126</td>\n      <td>33.710979</td>\n      <td>-118.284668</td>\n      <td>12003</td>\n    </tr>\n    <tr>\n      <th>2</th>\n      <td>13/37/00 01-09-2021</td>\n      <td>13/48/00 01-09-2021</td>\n      <td>3082</td>\n      <td>34.046520</td>\n      <td>-118.237411</td>\n      <td>3031</td>\n      <td>34.044701</td>\n      <td>-118.252441</td>\n      <td>6107</td>\n    </tr>\n    <tr>\n      <th>3</th>\n      <td>12/40/00 31-08-2018</td>\n      <td>13/35/00 31-08-2018</td>\n      <td>4215</td>\n      <td>34.014309</td>\n      <td>-118.491341</td>\n      <td>4210</td>\n      <td>33.984341</td>\n      <td>-118.471550</td>\n      <td>6474</td>\n    </tr>\n    <tr>\n      <th>4</th>\n      <td>16/41/00 29-03-2018</td>\n      <td>17/15/00 29-03-2018</td>\n      <td>4126</td>\n      <td>33.710979</td>\n      <td>-118.284668</td>\n      <td>4126</td>\n      <td>33.710979</td>\n      <td>-118.284668</td>\n      <td>6374</td>\n    </tr>\n    <tr>\n      <th>...</th>\n      <td>...</td>\n      <td>...</td>\n      <td>...</td>\n      <td>...</td>\n      <td>...</td>\n      <td>...</td>\n      <td>...</td>\n      <td>...</td>\n      <td>...</td>\n    </tr>\n    <tr>\n      <th>1552776</th>\n      <td>13/32/00 30-06-2018</td>\n      <td>13/54/00 30-06-2018</td>\n      <td>3016</td>\n      <td>34.052898</td>\n      <td>-118.241562</td>\n      <td>3035</td>\n      <td>34.048401</td>\n      <td>-118.260948</td>\n      <td>6705</td>\n    </tr>\n    <tr>\n      <th>1552778</th>\n      <td>13/34/00 26-10-2018</td>\n      <td>13/39/00 26-10-2018</td>\n      <td>3038</td>\n      <td>34.046822</td>\n      <td>-118.248352</td>\n      <td>3030</td>\n      <td>34.051941</td>\n      <td>-118.243530</td>\n      <td>12334</td>\n    </tr>\n    <tr>\n      <th>1552779</th>\n      <td>13/38/00 04-10-2018</td>\n      <td>15/51/00 04-10-2018</td>\n      <td>4212</td>\n      <td>33.988129</td>\n      <td>-118.471741</td>\n      <td>4202</td>\n      <td>33.991161</td>\n      <td>-118.468292</td>\n      <td>6276</td>\n    </tr>\n    <tr>\n      <th>1552780</th>\n      <td>20/51/00 26-10-2018</td>\n      <td>20/53/00 26-10-2018</td>\n      <td>3049</td>\n      <td>34.056969</td>\n      <td>-118.253593</td>\n      <td>3049</td>\n      <td>34.056969</td>\n      <td>-118.253593</td>\n      <td>5837</td>\n    </tr>\n    <tr>\n      <th>1552781</th>\n      <td>07/10/00 25-08-2017</td>\n      <td>07/18/00 25-08-2017</td>\n      <td>3055</td>\n      <td>34.044159</td>\n      <td>-118.251579</td>\n      <td>3042</td>\n      <td>34.049301</td>\n      <td>-118.238808</td>\n      <td>5847</td>\n    </tr>\n  </tbody>\n</table>\n<p>1507366 rows × 9 columns</p>\n</div>"
     },
     "execution_count": 29,
     "metadata": {},
     "output_type": "execute_result"
    }
   ],
   "source": [
    "clean_metro_set = metro_set.dropna(axis=0)\n",
    "clean_metro_set"
   ],
   "metadata": {
    "collapsed": false,
    "ExecuteTime": {
     "start_time": "2023-05-03T23:12:55.729663Z",
     "end_time": "2023-05-03T23:12:56.253360Z"
    }
   }
  },
  {
   "cell_type": "code",
   "execution_count": 30,
   "outputs": [
    {
     "name": "stdout",
     "output_type": "stream",
     "text": [
      "metro_set: 1552782\n",
      "clean_metro_set: 1507366\n",
      "Datasets with null values: 45416\n"
     ]
    }
   ],
   "source": [
    "print(\"metro_set:\",len(metro_set))\n",
    "print(\"clean_metro_set:\",len(clean_metro_set))\n",
    "print(\"Datasets with null values:\",len(metro_set) - len(metro_set.dropna()))"
   ],
   "metadata": {
    "collapsed": false,
    "ExecuteTime": {
     "start_time": "2023-05-03T23:12:56.253360Z",
     "end_time": "2023-05-03T23:12:56.729763Z"
    }
   }
  },
  {
   "cell_type": "code",
   "execution_count": 31,
   "outputs": [
    {
     "data": {
      "text/plain": "                         start_time             end_time  start_station_id  \\\ntransaction_id                                                               \n19              22/19/00 12-07-2020  22/49/00 12-07-2020              4285   \n48              17/17/00 19-01-2020  17/23/00 19-01-2020              4285   \n95              17/16/15 13-10-2019  17/23/01 13-10-2019              4285   \n115             18/48/00 28-05-2020  19/59/00 28-05-2020              4285   \n189             18/50/00 24-08-2019  19/37/00 24-08-2019              4286   \n...                             ...                  ...               ...   \n1552671         18/03/00 12-07-2021  18/04/00 12-07-2021              4567   \n1552703         13/51/00 15-05-2019  14/04/00 15-05-2019              4286   \n1552704         18/46/00 28-10-2022  18/51/00 28-10-2022              4450   \n1552756         12/25/00 23-06-2018  13/03/00 23-06-2018              3000   \n1552777         11/24/00 07-01-2020  11/45/00 07-01-2020              4285   \n\n                start_station_lat  start_station_lon  end_station_id  \\\ntransaction_id                                                         \n19                            NaN                NaN            4285   \n48                            NaN                NaN            4352   \n95                            NaN                NaN            4346   \n115                           NaN                NaN            4346   \n189                           NaN                NaN            4285   \n...                           ...                ...             ...   \n1552671                 34.020180        -118.404030            3000   \n1552703                       NaN                NaN            4286   \n1552704                 34.063492        -118.287163            3000   \n1552756                       NaN                NaN            3000   \n1552777                       NaN                NaN            4409   \n\n                end_station_lat  end_station_lon bike_id  \ntransaction_id                                            \n19                          NaN              NaN   15860  \n48                    33.988419      -118.451630   15607  \n95                    33.984341      -118.471550   15392  \n115                   33.984341      -118.471550   15135  \n189                         NaN              NaN   15289  \n...                         ...              ...     ...  \n1552671                     NaN              NaN   15544  \n1552703                     NaN              NaN   16178  \n1552704                     NaN              NaN   15520  \n1552756                     NaN              NaN    6358  \n1552777               33.986511      -118.441917   15392  \n\n[45416 rows x 9 columns]",
      "text/html": "<div>\n<style scoped>\n    .dataframe tbody tr th:only-of-type {\n        vertical-align: middle;\n    }\n\n    .dataframe tbody tr th {\n        vertical-align: top;\n    }\n\n    .dataframe thead th {\n        text-align: right;\n    }\n</style>\n<table border=\"1\" class=\"dataframe\">\n  <thead>\n    <tr style=\"text-align: right;\">\n      <th></th>\n      <th>start_time</th>\n      <th>end_time</th>\n      <th>start_station_id</th>\n      <th>start_station_lat</th>\n      <th>start_station_lon</th>\n      <th>end_station_id</th>\n      <th>end_station_lat</th>\n      <th>end_station_lon</th>\n      <th>bike_id</th>\n    </tr>\n    <tr>\n      <th>transaction_id</th>\n      <th></th>\n      <th></th>\n      <th></th>\n      <th></th>\n      <th></th>\n      <th></th>\n      <th></th>\n      <th></th>\n      <th></th>\n    </tr>\n  </thead>\n  <tbody>\n    <tr>\n      <th>19</th>\n      <td>22/19/00 12-07-2020</td>\n      <td>22/49/00 12-07-2020</td>\n      <td>4285</td>\n      <td>NaN</td>\n      <td>NaN</td>\n      <td>4285</td>\n      <td>NaN</td>\n      <td>NaN</td>\n      <td>15860</td>\n    </tr>\n    <tr>\n      <th>48</th>\n      <td>17/17/00 19-01-2020</td>\n      <td>17/23/00 19-01-2020</td>\n      <td>4285</td>\n      <td>NaN</td>\n      <td>NaN</td>\n      <td>4352</td>\n      <td>33.988419</td>\n      <td>-118.451630</td>\n      <td>15607</td>\n    </tr>\n    <tr>\n      <th>95</th>\n      <td>17/16/15 13-10-2019</td>\n      <td>17/23/01 13-10-2019</td>\n      <td>4285</td>\n      <td>NaN</td>\n      <td>NaN</td>\n      <td>4346</td>\n      <td>33.984341</td>\n      <td>-118.471550</td>\n      <td>15392</td>\n    </tr>\n    <tr>\n      <th>115</th>\n      <td>18/48/00 28-05-2020</td>\n      <td>19/59/00 28-05-2020</td>\n      <td>4285</td>\n      <td>NaN</td>\n      <td>NaN</td>\n      <td>4346</td>\n      <td>33.984341</td>\n      <td>-118.471550</td>\n      <td>15135</td>\n    </tr>\n    <tr>\n      <th>189</th>\n      <td>18/50/00 24-08-2019</td>\n      <td>19/37/00 24-08-2019</td>\n      <td>4286</td>\n      <td>NaN</td>\n      <td>NaN</td>\n      <td>4285</td>\n      <td>NaN</td>\n      <td>NaN</td>\n      <td>15289</td>\n    </tr>\n    <tr>\n      <th>...</th>\n      <td>...</td>\n      <td>...</td>\n      <td>...</td>\n      <td>...</td>\n      <td>...</td>\n      <td>...</td>\n      <td>...</td>\n      <td>...</td>\n      <td>...</td>\n    </tr>\n    <tr>\n      <th>1552671</th>\n      <td>18/03/00 12-07-2021</td>\n      <td>18/04/00 12-07-2021</td>\n      <td>4567</td>\n      <td>34.020180</td>\n      <td>-118.404030</td>\n      <td>3000</td>\n      <td>NaN</td>\n      <td>NaN</td>\n      <td>15544</td>\n    </tr>\n    <tr>\n      <th>1552703</th>\n      <td>13/51/00 15-05-2019</td>\n      <td>14/04/00 15-05-2019</td>\n      <td>4286</td>\n      <td>NaN</td>\n      <td>NaN</td>\n      <td>4286</td>\n      <td>NaN</td>\n      <td>NaN</td>\n      <td>16178</td>\n    </tr>\n    <tr>\n      <th>1552704</th>\n      <td>18/46/00 28-10-2022</td>\n      <td>18/51/00 28-10-2022</td>\n      <td>4450</td>\n      <td>34.063492</td>\n      <td>-118.287163</td>\n      <td>3000</td>\n      <td>NaN</td>\n      <td>NaN</td>\n      <td>15520</td>\n    </tr>\n    <tr>\n      <th>1552756</th>\n      <td>12/25/00 23-06-2018</td>\n      <td>13/03/00 23-06-2018</td>\n      <td>3000</td>\n      <td>NaN</td>\n      <td>NaN</td>\n      <td>3000</td>\n      <td>NaN</td>\n      <td>NaN</td>\n      <td>6358</td>\n    </tr>\n    <tr>\n      <th>1552777</th>\n      <td>11/24/00 07-01-2020</td>\n      <td>11/45/00 07-01-2020</td>\n      <td>4285</td>\n      <td>NaN</td>\n      <td>NaN</td>\n      <td>4409</td>\n      <td>33.986511</td>\n      <td>-118.441917</td>\n      <td>15392</td>\n    </tr>\n  </tbody>\n</table>\n<p>45416 rows × 9 columns</p>\n</div>"
     },
     "execution_count": 31,
     "metadata": {},
     "output_type": "execute_result"
    }
   ],
   "source": [
    "metro_set[metro_set.isnull().any(axis=1)]"
   ],
   "metadata": {
    "collapsed": false,
    "ExecuteTime": {
     "start_time": "2023-05-03T23:12:56.729763Z",
     "end_time": "2023-05-03T23:12:57.166271Z"
    }
   }
  }
 ],
 "metadata": {
  "kernelspec": {
   "display_name": "Python 3",
   "language": "python",
   "name": "python3"
  },
  "language_info": {
   "codemirror_mode": {
    "name": "ipython",
    "version": 2
   },
   "file_extension": ".py",
   "mimetype": "text/x-python",
   "name": "python",
   "nbconvert_exporter": "python",
   "pygments_lexer": "ipython2",
   "version": "2.7.6"
  }
 },
 "nbformat": 4,
 "nbformat_minor": 0
}
