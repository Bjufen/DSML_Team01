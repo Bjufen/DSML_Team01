{
 "cells": [
  {
   "cell_type": "code",
   "execution_count": 3,
   "outputs": [
    {
     "data": {
      "text/plain": "      city            timestamp  temperature  cloud_cover  \\\n0  Burbank  2015-01-01 08:53:00          3.0         33.0   \n1  Burbank  2015-01-01 09:53:00          2.0         33.0   \n2  Burbank  2015-01-01 10:53:00          2.0         33.0   \n3  Burbank  2015-01-01 11:53:00          1.0         33.0   \n4  Burbank  2015-01-01 12:53:00          1.0         33.0   \n\n  cloud_cover_description  pressure  windspeed  precipitation  \\\n0                    Fair    989.11        0.0            0.0   \n1                    Fair    989.77        0.0            0.0   \n2                    Fair    989.44        0.0            0.0   \n3                    Fair    989.77        0.0            0.0   \n4                    Fair    990.10        0.0            0.0   \n\n   felt_temperature  \n0               3.0  \n1               2.0  \n2               2.0  \n3               1.0  \n4               1.0  ",
      "text/html": "<div>\n<style scoped>\n    .dataframe tbody tr th:only-of-type {\n        vertical-align: middle;\n    }\n\n    .dataframe tbody tr th {\n        vertical-align: top;\n    }\n\n    .dataframe thead th {\n        text-align: right;\n    }\n</style>\n<table border=\"1\" class=\"dataframe\">\n  <thead>\n    <tr style=\"text-align: right;\">\n      <th></th>\n      <th>city</th>\n      <th>timestamp</th>\n      <th>temperature</th>\n      <th>cloud_cover</th>\n      <th>cloud_cover_description</th>\n      <th>pressure</th>\n      <th>windspeed</th>\n      <th>precipitation</th>\n      <th>felt_temperature</th>\n    </tr>\n  </thead>\n  <tbody>\n    <tr>\n      <th>0</th>\n      <td>Burbank</td>\n      <td>2015-01-01 08:53:00</td>\n      <td>3.0</td>\n      <td>33.0</td>\n      <td>Fair</td>\n      <td>989.11</td>\n      <td>0.0</td>\n      <td>0.0</td>\n      <td>3.0</td>\n    </tr>\n    <tr>\n      <th>1</th>\n      <td>Burbank</td>\n      <td>2015-01-01 09:53:00</td>\n      <td>2.0</td>\n      <td>33.0</td>\n      <td>Fair</td>\n      <td>989.77</td>\n      <td>0.0</td>\n      <td>0.0</td>\n      <td>2.0</td>\n    </tr>\n    <tr>\n      <th>2</th>\n      <td>Burbank</td>\n      <td>2015-01-01 10:53:00</td>\n      <td>2.0</td>\n      <td>33.0</td>\n      <td>Fair</td>\n      <td>989.44</td>\n      <td>0.0</td>\n      <td>0.0</td>\n      <td>2.0</td>\n    </tr>\n    <tr>\n      <th>3</th>\n      <td>Burbank</td>\n      <td>2015-01-01 11:53:00</td>\n      <td>1.0</td>\n      <td>33.0</td>\n      <td>Fair</td>\n      <td>989.77</td>\n      <td>0.0</td>\n      <td>0.0</td>\n      <td>1.0</td>\n    </tr>\n    <tr>\n      <th>4</th>\n      <td>Burbank</td>\n      <td>2015-01-01 12:53:00</td>\n      <td>1.0</td>\n      <td>33.0</td>\n      <td>Fair</td>\n      <td>990.10</td>\n      <td>0.0</td>\n      <td>0.0</td>\n      <td>1.0</td>\n    </tr>\n  </tbody>\n</table>\n</div>"
     },
     "execution_count": 3,
     "metadata": {},
     "output_type": "execute_result"
    }
   ],
   "source": [
    "import pandas as pd\n",
    "\n",
    "# Load the data\n",
    "df = pd.read_csv('../Data_Cleanup/outCSV/Clean_Weather_Set.csv',)\n",
    "\n",
    "# Show the first few rows of the DataFrame\n",
    "df.head()"
   ],
   "metadata": {
    "collapsed": false,
    "ExecuteTime": {
     "start_time": "2023-07-16T15:41:32.373381Z",
     "end_time": "2023-07-16T15:41:32.464377Z"
    }
   }
  },
  {
   "cell_type": "code",
   "execution_count": 5,
   "outputs": [
    {
     "data": {
      "text/plain": "            timestamp     city  temperature  cloud_cover  pressure  windspeed  \\\n0 2015-01-01 09:00:00  Burbank          3.0         33.0    989.11        0.0   \n1 2015-01-01 10:00:00  Burbank          2.0         33.0    989.77        0.0   \n2 2015-01-01 11:00:00  Burbank          2.0         33.0    989.44        0.0   \n3 2015-01-01 12:00:00  Burbank          1.0         33.0    989.77        0.0   \n4 2015-01-01 13:00:00  Burbank          1.0         33.0    990.10        0.0   \n\n   precipitation  felt_temperature  \n0            0.0               3.0  \n1            0.0               2.0  \n2            0.0               2.0  \n3            0.0               1.0  \n4            0.0               1.0  ",
      "text/html": "<div>\n<style scoped>\n    .dataframe tbody tr th:only-of-type {\n        vertical-align: middle;\n    }\n\n    .dataframe tbody tr th {\n        vertical-align: top;\n    }\n\n    .dataframe thead th {\n        text-align: right;\n    }\n</style>\n<table border=\"1\" class=\"dataframe\">\n  <thead>\n    <tr style=\"text-align: right;\">\n      <th></th>\n      <th>timestamp</th>\n      <th>city</th>\n      <th>temperature</th>\n      <th>cloud_cover</th>\n      <th>pressure</th>\n      <th>windspeed</th>\n      <th>precipitation</th>\n      <th>felt_temperature</th>\n    </tr>\n  </thead>\n  <tbody>\n    <tr>\n      <th>0</th>\n      <td>2015-01-01 09:00:00</td>\n      <td>Burbank</td>\n      <td>3.0</td>\n      <td>33.0</td>\n      <td>989.11</td>\n      <td>0.0</td>\n      <td>0.0</td>\n      <td>3.0</td>\n    </tr>\n    <tr>\n      <th>1</th>\n      <td>2015-01-01 10:00:00</td>\n      <td>Burbank</td>\n      <td>2.0</td>\n      <td>33.0</td>\n      <td>989.77</td>\n      <td>0.0</td>\n      <td>0.0</td>\n      <td>2.0</td>\n    </tr>\n    <tr>\n      <th>2</th>\n      <td>2015-01-01 11:00:00</td>\n      <td>Burbank</td>\n      <td>2.0</td>\n      <td>33.0</td>\n      <td>989.44</td>\n      <td>0.0</td>\n      <td>0.0</td>\n      <td>2.0</td>\n    </tr>\n    <tr>\n      <th>3</th>\n      <td>2015-01-01 12:00:00</td>\n      <td>Burbank</td>\n      <td>1.0</td>\n      <td>33.0</td>\n      <td>989.77</td>\n      <td>0.0</td>\n      <td>0.0</td>\n      <td>1.0</td>\n    </tr>\n    <tr>\n      <th>4</th>\n      <td>2015-01-01 13:00:00</td>\n      <td>Burbank</td>\n      <td>1.0</td>\n      <td>33.0</td>\n      <td>990.10</td>\n      <td>0.0</td>\n      <td>0.0</td>\n      <td>1.0</td>\n    </tr>\n  </tbody>\n</table>\n</div>"
     },
     "execution_count": 5,
     "metadata": {},
     "output_type": "execute_result"
    }
   ],
   "source": [
    "# Convert 'timestamp' to datetime and round to the nearest hour\n",
    "df['timestamp'] = pd.to_datetime(df['timestamp']).dt.round('H')\n",
    "\n",
    "# Define numeric and non-numeric columns\n",
    "numeric_cols = ['temperature', 'cloud_cover', 'pressure', 'windspeed', 'precipitation', 'felt_temperature']\n",
    "non_numeric_cols = ['city', 'cloud_cover_description']\n",
    "\n",
    "# Compute mean for numeric columns and mode for non-numeric columns\n",
    "df_grouped = df.groupby([pd.Grouper(key='timestamp'), 'city']).agg(\n",
    "    {nc: 'mean' for nc in numeric_cols},\n",
    "    {nnc: lambda x: pd.Series.mode(x)[0] for nnc in non_numeric_cols}\n",
    ")\n",
    "\n",
    "# Reset index\n",
    "df_grouped = df_grouped.reset_index()\n",
    "\n",
    "df_grouped.head()"
   ],
   "metadata": {
    "collapsed": false,
    "ExecuteTime": {
     "start_time": "2023-07-16T15:42:02.507085Z",
     "end_time": "2023-07-16T15:42:02.587817Z"
    }
   }
  },
  {
   "cell_type": "code",
   "execution_count": 6,
   "outputs": [
    {
     "data": {
      "text/plain": "            timestamp     city  temperature  cloud_cover  pressure  windspeed  \\\n0 2015-01-01 09:00:00  Burbank          3.0         33.0    989.11        0.0   \n1 2015-01-01 10:00:00  Burbank          2.0         33.0    989.77        0.0   \n2 2015-01-01 11:00:00  Burbank          2.0         33.0    989.44        0.0   \n3 2015-01-01 12:00:00  Burbank          1.0         33.0    989.77        0.0   \n4 2015-01-01 13:00:00  Burbank          1.0         33.0    990.10        0.0   \n\n   precipitation  felt_temperature cloud_cover_description  \n0            0.0               3.0                    Fair  \n1            0.0               2.0                    Fair  \n2            0.0               2.0                    Fair  \n3            0.0               1.0                    Fair  \n4            0.0               1.0                    Fair  ",
      "text/html": "<div>\n<style scoped>\n    .dataframe tbody tr th:only-of-type {\n        vertical-align: middle;\n    }\n\n    .dataframe tbody tr th {\n        vertical-align: top;\n    }\n\n    .dataframe thead th {\n        text-align: right;\n    }\n</style>\n<table border=\"1\" class=\"dataframe\">\n  <thead>\n    <tr style=\"text-align: right;\">\n      <th></th>\n      <th>timestamp</th>\n      <th>city</th>\n      <th>temperature</th>\n      <th>cloud_cover</th>\n      <th>pressure</th>\n      <th>windspeed</th>\n      <th>precipitation</th>\n      <th>felt_temperature</th>\n      <th>cloud_cover_description</th>\n    </tr>\n  </thead>\n  <tbody>\n    <tr>\n      <th>0</th>\n      <td>2015-01-01 09:00:00</td>\n      <td>Burbank</td>\n      <td>3.0</td>\n      <td>33.0</td>\n      <td>989.11</td>\n      <td>0.0</td>\n      <td>0.0</td>\n      <td>3.0</td>\n      <td>Fair</td>\n    </tr>\n    <tr>\n      <th>1</th>\n      <td>2015-01-01 10:00:00</td>\n      <td>Burbank</td>\n      <td>2.0</td>\n      <td>33.0</td>\n      <td>989.77</td>\n      <td>0.0</td>\n      <td>0.0</td>\n      <td>2.0</td>\n      <td>Fair</td>\n    </tr>\n    <tr>\n      <th>2</th>\n      <td>2015-01-01 11:00:00</td>\n      <td>Burbank</td>\n      <td>2.0</td>\n      <td>33.0</td>\n      <td>989.44</td>\n      <td>0.0</td>\n      <td>0.0</td>\n      <td>2.0</td>\n      <td>Fair</td>\n    </tr>\n    <tr>\n      <th>3</th>\n      <td>2015-01-01 12:00:00</td>\n      <td>Burbank</td>\n      <td>1.0</td>\n      <td>33.0</td>\n      <td>989.77</td>\n      <td>0.0</td>\n      <td>0.0</td>\n      <td>1.0</td>\n      <td>Fair</td>\n    </tr>\n    <tr>\n      <th>4</th>\n      <td>2015-01-01 13:00:00</td>\n      <td>Burbank</td>\n      <td>1.0</td>\n      <td>33.0</td>\n      <td>990.10</td>\n      <td>0.0</td>\n      <td>0.0</td>\n      <td>1.0</td>\n      <td>Fair</td>\n    </tr>\n  </tbody>\n</table>\n</div>"
     },
     "execution_count": 6,
     "metadata": {},
     "output_type": "execute_result"
    }
   ],
   "source": [
    "# Compute mean for numeric columns\n",
    "numeric_agg = df.groupby(['timestamp', 'city'])[numeric_cols].mean().reset_index()\n",
    "\n",
    "# Compute mode for non-numeric columns\n",
    "non_numeric_agg = df.groupby(['timestamp', 'city'])[non_numeric_cols].agg(pd.Series.mode).reset_index()\n",
    "\n",
    "# Merge the results\n",
    "df_merged = pd.merge(numeric_agg, non_numeric_agg, on=['timestamp', 'city'])\n",
    "\n",
    "df_merged.head()\n"
   ],
   "metadata": {
    "collapsed": false,
    "ExecuteTime": {
     "start_time": "2023-07-16T15:42:04.417549Z",
     "end_time": "2023-07-16T15:42:09.471808Z"
    }
   }
  },
  {
   "cell_type": "code",
   "execution_count": 7,
   "outputs": [],
   "source": [
    "df_merged.to_csv(\"../Data_Cleanup/outCSV/YusufMerge.csv\")"
   ],
   "metadata": {
    "collapsed": false,
    "ExecuteTime": {
     "start_time": "2023-07-16T15:44:15.227201Z",
     "end_time": "2023-07-16T15:44:15.605577Z"
    }
   }
  }
 ],
 "metadata": {
  "kernelspec": {
   "display_name": "Python 3",
   "language": "python",
   "name": "python3"
  },
  "language_info": {
   "codemirror_mode": {
    "name": "ipython",
    "version": 2
   },
   "file_extension": ".py",
   "mimetype": "text/x-python",
   "name": "python",
   "nbconvert_exporter": "python",
   "pygments_lexer": "ipython2",
   "version": "2.7.6"
  }
 },
 "nbformat": 4,
 "nbformat_minor": 0
}
