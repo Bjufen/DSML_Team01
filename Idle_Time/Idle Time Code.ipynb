{
 "cells": [
  {
   "cell_type": "markdown",
   "id": "c0485775",
   "metadata": {},
   "source": [
    "-csv datei einlesen\n",
    "-Name ändern\n",
    "- 1sten 5 zeilen ausgeben"
   ]
  },
  {
   "cell_type": "code",
   "execution_count": 3,
   "id": "4ac59096",
   "metadata": {},
   "outputs": [
    {
     "name": "stdout",
     "output_type": "stream",
     "text": [
      "   transaction_id           start_time             end_time  start_station_id  \\\n",
      "0               0  16/45/00 29-05-2018  17/08/00 29-05-2018              3068   \n",
      "1               1  18/34/00 09-08-2018  19/09/00 09-08-2018              4126   \n",
      "2               2  13/37/00 01-09-2021  13/48/00 01-09-2021              3082   \n",
      "3               3  12/40/00 31-08-2018  13/35/00 31-08-2018              4215   \n",
      "4               4  16/41/00 29-03-2018  17/15/00 29-03-2018              4126   \n",
      "\n",
      "   start_station_lat  start_station_lon  end_station_id  end_station_lat  \\\n",
      "0          34.053200        -118.250954            3014        34.056610   \n",
      "1          33.710979        -118.284668            4126        33.710979   \n",
      "2          34.046520        -118.237411            3031        34.044701   \n",
      "3          34.014309        -118.491341            4210        33.984341   \n",
      "4          33.710979        -118.284668            4126        33.710979   \n",
      "\n",
      "   end_station_lon bike_id  \n",
      "0      -118.237213    5772  \n",
      "1      -118.284668   12003  \n",
      "2      -118.252441    6107  \n",
      "3      -118.471550    6474  \n",
      "4      -118.284668    6374  \n"
     ]
    }
   ],
   "source": [
    "import pandas as pd\n",
    "from datetime import datetime, timedelta\n",
    "csv_file = 'metro_2017_2022.csv'\n",
    "metro = pd.read_csv(csv_file)\n",
    "print(metro.head())"
   ]
  },
  {
   "cell_type": "markdown",
   "id": "45891a32",
   "metadata": {},
   "source": [
    "-Tabelle sortieren nach Transaktionszeit"
   ]
  },
  {
   "cell_type": "code",
   "execution_count": 17,
   "id": "e0d2b80e",
   "metadata": {},
   "outputs": [
    {
     "ename": "ValueError",
     "evalue": "time data '2020-11-02 19:21:00' does not match format '%H/%M/%S %d-%m-%Y' (match)",
     "output_type": "error",
     "traceback": [
      "\u001b[1;31m---------------------------------------------------------------------------\u001b[0m",
      "\u001b[1;31mValueError\u001b[0m                                Traceback (most recent call last)",
      "Cell \u001b[1;32mIn[17], line 1\u001b[0m\n\u001b[1;32m----> 1\u001b[0m metro[\u001b[38;5;124m'\u001b[39m\u001b[38;5;124mstart_time\u001b[39m\u001b[38;5;124m'\u001b[39m] \u001b[38;5;241m=\u001b[39m \u001b[43mpd\u001b[49m\u001b[38;5;241;43m.\u001b[39;49m\u001b[43mto_datetime\u001b[49m\u001b[43m(\u001b[49m\u001b[43mmetro\u001b[49m\u001b[43m[\u001b[49m\u001b[38;5;124;43m'\u001b[39;49m\u001b[38;5;124;43mstart_time\u001b[39;49m\u001b[38;5;124;43m'\u001b[39;49m\u001b[43m]\u001b[49m\u001b[43m,\u001b[49m\u001b[43m \u001b[49m\u001b[38;5;28;43mformat\u001b[39;49m\u001b[43m \u001b[49m\u001b[38;5;241;43m=\u001b[39;49m\u001b[38;5;124;43m'\u001b[39;49m\u001b[38;5;124;43m%\u001b[39;49m\u001b[38;5;124;43mH/\u001b[39;49m\u001b[38;5;124;43m%\u001b[39;49m\u001b[38;5;124;43mM/\u001b[39;49m\u001b[38;5;124;43m%\u001b[39;49m\u001b[38;5;124;43mS \u001b[39;49m\u001b[38;5;132;43;01m%d\u001b[39;49;00m\u001b[38;5;124;43m-\u001b[39;49m\u001b[38;5;124;43m%\u001b[39;49m\u001b[38;5;124;43mm-\u001b[39;49m\u001b[38;5;124;43m%\u001b[39;49m\u001b[38;5;124;43mY\u001b[39;49m\u001b[38;5;124;43m'\u001b[39;49m\u001b[43m)\u001b[49m\n\u001b[0;32m      3\u001b[0m metro [\u001b[38;5;124m'\u001b[39m\u001b[38;5;124mend_time\u001b[39m\u001b[38;5;124m'\u001b[39m] \u001b[38;5;241m=\u001b[39m pd\u001b[38;5;241m.\u001b[39mto_datetime(metro[\u001b[38;5;124m'\u001b[39m\u001b[38;5;124mend_time\u001b[39m\u001b[38;5;124m'\u001b[39m], \u001b[38;5;28mformat\u001b[39m \u001b[38;5;241m=\u001b[39m\u001b[38;5;124m'\u001b[39m\u001b[38;5;124m%\u001b[39m\u001b[38;5;124mH/\u001b[39m\u001b[38;5;124m%\u001b[39m\u001b[38;5;124mM/\u001b[39m\u001b[38;5;124m%\u001b[39m\u001b[38;5;124mS \u001b[39m\u001b[38;5;132;01m%d\u001b[39;00m\u001b[38;5;124m-\u001b[39m\u001b[38;5;124m%\u001b[39m\u001b[38;5;124mm-\u001b[39m\u001b[38;5;124m%\u001b[39m\u001b[38;5;124mY\u001b[39m\u001b[38;5;124m'\u001b[39m)\n\u001b[0;32m      5\u001b[0m metro \u001b[38;5;241m=\u001b[39m metro\u001b[38;5;241m.\u001b[39msort_values(by\u001b[38;5;241m=\u001b[39m\u001b[38;5;124m'\u001b[39m\u001b[38;5;124mstart_time\u001b[39m\u001b[38;5;124m'\u001b[39m)\n",
      "File \u001b[1;32m~\\anaconda3\\lib\\site-packages\\pandas\\core\\tools\\datetimes.py:1068\u001b[0m, in \u001b[0;36mto_datetime\u001b[1;34m(arg, errors, dayfirst, yearfirst, utc, format, exact, unit, infer_datetime_format, origin, cache)\u001b[0m\n\u001b[0;32m   1066\u001b[0m         result \u001b[38;5;241m=\u001b[39m arg\u001b[38;5;241m.\u001b[39mmap(cache_array)\n\u001b[0;32m   1067\u001b[0m     \u001b[38;5;28;01melse\u001b[39;00m:\n\u001b[1;32m-> 1068\u001b[0m         values \u001b[38;5;241m=\u001b[39m \u001b[43mconvert_listlike\u001b[49m\u001b[43m(\u001b[49m\u001b[43marg\u001b[49m\u001b[38;5;241;43m.\u001b[39;49m\u001b[43m_values\u001b[49m\u001b[43m,\u001b[49m\u001b[43m \u001b[49m\u001b[38;5;28;43mformat\u001b[39;49m\u001b[43m)\u001b[49m\n\u001b[0;32m   1069\u001b[0m         result \u001b[38;5;241m=\u001b[39m arg\u001b[38;5;241m.\u001b[39m_constructor(values, index\u001b[38;5;241m=\u001b[39marg\u001b[38;5;241m.\u001b[39mindex, name\u001b[38;5;241m=\u001b[39marg\u001b[38;5;241m.\u001b[39mname)\n\u001b[0;32m   1070\u001b[0m \u001b[38;5;28;01melif\u001b[39;00m \u001b[38;5;28misinstance\u001b[39m(arg, (ABCDataFrame, abc\u001b[38;5;241m.\u001b[39mMutableMapping)):\n",
      "File \u001b[1;32m~\\anaconda3\\lib\\site-packages\\pandas\\core\\tools\\datetimes.py:430\u001b[0m, in \u001b[0;36m_convert_listlike_datetimes\u001b[1;34m(arg, format, name, tz, unit, errors, infer_datetime_format, dayfirst, yearfirst, exact)\u001b[0m\n\u001b[0;32m    427\u001b[0m         \u001b[38;5;28mformat\u001b[39m \u001b[38;5;241m=\u001b[39m \u001b[38;5;28;01mNone\u001b[39;00m\n\u001b[0;32m    429\u001b[0m \u001b[38;5;28;01mif\u001b[39;00m \u001b[38;5;28mformat\u001b[39m \u001b[38;5;129;01mis\u001b[39;00m \u001b[38;5;129;01mnot\u001b[39;00m \u001b[38;5;28;01mNone\u001b[39;00m:\n\u001b[1;32m--> 430\u001b[0m     res \u001b[38;5;241m=\u001b[39m \u001b[43m_to_datetime_with_format\u001b[49m\u001b[43m(\u001b[49m\n\u001b[0;32m    431\u001b[0m \u001b[43m        \u001b[49m\u001b[43marg\u001b[49m\u001b[43m,\u001b[49m\u001b[43m \u001b[49m\u001b[43morig_arg\u001b[49m\u001b[43m,\u001b[49m\u001b[43m \u001b[49m\u001b[43mname\u001b[49m\u001b[43m,\u001b[49m\u001b[43m \u001b[49m\u001b[43mtz\u001b[49m\u001b[43m,\u001b[49m\u001b[43m \u001b[49m\u001b[38;5;28;43mformat\u001b[39;49m\u001b[43m,\u001b[49m\u001b[43m \u001b[49m\u001b[43mexact\u001b[49m\u001b[43m,\u001b[49m\u001b[43m \u001b[49m\u001b[43merrors\u001b[49m\u001b[43m,\u001b[49m\u001b[43m \u001b[49m\u001b[43minfer_datetime_format\u001b[49m\n\u001b[0;32m    432\u001b[0m \u001b[43m    \u001b[49m\u001b[43m)\u001b[49m\n\u001b[0;32m    433\u001b[0m     \u001b[38;5;28;01mif\u001b[39;00m res \u001b[38;5;129;01mis\u001b[39;00m \u001b[38;5;129;01mnot\u001b[39;00m \u001b[38;5;28;01mNone\u001b[39;00m:\n\u001b[0;32m    434\u001b[0m         \u001b[38;5;28;01mreturn\u001b[39;00m res\n",
      "File \u001b[1;32m~\\anaconda3\\lib\\site-packages\\pandas\\core\\tools\\datetimes.py:538\u001b[0m, in \u001b[0;36m_to_datetime_with_format\u001b[1;34m(arg, orig_arg, name, tz, fmt, exact, errors, infer_datetime_format)\u001b[0m\n\u001b[0;32m    535\u001b[0m         \u001b[38;5;28;01mreturn\u001b[39;00m _box_as_indexlike(result, utc\u001b[38;5;241m=\u001b[39mutc, name\u001b[38;5;241m=\u001b[39mname)\n\u001b[0;32m    537\u001b[0m \u001b[38;5;66;03m# fallback\u001b[39;00m\n\u001b[1;32m--> 538\u001b[0m res \u001b[38;5;241m=\u001b[39m \u001b[43m_array_strptime_with_fallback\u001b[49m\u001b[43m(\u001b[49m\n\u001b[0;32m    539\u001b[0m \u001b[43m    \u001b[49m\u001b[43marg\u001b[49m\u001b[43m,\u001b[49m\u001b[43m \u001b[49m\u001b[43mname\u001b[49m\u001b[43m,\u001b[49m\u001b[43m \u001b[49m\u001b[43mtz\u001b[49m\u001b[43m,\u001b[49m\u001b[43m \u001b[49m\u001b[43mfmt\u001b[49m\u001b[43m,\u001b[49m\u001b[43m \u001b[49m\u001b[43mexact\u001b[49m\u001b[43m,\u001b[49m\u001b[43m \u001b[49m\u001b[43merrors\u001b[49m\u001b[43m,\u001b[49m\u001b[43m \u001b[49m\u001b[43minfer_datetime_format\u001b[49m\n\u001b[0;32m    540\u001b[0m \u001b[43m\u001b[49m\u001b[43m)\u001b[49m\n\u001b[0;32m    541\u001b[0m \u001b[38;5;28;01mreturn\u001b[39;00m res\n",
      "File \u001b[1;32m~\\anaconda3\\lib\\site-packages\\pandas\\core\\tools\\datetimes.py:473\u001b[0m, in \u001b[0;36m_array_strptime_with_fallback\u001b[1;34m(arg, name, tz, fmt, exact, errors, infer_datetime_format)\u001b[0m\n\u001b[0;32m    470\u001b[0m utc \u001b[38;5;241m=\u001b[39m tz \u001b[38;5;241m==\u001b[39m \u001b[38;5;124m\"\u001b[39m\u001b[38;5;124mutc\u001b[39m\u001b[38;5;124m\"\u001b[39m\n\u001b[0;32m    472\u001b[0m \u001b[38;5;28;01mtry\u001b[39;00m:\n\u001b[1;32m--> 473\u001b[0m     result, timezones \u001b[38;5;241m=\u001b[39m \u001b[43marray_strptime\u001b[49m\u001b[43m(\u001b[49m\u001b[43marg\u001b[49m\u001b[43m,\u001b[49m\u001b[43m \u001b[49m\u001b[43mfmt\u001b[49m\u001b[43m,\u001b[49m\u001b[43m \u001b[49m\u001b[43mexact\u001b[49m\u001b[38;5;241;43m=\u001b[39;49m\u001b[43mexact\u001b[49m\u001b[43m,\u001b[49m\u001b[43m \u001b[49m\u001b[43merrors\u001b[49m\u001b[38;5;241;43m=\u001b[39;49m\u001b[43merrors\u001b[49m\u001b[43m)\u001b[49m\n\u001b[0;32m    474\u001b[0m \u001b[38;5;28;01mexcept\u001b[39;00m OutOfBoundsDatetime:\n\u001b[0;32m    475\u001b[0m     \u001b[38;5;28;01mif\u001b[39;00m errors \u001b[38;5;241m==\u001b[39m \u001b[38;5;124m\"\u001b[39m\u001b[38;5;124mraise\u001b[39m\u001b[38;5;124m\"\u001b[39m:\n",
      "File \u001b[1;32m~\\anaconda3\\lib\\site-packages\\pandas\\_libs\\tslibs\\strptime.pyx:150\u001b[0m, in \u001b[0;36mpandas._libs.tslibs.strptime.array_strptime\u001b[1;34m()\u001b[0m\n",
      "\u001b[1;31mValueError\u001b[0m: time data '2020-11-02 19:21:00' does not match format '%H/%M/%S %d-%m-%Y' (match)"
     ]
    }
   ],
   "source": [
    "metro['start_time'] = pd.to_datetime(metro['start_time'])\n",
    "\n",
    "metro ['end_time'] = pd.to_datetime(metro['end_time'])\n",
    "\n",
    "metro = metro.sort_values(by='start_time')"
   ]
  },
  {
   "cell_type": "markdown",
   "id": "6de58174",
   "metadata": {},
   "source": [
    "-Neue Spalte hinzufügen für Idle_Time\n",
    "-Alle neuen felder mit 0 initialisieren\n"
   ]
  },
  {
   "cell_type": "code",
   "execution_count": null,
   "id": "df1625c9",
   "metadata": {},
   "outputs": [],
   "source": [
    "metro['Idle Time'] = pd.Timedelta(0)"
   ]
  },
  {
   "cell_type": "markdown",
   "id": "f200ac5d",
   "metadata": {},
   "source": [
    "Idle Time berechnung"
   ]
  },
  {
   "cell_type": "markdown",
   "id": "9c3ac053",
   "metadata": {},
   "source": [
    "Erklärung des folgenden Codes:\n",
    "\n",
    "Hier beginnt eine Schleife, die jede Zeile in den Daten durchläuft.\n",
    "\n",
    "Die aktuelle Station ID wird aus der Spalte 'start_station_id' der aktuellen Zeile abgerufen und in der Variable `current_station_id` gespeichert.\n",
    "\n",
    "Daraufhin folgt die Filterung aller vorherigen Transaktionen, bei denen die 'end_station_id' mit der 'current_station_id' übereinstimmt und die Zeilenindizes kleiner als der aktuelle Index `i` sind.\n",
    "\n",
    "Der darauf Folgende Block wird nur ausgeführt, wenn es vorherige Transaktionen an derselben Station gibt.\n",
    "\n",
    "Die letzte Transaktion mit der passenden 'end_station_id'wird ausgewählt, um die endgültige Zeit für die Idle Time-Berechnung zu erhalten.\n",
    "\n",
    "Die Variable `count` wird initialisiert, um die Idle Time zu zählen, und `temp` wird als temporäre Variable für die Zeitberechnung verwendet.\n",
    "\n",
    "In dieser Schleife wird die Zeit erhöht, indem 'count' und 'temp' um 1 Minute inkrementiert werden, bis `temp` der 'start_time' der aktuellen Transaktion entspricht.\n",
    "\n",
    "Die Idle Time für die aktuelle Zeile wird auf den berechneten Wert `count` gesetzt.\n",
    "\n",
    "\n"
   ]
  },
  {
   "cell_type": "code",
   "execution_count": null,
   "id": "93eef835",
   "metadata": {},
   "outputs": [],
   "source": [
    "# Iteration über jede Zeile in den Daten\n",
    "\n",
    "for i in range(len(metro)):\n",
    "\n",
    "    # Aktuelle Station ID\n",
    "\n",
    "    current_station_id =metro.loc[i, 'start_station_id']  # Aktuelle Station ID der aktuellen Transaktion\n",
    "\n",
    "    \n",
    "\n",
    "    # Filtern der vorherigen Transaktionen mit passender end_station_id\n",
    "\n",
    "    previous_transactions =metro.where[(metro['end_station_id'] == current_station_id) & (metro.index < i)]\n",
    "\n",
    "    \n",
    "\n",
    "    if len(previous_transactions) > 0:\n",
    "\n",
    "        # Suche nach der letzten passenden Transaktion mit korrekter end_station_id\n",
    "\n",
    "        last_transaction = previous_transactions[previous_transactions['end_station_id'] == current_station_id].iloc[-1]\n",
    "\n",
    "        last_transaction_end_time = last_transaction['end_time']  # Letzte 'end_time' der vorherigen Transaktion\n",
    "\n",
    "        \n",
    "\n",
    "        # Berechnung der Idle Time\n",
    "\n",
    "        count = pd.Timedelta(hours=0, minutes=0, seconds=0, days=0)  # Initialisiere 'count' auf 0\n",
    "\n",
    "        temp = pd.to_datetime(last_transaction_end_time)  # Konvertiere 'last_transaction_end_time' in ein DateTime-Objekt\n",
    "\n",
    "        while temp != metro.loc[i, 'start_time']:  # Schleife, um die Zeit zu erhöhen, bis sie der 'start_time' entspricht\n",
    "\n",
    "            count += pd.Timedelta(minutes=1)  # Inkrementiere 'count' um 1 Minute\n",
    "\n",
    "            temp += pd.Timedelta(minutes=1)  # Inkrementiere 'temp' um 1 Minute\n",
    "\n",
    "        \n",
    "\n",
    "        # Aktualisierung der Idle Time-Spalte\n",
    "\n",
    "       metro.at[i, 'Idle Time'] = count  # Weise der 'Idle Time'-Spalte den Wert von 'count' zu\n",
    "\n"
   ]
  },
  {
   "cell_type": "code",
   "execution_count": null,
   "id": "2131cb55",
   "metadata": {},
   "outputs": [],
   "source": [
    "print(metro)"
   ]
  }
 ],
 "metadata": {
  "kernelspec": {
   "display_name": "Python 3 (ipykernel)",
   "language": "python",
   "name": "python3"
  },
  "language_info": {
   "codemirror_mode": {
    "name": "ipython",
    "version": 3
   },
   "file_extension": ".py",
   "mimetype": "text/x-python",
   "name": "python",
   "nbconvert_exporter": "python",
   "pygments_lexer": "ipython3",
   "version": "3.10.9"
  }
 },
 "nbformat": 4,
 "nbformat_minor": 5
}
