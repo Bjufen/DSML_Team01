{
 "cells": [
  {
   "cell_type": "markdown",
   "id": "c0485775",
   "metadata": {},
   "source": [
    "-csv datei einlesen\n",
    "-Name ändern\n",
    "- 1sten 5 zeilen ausgeben"
   ]
  },
  {
   "cell_type": "code",
   "execution_count": 1,
   "id": "4ac59096",
   "metadata": {
    "ExecuteTime": {
     "start_time": "2023-05-18T22:21:26.907389Z",
     "end_time": "2023-05-18T22:21:31.214855Z"
    }
   },
   "outputs": [
    {
     "name": "stderr",
     "output_type": "stream",
     "text": [
      "C:\\Users\\yusuf\\AppData\\Local\\Temp\\ipykernel_70780\\2191921915.py:4: DtypeWarning: Columns (10) have mixed types. Specify dtype option on import or set low_memory=False.\n",
      "  metro = pd.read_csv(csv_file)\n"
     ]
    },
    {
     "name": "stdout",
     "output_type": "stream",
     "text": [
      "   Unnamed: 0.1  Unnamed: 0           start_time             end_time  \\\n",
      "0             0           0  2018-05-29 16:45:00  2018-05-29 17:08:00   \n",
      "1             1         891  2019-08-16 17:12:00  2019-08-16 17:42:00   \n",
      "2             2        1467  2019-01-30 12:22:00  2019-01-30 12:28:00   \n",
      "3             3        6956  2018-05-15 08:23:00  2018-05-15 08:30:00   \n",
      "4             4       11733  2018-11-03 18:30:00  2018-11-03 18:51:00   \n",
      "\n",
      "   start_station_id  start_station_lat  start_station_lon  end_station_id  \\\n",
      "0              3068            34.0532        -118.250954            3014   \n",
      "1              3068            34.0532        -118.250954            3014   \n",
      "2              3068            34.0532        -118.250954            3014   \n",
      "3              3068            34.0532        -118.250954            3014   \n",
      "4              3068            34.0532        -118.250954            3014   \n",
      "\n",
      "   end_station_lat  end_station_lon bike_id  \n",
      "0         34.05661      -118.237213    5772  \n",
      "1         34.05661      -118.237213   16618  \n",
      "2         34.05661      -118.237213   06358  \n",
      "3         34.05661      -118.237213    6144  \n",
      "4         34.05661      -118.237213    5860  \n",
      "<class 'pandas.core.frame.DataFrame'>\n",
      "RangeIndex: 1552782 entries, 0 to 1552781\n",
      "Data columns (total 11 columns):\n",
      " #   Column             Non-Null Count    Dtype  \n",
      "---  ------             --------------    -----  \n",
      " 0   Unnamed: 0.1       1552782 non-null  int64  \n",
      " 1   Unnamed: 0         1552782 non-null  int64  \n",
      " 2   start_time         1552782 non-null  object \n",
      " 3   end_time           1552782 non-null  object \n",
      " 4   start_station_id   1552782 non-null  int64  \n",
      " 5   start_station_lat  1552782 non-null  float64\n",
      " 6   start_station_lon  1552782 non-null  float64\n",
      " 7   end_station_id     1552782 non-null  int64  \n",
      " 8   end_station_lat    1552782 non-null  float64\n",
      " 9   end_station_lon    1552782 non-null  float64\n",
      " 10  bike_id            1552782 non-null  object \n",
      "dtypes: float64(4), int64(4), object(3)\n",
      "memory usage: 130.3+ MB\n"
     ]
    }
   ],
   "source": [
    "import pandas as pd\n",
    "from datetime import datetime, timedelta\n",
    "csv_file = '../Data_Cleanup/outCSV/Clean_Metro_Set.csv'\n",
    "metro = pd.read_csv(csv_file)\n",
    "print(metro.head())\n",
    "metro.info()"
   ]
  },
  {
   "cell_type": "markdown",
   "id": "45891a32",
   "metadata": {},
   "source": [
    "-Tabelle sortieren nach Transaktionszeit"
   ]
  },
  {
   "cell_type": "code",
   "execution_count": 2,
   "id": "e0d2b80e",
   "metadata": {
    "ExecuteTime": {
     "start_time": "2023-05-18T22:21:40.082640Z",
     "end_time": "2023-05-18T22:21:43.467393Z"
    }
   },
   "outputs": [],
   "source": [
    "metro['start_time'] = pd.to_datetime(metro['start_time'])\n",
    "\n",
    "metro ['end_time'] = pd.to_datetime(metro['end_time'])\n",
    "\n",
    "metro = metro.sort_values(by='end_time')"
   ]
  },
  {
   "cell_type": "markdown",
   "id": "6de58174",
   "metadata": {},
   "source": [
    "-Neue Spalte hinzufügen für Idle_Time\n",
    "-Alle neuen felder mit 0 initialisieren\n"
   ]
  },
  {
   "cell_type": "code",
   "execution_count": 9,
   "id": "df1625c9",
   "metadata": {
    "ExecuteTime": {
     "start_time": "2023-05-18T22:52:20.902967Z",
     "end_time": "2023-05-18T22:52:20.950276Z"
    }
   },
   "outputs": [],
   "source": [
    "metro['idle_time'] = pd.Timedelta(0)"
   ]
  },
  {
   "cell_type": "code",
   "execution_count": 10,
   "outputs": [
    {
     "name": "stdout",
     "output_type": "stream",
     "text": [
      "<class 'pandas.core.frame.DataFrame'>\n",
      "Int64Index: 1552782 entries, 690312 to 373108\n",
      "Data columns (total 12 columns):\n",
      " #   Column             Non-Null Count    Dtype          \n",
      "---  ------             --------------    -----          \n",
      " 0   Unnamed: 0.1       1552782 non-null  int64          \n",
      " 1   Unnamed: 0         1552782 non-null  int64          \n",
      " 2   start_time         1552782 non-null  datetime64[ns] \n",
      " 3   end_time           1552782 non-null  datetime64[ns] \n",
      " 4   start_station_id   1552782 non-null  int64          \n",
      " 5   start_station_lat  1552782 non-null  float64        \n",
      " 6   start_station_lon  1552782 non-null  float64        \n",
      " 7   end_station_id     1552782 non-null  int64          \n",
      " 8   end_station_lat    1552782 non-null  float64        \n",
      " 9   end_station_lon    1552782 non-null  float64        \n",
      " 10  bike_id            1552782 non-null  object         \n",
      " 11  idle_time          1552782 non-null  timedelta64[ns]\n",
      "dtypes: datetime64[ns](2), float64(4), int64(4), object(1), timedelta64[ns](1)\n",
      "memory usage: 186.3+ MB\n"
     ]
    }
   ],
   "source": [
    "metro.info()"
   ],
   "metadata": {
    "collapsed": false,
    "ExecuteTime": {
     "start_time": "2023-05-18T22:52:22.973664Z",
     "end_time": "2023-05-18T22:52:23.779477Z"
    }
   }
  },
  {
   "cell_type": "markdown",
   "id": "f200ac5d",
   "metadata": {},
   "source": [
    "Idle Time berechnung"
   ]
  },
  {
   "cell_type": "markdown",
   "id": "9c3ac053",
   "metadata": {},
   "source": [
    "Erklärung des folgenden Codes:\n",
    "\n",
    "Hier beginnt eine Schleife, die jede Zeile in den Daten durchläuft.\n",
    "\n",
    "Die aktuelle Station ID wird aus der Spalte 'start_station_id' der aktuellen Zeile abgerufen und in der Variable `current_station_id` gespeichert.\n",
    "\n",
    "Daraufhin folgt die Filterung aller vorherigen Transaktionen, bei denen die 'end_station_id' mit der 'current_station_id' übereinstimmt und die Zeilenindizes kleiner als der aktuelle Index `i` sind.\n",
    "\n",
    "Der darauf Folgende Block wird nur ausgeführt, wenn es vorherige Transaktionen an derselben Station gibt.\n",
    "\n",
    "Die letzte Transaktion mit der passenden 'end_station_id'wird ausgewählt, um die endgültige Zeit für die Idle Time-Berechnung zu erhalten.\n",
    "\n",
    "Die Variable `count` wird initialisiert, um die Idle Time zu zählen, und `temp` wird als temporäre Variable für die Zeitberechnung verwendet.\n",
    "\n",
    "In dieser Schleife wird die Zeit erhöht, indem 'count' und 'temp' um 1 Minute inkrementiert werden, bis `temp` der 'start_time' der aktuellen Transaktion entspricht.\n",
    "\n",
    "Die Idle Time für die aktuelle Zeile wird auf den berechneten Wert `count` gesetzt.\n",
    "\n",
    "\n"
   ]
  },
  {
   "cell_type": "code",
   "execution_count": null,
   "outputs": [],
   "source": [
    "#Test\n",
    "import pandas as pd\n",
    "a = pd.Series(dtype='datetime64[ns]')\n",
    "b = pd.to_datetime('2023-05-15')\n",
    "d = pd.to_datetime('2023-05-17')\n",
    "c = pd.to_datetime('2023-05-16')\n",
    "a.loc[len(a)] = b\n",
    "a.loc[len(a)] = d\n",
    "filtered_series = a[a < c]\n",
    "time = c - filtered_series.max()\n",
    "time"
   ],
   "metadata": {
    "collapsed": false
   }
  },
  {
   "cell_type": "code",
   "execution_count": 6,
   "outputs": [],
   "source": [
    "BigDict = {}\n",
    "for i, row in metro.iterrows():\n",
    "    current_start_station_id = metro.loc[i, \"start_station_id\"]\n",
    "    current_end_station_id = metro.loc[i, \"end_station_id\"]\n",
    "    current_start_time = metro.loc[i, \"start_time\"]\n",
    "    current_end_time = metro.loc[i, \"end_time\"]\n",
    "    try:\n",
    "        BigDict[str(current_end_station_id)].loc[len(str(current_end_station_id))] = current_end_time\n",
    "    except KeyError:\n",
    "        BigDict[str(current_end_station_id)] = pd.Series(dtype='datetime64[ns]')\n",
    "        BigDict[str(current_end_station_id)].loc[len(str(current_end_station_id))] = current_end_time\n",
    "\n",
    "\n",
    "    try:\n",
    "        filtered_series = BigDict[str(current_start_station_id)][BigDict[str(current_start_station_id)] < current_start_time]\n",
    "        metro.at[i, 'idle_time'] = current_start_time - filtered_series.max()\n",
    "    except KeyError:\n",
    "        BigDict[str(current_end_station_id)] = pd.Series(dtype='datetime64[ns]')"
   ],
   "metadata": {
    "collapsed": false,
    "ExecuteTime": {
     "start_time": "2023-05-18T22:22:12.026113Z",
     "end_time": "2023-05-18T22:43:16.463687Z"
    }
   }
  },
  {
   "cell_type": "code",
   "execution_count": null,
   "outputs": [],
   "source": [
    "BigDict = {}\n",
    "for i, row in metro.iterrows():\n",
    "    current_start_station_id = metro.loc[i, \"start_station_id\"]\n",
    "    current_end_station_id = metro.loc[i, \"end_station_id\"]\n",
    "    current_start_time = metro.loc[i, \"start_time\"]\n",
    "    current_end_time = metro.loc[i, \"end_time\"]\n",
    "    try:\n",
    "        metro.at[i, \"idle_time\"] = current_start_time - BigDict[str(current_start_station_id)]\n",
    "    except KeyError:\n",
    "        BigDict[str(current_end_station_id)] = current_end_time\n",
    "    BigDict[str(current_end_station_id)] = current_end_time"
   ],
   "metadata": {
    "collapsed": false
   }
  },
  {
   "cell_type": "code",
   "execution_count": 7,
   "id": "2131cb55",
   "metadata": {
    "ExecuteTime": {
     "start_time": "2023-05-18T22:45:57.028691Z",
     "end_time": "2023-05-18T22:45:57.477060Z"
    }
   },
   "outputs": [
    {
     "name": "stdout",
     "output_type": "stream",
     "text": [
      "<class 'pandas.core.frame.DataFrame'>\n",
      "Int64Index: 1552782 entries, 690312 to 373108\n",
      "Data columns (total 12 columns):\n",
      " #   Column             Non-Null Count    Dtype          \n",
      "---  ------             --------------    -----          \n",
      " 0   Unnamed: 0.1       1552782 non-null  int64          \n",
      " 1   Unnamed: 0         1552782 non-null  int64          \n",
      " 2   start_time         1552782 non-null  datetime64[ns] \n",
      " 3   end_time           1552782 non-null  datetime64[ns] \n",
      " 4   start_station_id   1552782 non-null  int64          \n",
      " 5   start_station_lat  1552782 non-null  float64        \n",
      " 6   start_station_lon  1552782 non-null  float64        \n",
      " 7   end_station_id     1552782 non-null  int64          \n",
      " 8   end_station_lat    1552782 non-null  float64        \n",
      " 9   end_station_lon    1552782 non-null  float64        \n",
      " 10  bike_id            1552782 non-null  object         \n",
      " 11  idle_time          1157431 non-null  timedelta64[ns]\n",
      "dtypes: datetime64[ns](2), float64(4), int64(4), object(1), timedelta64[ns](1)\n",
      "memory usage: 186.3+ MB\n"
     ]
    }
   ],
   "source": [
    "metro.info()"
   ]
  },
  {
   "cell_type": "code",
   "execution_count": 8,
   "outputs": [],
   "source": [
    "metro.to_csv('../Data_Cleanup/outCSV/IdleTimeTest2.csv')"
   ],
   "metadata": {
    "collapsed": false,
    "ExecuteTime": {
     "start_time": "2023-05-18T22:46:25.279718Z",
     "end_time": "2023-05-18T22:47:03.205761Z"
    }
   }
  }
 ],
 "metadata": {
  "kernelspec": {
   "display_name": "Python 3 (ipykernel)",
   "language": "python",
   "name": "python3"
  },
  "language_info": {
   "codemirror_mode": {
    "name": "ipython",
    "version": 3
   },
   "file_extension": ".py",
   "mimetype": "text/x-python",
   "name": "python",
   "nbconvert_exporter": "python",
   "pygments_lexer": "ipython3",
   "version": "3.10.9"
  }
 },
 "nbformat": 4,
 "nbformat_minor": 5
}
