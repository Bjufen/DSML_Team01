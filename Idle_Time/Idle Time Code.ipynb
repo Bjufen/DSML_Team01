{
 "cells": [
  {
   "attachments": {},
   "cell_type": "markdown",
   "id": "c0485775",
   "metadata": {},
   "source": [
    "-csv datei einlesen\n",
    "-Name ändern\n",
    "- 1sten 5 zeilen ausgeben"
   ]
  },
  {
   "cell_type": "code",
   "execution_count": 46,
   "id": "4ac59096",
   "metadata": {
    "ExecuteTime": {
     "end_time": "2023-05-18T22:21:31.214855Z",
     "start_time": "2023-05-18T22:21:26.907389Z"
    }
   },
   "outputs": [
    {
     "name": "stderr",
     "output_type": "stream",
     "text": [
      "C:\\Users\\moham\\AppData\\Local\\Temp\\ipykernel_12584\\399612730.py:4: DtypeWarning: Columns (10) have mixed types. Specify dtype option on import or set low_memory=False.\n",
      "  metro = pd.read_csv(csv_file)\n"
     ]
    },
    {
     "name": "stdout",
     "output_type": "stream",
     "text": [
      "   Unnamed: 0.1  Unnamed: 0           start_time             end_time  \\\n",
      "0             0           0  2018-05-29 16:45:00  2018-05-29 17:08:00   \n",
      "1             1         891  2019-08-16 17:12:00  2019-08-16 17:42:00   \n",
      "2             2        1467  2019-01-30 12:22:00  2019-01-30 12:28:00   \n",
      "3             3        6956  2018-05-15 08:23:00  2018-05-15 08:30:00   \n",
      "4             4       11733  2018-11-03 18:30:00  2018-11-03 18:51:00   \n",
      "\n",
      "   start_station_id  start_station_lat  start_station_lon  end_station_id  \\\n",
      "0              3068            34.0532        -118.250954            3014   \n",
      "1              3068            34.0532        -118.250954            3014   \n",
      "2              3068            34.0532        -118.250954            3014   \n",
      "3              3068            34.0532        -118.250954            3014   \n",
      "4              3068            34.0532        -118.250954            3014   \n",
      "\n",
      "   end_station_lat  end_station_lon bike_id  \n",
      "0         34.05661      -118.237213    5772  \n",
      "1         34.05661      -118.237213   16618  \n",
      "2         34.05661      -118.237213   06358  \n",
      "3         34.05661      -118.237213    6144  \n",
      "4         34.05661      -118.237213    5860  \n",
      "<class 'pandas.core.frame.DataFrame'>\n",
      "RangeIndex: 1552782 entries, 0 to 1552781\n",
      "Data columns (total 11 columns):\n",
      " #   Column             Non-Null Count    Dtype  \n",
      "---  ------             --------------    -----  \n",
      " 0   Unnamed: 0.1       1552782 non-null  int64  \n",
      " 1   Unnamed: 0         1552782 non-null  int64  \n",
      " 2   start_time         1552782 non-null  object \n",
      " 3   end_time           1552782 non-null  object \n",
      " 4   start_station_id   1552782 non-null  int64  \n",
      " 5   start_station_lat  1552782 non-null  float64\n",
      " 6   start_station_lon  1552782 non-null  float64\n",
      " 7   end_station_id     1552782 non-null  int64  \n",
      " 8   end_station_lat    1552782 non-null  float64\n",
      " 9   end_station_lon    1552782 non-null  float64\n",
      " 10  bike_id            1552782 non-null  object \n",
      "dtypes: float64(4), int64(4), object(3)\n",
      "memory usage: 130.3+ MB\n"
     ]
    }
   ],
   "source": [
    "import pandas as pd\n",
    "from datetime import datetime, timedelta\n",
    "csv_file = '../Data_Cleanup/outCSV/Clean_Metro_Set.csv'\n",
    "metro = pd.read_csv(csv_file)"
   ]
  },
  {
   "attachments": {},
   "cell_type": "markdown",
   "id": "45891a32",
   "metadata": {},
   "source": [
    "-Tabelle sortieren nach Transaktionszeit"
   ]
  },
  {
   "cell_type": "code",
   "execution_count": 47,
   "id": "e0d2b80e",
   "metadata": {
    "ExecuteTime": {
     "end_time": "2023-05-18T22:21:43.467393Z",
     "start_time": "2023-05-18T22:21:40.082640Z"
    }
   },
   "outputs": [],
   "source": [
    "metro['start_time'] = pd.to_datetime(metro['start_time'])\n",
    "\n",
    "metro ['end_time'] = pd.to_datetime(metro['end_time'])\n",
    "\n",
    "metro = metro.sort_values(by='start_time')"
   ]
  },
  {
   "attachments": {},
   "cell_type": "markdown",
   "id": "6de58174",
   "metadata": {},
   "source": [
    "-Neue Spalte hinzufügen für Idle_Time\n",
    "-Alle neuen felder mit \"None\" initialisieren, da alle nicht belegte Idle Time Zellen keinen Einfluss später in der durchschnittlichen Idle Time Berechnung haben sollten.\n"
   ]
  },
  {
   "cell_type": "code",
   "execution_count": 48,
   "id": "df1625c9",
   "metadata": {
    "ExecuteTime": {
     "end_time": "2023-05-18T22:52:20.950276Z",
     "start_time": "2023-05-18T22:52:20.902967Z"
    }
   },
   "outputs": [],
   "source": [
    "metro['idle_time'] = None"
   ]
  },
  {
   "attachments": {},
   "cell_type": "markdown",
   "id": "f200ac5d",
   "metadata": {},
   "source": [
    "Idle Time berechnung"
   ]
  },
  {
   "attachments": {},
   "cell_type": "markdown",
   "id": "9c3ac053",
   "metadata": {},
   "source": [
    "Erklärung des folgenden Codes:\n",
    "\n",
    "Die Berechnung der Idle Time basiert auf der Überprüfung der Startzeit (current_start_time) im Vergleich zur Endzeit (stored end time) des vorherigen Vorgangs mit der gleichen Startstation (current_start_station_id). \n",
    "\n",
    "Der Algorithmus durchläuft die Datenzeilen des DataFrames und speichert die Endzeiten (current_end_time) für jede Endstation (current_end_station_id) in einem Dictionary namens BigDict. \n",
    "\n",
    "Für jede Zeile wird überprüft, ob die aktuelle Startzeit größer ist als die gespeicherte Endzeit für die Startstation. Wenn dies der Fall ist, bedeutet dies, dass zwischen den Vorgängen mit der gleichen Startstation eine Leerlaufzeit aufgetreten ist. Die Leerlaufzeit wird berechnet, indem die Startzeit von der gespeicherten Endzeit subtrahiert wird. Das Ergebnis wird dann in der Spalte \"idle_time\" der entsprechenden Zeile des DataFrames gespeichert.\n",
    "\n",
    "Um die Endzeit für eine Startstation abzurufen, wird das Dictionary BigDict verwendet. Wenn eine Startstation zum ersten Mal auftritt und keine gespeicherte Endzeit vorhanden ist, wird ein KeyError ausgelöst. In diesem Fall wird die aktuelle Endzeit für die aktuelle Endstation dem BigDict hinzugefügt.\n",
    "\n",
    "Durch dieses Verfahren wird für jede Zeile im DataFrame die Leerlaufzeit berechnet, sofern eine vorherige Operation mit derselben Startstation vorhanden ist. Dadurch können Informationen über Leerlaufzeiten zwischen aufeinanderfolgenden Vorgängen mit derselben Startstation erfasst und im DataFrame gespeichert werden."
   ]
  },
  {
   "cell_type": "code",
   "execution_count": 49,
   "metadata": {
    "collapsed": false
   },
   "outputs": [],
   "source": [
    "BigDict = {}  # Initialize an empty dictionary to store station IDs and end times\n",
    "\n",
    "# Iterate through each row in the DataFrame\n",
    "for i, row in metro.iterrows():\n",
    "    current_start_station_id = metro.loc[i, \"start_station_id\"]\n",
    "    current_end_station_id = metro.loc[i, \"end_station_id\"]\n",
    "    current_start_time = metro.loc[i, \"start_time\"]\n",
    "    current_end_time = metro.loc[i, \"end_time\"]\n",
    "\n",
    "    try:\n",
    "        # Check if current start time is greater than the stored end time for the start station ID\n",
    "        if current_start_time > BigDict[str(current_start_station_id)]:\n",
    "            # Calculate idle time as the difference between the current start time and the stored end time\n",
    "            metro.at[i, \"idle_time\"] = current_start_time - BigDict[str(current_start_station_id)]\n",
    "    except KeyError:\n",
    "        # If there is no stored end time for the start station ID, handle the KeyError exception\n",
    "        BigDict[str(current_end_station_id)] = current_end_time\n",
    "\n",
    "    # Store the current end time for the end station ID in BigDict\n",
    "    BigDict[str(current_end_station_id)] = current_end_time"
   ]
  },
  {
   "cell_type": "code",
   "execution_count": 50,
   "metadata": {
    "ExecuteTime": {
     "end_time": "2023-05-18T22:47:03.205761Z",
     "start_time": "2023-05-18T22:46:25.279718Z"
    },
    "collapsed": false
   },
   "outputs": [],
   "source": [
    "metro.to_csv('../Data_Cleanup/outCSV/Metro_Set_with_IdleTime.csv')"
   ]
  }
 ],
 "metadata": {
  "kernelspec": {
   "display_name": "Python 3 (ipykernel)",
   "language": "python",
   "name": "python3"
  },
  "language_info": {
   "codemirror_mode": {
    "name": "ipython",
    "version": 3
   },
   "file_extension": ".py",
   "mimetype": "text/x-python",
   "name": "python",
   "nbconvert_exporter": "python",
   "pygments_lexer": "ipython3",
   "version": "3.11.2"
  }
 },
 "nbformat": 4,
 "nbformat_minor": 5
}
