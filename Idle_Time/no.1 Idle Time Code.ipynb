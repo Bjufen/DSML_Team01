{
 "cells": [
  {
   "attachments": {},
   "cell_type": "markdown",
   "id": "c0485775",
   "metadata": {},
   "source": [
    "-csv datei einlesen\n",
    "-Name ändern\n",
    "- 1sten 5 zeilen ausgeben"
   ]
  },
  {
   "cell_type": "code",
   "execution_count": 1,
   "id": "4ac59096",
   "metadata": {
    "ExecuteTime": {
     "end_time": "2023-05-31T12:49:33.632871Z",
     "start_time": "2023-05-31T12:49:28.893903Z"
    }
   },
   "outputs": [
    {
     "name": "stdout",
     "output_type": "stream",
     "text": [
      "Intel MKL WARNING: Support of Intel(R) Streaming SIMD Extensions 4.2 (Intel(R) SSE4.2) enabled only processors has been deprecated. Intel oneAPI Math Kernel Library 2025.0 will require Intel(R) Advanced Vector Extensions (Intel(R) AVX) instructions.\n",
      "Intel MKL WARNING: Support of Intel(R) Streaming SIMD Extensions 4.2 (Intel(R) SSE4.2) enabled only processors has been deprecated. Intel oneAPI Math Kernel Library 2025.0 will require Intel(R) Advanced Vector Extensions (Intel(R) AVX) instructions.\n"
     ]
    },
    {
     "name": "stderr",
     "output_type": "stream",
     "text": [
      "/var/folders/_v/6rn4knv13fs88z1_74ms8bk40000gn/T/ipykernel_44164/554973988.py:4: DtypeWarning: Columns (10) have mixed types. Specify dtype option on import or set low_memory=False.\n",
      "  metro = pd.read_csv(csv_file)\n"
     ]
    }
   ],
   "source": [
    "import pandas as pd\n",
    "from datetime import datetime, timedelta\n",
    "csv_file = '../Data_Cleanup/outCSV/Clean_Metro_Set.csv'\n",
    "metro = pd.read_csv(csv_file)"
   ]
  },
  {
   "attachments": {},
   "cell_type": "markdown",
   "id": "45891a32",
   "metadata": {},
   "source": [
    "#### Sort Table by Transaction Time\n",
    "Now we are going"
   ]
  },
  {
   "cell_type": "code",
   "execution_count": 2,
   "id": "e0d2b80e",
   "metadata": {
    "ExecuteTime": {
     "end_time": "2023-05-31T12:49:42.330030Z",
     "start_time": "2023-05-31T12:49:41.526771Z"
    }
   },
   "outputs": [],
   "source": [
    "metro['start_time'] = pd.to_datetime(metro['start_time'])\n",
    "\n",
    "metro ['end_time'] = pd.to_datetime(metro['end_time'])\n",
    "\n",
    "metro = metro.sort_values(by='start_time')"
   ]
  },
  {
   "attachments": {},
   "cell_type": "markdown",
   "id": "6de58174",
   "metadata": {},
   "source": [
    "-Neue Spalte hinzufügen für Idle_Time\n",
    "-Alle neuen felder mit \"None\" initialisieren, da alle nicht belegte Idle Time Zellen keinen Einfluss später in der durchschnittlichen Idle Time Berechnung haben sollten.\n"
   ]
  },
  {
   "cell_type": "code",
   "execution_count": 3,
   "id": "df1625c9",
   "metadata": {
    "ExecuteTime": {
     "end_time": "2023-05-31T12:49:49.907130Z",
     "start_time": "2023-05-31T12:49:49.866458Z"
    }
   },
   "outputs": [],
   "source": [
    "metro['idle_time'] = None"
   ]
  },
  {
   "attachments": {},
   "cell_type": "markdown",
   "id": "f200ac5d",
   "metadata": {},
   "source": [
    "Idle Time berechnung"
   ]
  },
  {
   "cell_type": "markdown",
   "source": [
    "Erklärung des folgenden Codes:\n",
    "\n",
    "Die Berechnung der Idle Time basiert auf der Überprüfung der Startzeit (current_start_time) im Vergleich zur Endzeit (stored end time) des vorherigen Vorgangs mit der gleichen Startstation (current_start_station_id).\n",
    "\n",
    "Der Algorithmus durchläuft die Datenzeilen des DataFrames und speichert die Endzeiten (current_end_time) für jede Endstation (current_end_station_id) in einem Dictionary namens BigDict.\n",
    "\n",
    "Für jede Zeile wird überprüft, ob die aktuelle Startzeit größer ist als die gespeicherte Endzeit für die Startstation. Wenn dies der Fall ist, bedeutet dies, dass zwischen den Vorgängen mit der gleichen Startstation eine Leerlaufzeit aufgetreten ist. Die Leerlaufzeit wird berechnet, indem die Startzeit von der gespeicherten Endzeit subtrahiert wird. Das Ergebnis wird dann in der Spalte \"idle_time\" der entsprechenden Zeile des DataFrames gespeichert.\n",
    "\n",
    "Um die Endzeit für eine Startstation abzurufen, wird das Dictionary BigDict verwendet. Wenn eine Startstation zum ersten Mal auftritt und keine gespeicherte Endzeit vorhanden ist, wird ein KeyError ausgelöst. In diesem Fall wird die aktuelle Endzeit für die aktuelle Endstation dem BigDict hinzugefügt.\n",
    "\n",
    "Durch dieses Verfahren wird für jede Zeile im DataFrame die Leerlaufzeit berechnet, sofern eine vorherige Operation mit derselben Startstation vorhanden ist. Dadurch können Informationen über Leerlaufzeiten zwischen aufeinanderfolgenden Vorgängen mit derselben Startstation erfasst und im DataFrame gespeichert werden."
   ],
   "metadata": {
    "collapsed": false
   }
  },
  {
   "cell_type": "code",
   "execution_count": 4,
   "metadata": {
    "collapsed": false,
    "ExecuteTime": {
     "end_time": "2023-05-31T12:52:43.909826Z",
     "start_time": "2023-05-31T12:49:54.692270Z"
    }
   },
   "outputs": [],
   "source": [
    "BigDict = {\n",
    "    # station_id: {\n",
    "    #     bike_id: (transaction_id ,end_time)\n",
    "    # }\n",
    "}\n",
    "\n",
    "for i, row in metro.iterrows():\n",
    "    current_start_time = row[\"start_time\"]\n",
    "    current_end_time = row[\"end_time\"]\n",
    "    current_end_station_id = row[\"end_station_id\"]\n",
    "    current_start_station_id = row[\"start_station_id\"]\n",
    "    current_bike_id = row[\"bike_id\"]\n",
    "    current_index = i\n",
    "\n",
    "    if current_start_station_id in BigDict:\n",
    "        for bike in list(BigDict[current_start_station_id]):  # Create a copy of the keys\n",
    "            idle_time = current_start_time - BigDict[current_start_station_id][bike][1]\n",
    "            metro.at[BigDict[current_start_station_id][bike][0], \"idle_time\"] = idle_time\n",
    "            if idle_time.total_seconds() >= 0:\n",
    "                del BigDict[current_start_station_id][bike]\n",
    "\n",
    "    if current_end_station_id not in BigDict:\n",
    "        BigDict[current_end_station_id] = {current_bike_id: (current_index, current_end_time)}\n",
    "\n",
    "    BigDict[current_end_station_id][current_bike_id] = (current_index, current_end_time)"
   ]
  },
  {
   "cell_type": "code",
   "execution_count": 5,
   "metadata": {
    "collapsed": false,
    "ExecuteTime": {
     "end_time": "2023-05-31T12:53:31.431687Z",
     "start_time": "2023-05-31T12:53:11.203386Z"
    }
   },
   "outputs": [],
   "source": [
    "metro.to_csv('../Data_Cleanup/outCSV/Metro_Set_with_IdleTime.csv')"
   ]
  },
  {
   "cell_type": "code",
   "execution_count": null,
   "outputs": [],
   "source": [],
   "metadata": {
    "collapsed": false
   }
  }
 ],
 "metadata": {
  "kernelspec": {
   "display_name": "Python 3 (ipykernel)",
   "language": "python",
   "name": "python3"
  },
  "language_info": {
   "codemirror_mode": {
    "name": "ipython",
    "version": 3
   },
   "file_extension": ".py",
   "mimetype": "text/x-python",
   "name": "python",
   "nbconvert_exporter": "python",
   "pygments_lexer": "ipython3",
   "version": "3.11.2"
  }
 },
 "nbformat": 4,
 "nbformat_minor": 5
}
