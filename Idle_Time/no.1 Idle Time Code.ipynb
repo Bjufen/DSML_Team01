{
 "cells": [
  {
   "attachments": {},
   "cell_type": "markdown",
   "id": "c0485775",
   "metadata": {},
   "source": [
    "-csv datei einlesen\n",
    "-Name ändern\n",
    "- 1sten 5 zeilen ausgeben"
   ]
  },
  {
   "cell_type": "code",
   "execution_count": 2,
   "id": "4ac59096",
   "metadata": {
    "ExecuteTime": {
     "start_time": "2023-05-31T22:37:28.555071Z",
     "end_time": "2023-05-31T22:37:32.197781Z"
    }
   },
   "outputs": [
    {
     "data": {
      "text/plain": "start_time           datetime64[ns]\nend_time             datetime64[ns]\nstart_station_id              int64\nstart_station_lat           float64\nstart_station_lon           float64\nend_station_id                int64\nend_station_lat             float64\nend_station_lon             float64\nbike_id                      object\ndtype: object"
     },
     "execution_count": 2,
     "metadata": {},
     "output_type": "execute_result"
    }
   ],
   "source": [
    "import pandas as pd\n",
    "from datetime import datetime, timedelta\n",
    "csv_file = '../Data_Cleanup/outCSV/Clean_Metro_Set.csv'\n",
    "metro = pd.read_csv(csv_file, parse_dates= ['start_time','end_time'], low_memory=False, index_col= 0)\n",
    "metro.dtypes"
   ]
  },
  {
   "attachments": {},
   "cell_type": "markdown",
   "id": "45891a32",
   "metadata": {},
   "source": [
    "#### Sort Table by Transaction Time\n",
    "Now we are going"
   ]
  },
  {
   "cell_type": "code",
   "execution_count": 3,
   "id": "e0d2b80e",
   "metadata": {
    "ExecuteTime": {
     "start_time": "2023-05-31T22:38:52.264800Z",
     "end_time": "2023-05-31T22:38:52.612779Z"
    }
   },
   "outputs": [
    {
     "data": {
      "text/plain": "start_time           datetime64[ns]\nend_time             datetime64[ns]\nstart_station_id              int64\nstart_station_lat           float64\nstart_station_lon           float64\nend_station_id                int64\nend_station_lat             float64\nend_station_lon             float64\nbike_id                      object\ndtype: object"
     },
     "execution_count": 3,
     "metadata": {},
     "output_type": "execute_result"
    }
   ],
   "source": [
    "metro['start_time'] = pd.to_datetime(metro['start_time'])\n",
    "\n",
    "metro ['end_time'] = pd.to_datetime(metro['end_time'])\n",
    "\n",
    "metro = metro.sort_values(by='start_time')\n",
    "metro.dtypes"
   ]
  },
  {
   "attachments": {},
   "cell_type": "markdown",
   "id": "6de58174",
   "metadata": {},
   "source": [
    "-Neue Spalte hinzufügen für Idle_Time\n",
    "-Alle neuen felder mit \"None\" initialisieren, da alle nicht belegte Idle Time Zellen keinen Einfluss später in der durchschnittlichen Idle Time Berechnung haben sollten.\n"
   ]
  },
  {
   "cell_type": "code",
   "execution_count": 4,
   "id": "df1625c9",
   "metadata": {
    "ExecuteTime": {
     "start_time": "2023-05-31T22:38:55.676282Z",
     "end_time": "2023-05-31T22:38:55.693257Z"
    }
   },
   "outputs": [],
   "source": [
    "metro['idle_time'] = None"
   ]
  },
  {
   "attachments": {},
   "cell_type": "markdown",
   "id": "f200ac5d",
   "metadata": {},
   "source": [
    "Idle Time berechnung"
   ]
  },
  {
   "cell_type": "markdown",
   "source": [
    "Erklärung des folgenden Codes:\n",
    "\n",
    "Die Berechnung der Idle Time basiert auf der Überprüfung der Startzeit (current_start_time) im Vergleich zur Endzeit (stored end time) des vorherigen Vorgangs mit der gleichen Startstation (current_start_station_id).\n",
    "\n",
    "Der Algorithmus durchläuft die Datenzeilen des DataFrames und speichert die Endzeiten (current_end_time) für jede Endstation (current_end_station_id) in einem Dictionary namens BigDict.\n",
    "\n",
    "Für jede Zeile wird überprüft, ob die aktuelle Startzeit größer ist als die gespeicherte Endzeit für die Startstation. Wenn dies der Fall ist, bedeutet dies, dass zwischen den Vorgängen mit der gleichen Startstation eine Leerlaufzeit aufgetreten ist. Die Leerlaufzeit wird berechnet, indem die Startzeit von der gespeicherten Endzeit subtrahiert wird. Das Ergebnis wird dann in der Spalte \"idle_time\" der entsprechenden Zeile des DataFrames gespeichert.\n",
    "\n",
    "Um die Endzeit für eine Startstation abzurufen, wird das Dictionary BigDict verwendet. Wenn eine Startstation zum ersten Mal auftritt und keine gespeicherte Endzeit vorhanden ist, wird ein KeyError ausgelöst. In diesem Fall wird die aktuelle Endzeit für die aktuelle Endstation dem BigDict hinzugefügt.\n",
    "\n",
    "Durch dieses Verfahren wird für jede Zeile im DataFrame die Leerlaufzeit berechnet, sofern eine vorherige Operation mit derselben Startstation vorhanden ist. Dadurch können Informationen über Leerlaufzeiten zwischen aufeinanderfolgenden Vorgängen mit derselben Startstation erfasst und im DataFrame gespeichert werden."
   ],
   "metadata": {
    "collapsed": false
   }
  },
  {
   "cell_type": "code",
   "execution_count": 5,
   "metadata": {
    "collapsed": false,
    "ExecuteTime": {
     "start_time": "2023-05-31T22:39:01.213363Z",
     "end_time": "2023-05-31T22:42:02.900982Z"
    }
   },
   "outputs": [],
   "source": [
    "BigDict = {\n",
    "    # station_id: {\n",
    "    #     bike_id: (transaction_id ,end_time)\n",
    "    # }\n",
    "}\n",
    "\n",
    "for i, row in metro.iterrows():\n",
    "    current_start_time = row[\"start_time\"]\n",
    "    current_end_time = row[\"end_time\"]\n",
    "    current_end_station_id = row[\"end_station_id\"]\n",
    "    current_start_station_id = row[\"start_station_id\"]\n",
    "    current_bike_id = row[\"bike_id\"]\n",
    "    current_index = i\n",
    "\n",
    "    if current_start_station_id in BigDict:\n",
    "        for bike in list(BigDict[current_start_station_id]):  # Create a copy of the keys\n",
    "            idle_time = current_start_time - BigDict[current_start_station_id][bike][1]\n",
    "            metro.at[BigDict[current_start_station_id][bike][0], \"idle_time\"] = idle_time\n",
    "            if idle_time.total_seconds() >= 0:\n",
    "                del BigDict[current_start_station_id][bike]\n",
    "\n",
    "    if current_end_station_id not in BigDict:\n",
    "        BigDict[current_end_station_id] = {current_bike_id: (current_index, current_end_time)}\n",
    "\n",
    "    BigDict[current_end_station_id][current_bike_id] = (current_index, current_end_time)\n"
   ]
  },
  {
   "cell_type": "code",
   "execution_count": 5,
   "metadata": {
    "collapsed": false,
    "ExecuteTime": {
     "start_time": "2023-05-31T17:52:52.660870Z",
     "end_time": "2023-05-31T17:53:09.020652Z"
    }
   },
   "outputs": [],
   "source": [
    "metro.to_csv('../Data_Cleanup/outCSV/Metro_Set_with_IdleTime.csv')"
   ]
  },
  {
   "cell_type": "code",
   "execution_count": 5,
   "outputs": [],
   "source": [],
   "metadata": {
    "collapsed": false,
    "ExecuteTime": {
     "start_time": "2023-05-31T17:53:09.022565Z",
     "end_time": "2023-05-31T17:53:09.037093Z"
    }
   }
  }
 ],
 "metadata": {
  "kernelspec": {
   "display_name": "Python 3 (ipykernel)",
   "language": "python",
   "name": "python3"
  },
  "language_info": {
   "codemirror_mode": {
    "name": "ipython",
    "version": 3
   },
   "file_extension": ".py",
   "mimetype": "text/x-python",
   "name": "python",
   "nbconvert_exporter": "python",
   "pygments_lexer": "ipython3",
   "version": "3.11.2"
  }
 },
 "nbformat": 4,
 "nbformat_minor": 5
}
