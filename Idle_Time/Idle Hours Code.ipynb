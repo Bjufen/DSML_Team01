{
 "cells": [
  {
   "cell_type": "code",
   "execution_count": 12,
   "metadata": {},
   "outputs": [
    {
     "name": "stderr",
     "output_type": "stream",
     "text": [
      "C:\\Users\\moham\\AppData\\Local\\Temp\\ipykernel_12492\\2470059301.py:4: DtypeWarning: Columns (11) have mixed types. Specify dtype option on import or set low_memory=False.\n",
      "  metro = pd.read_csv(csv_file)\n"
     ]
    }
   ],
   "source": [
    "import pandas as pd\n",
    "from datetime import datetime, timedelta\n",
    "csv_file = '../Data_Cleanup/outCSV/Metro_Set_with_IdleTime.csv'\n",
    "metro = pd.read_csv(csv_file)"
   ]
  },
  {
   "cell_type": "code",
   "execution_count": 13,
   "metadata": {},
   "outputs": [],
   "source": [
    "metro['start_time'] = pd.to_datetime(metro['start_time'])\n",
    "\n",
    "metro ['end_time'] = pd.to_datetime(metro['end_time'])\n",
    "\n",
    "metro = metro.sort_values(by='start_time')"
   ]
  },
  {
   "cell_type": "code",
   "execution_count": 14,
   "metadata": {},
   "outputs": [],
   "source": [
    "#Create the corresponding columns\n",
    "metro[\"morgens\"] = 0\n",
    "metro[\"vormittags\"] = 0\n",
    "metro[\"mittags\"] = 0\n",
    "metro[\"nachmittags\"]=0\n",
    "metro[\"abends\"]=0\n",
    "metro[\"nachts\"]=0\n",
    "\n",
    "#set the start and end of each day time\n",
    "morgens = range(5,9)\n",
    "vormittags = range(9,12)\n",
    "mittags = range(12,15)\n",
    "nachmittags = range(15,19)\n",
    "abends = range(19, 23)\n",
    "nachts = [23,0,1,2,3,4]\n"
   ]
  },
  {
   "cell_type": "code",
   "execution_count": 15,
   "metadata": {},
   "outputs": [],
   "source": [
    "#Make sure to change the \"idle_time\" to a timedelta object, so we can use .totalseconds() later\n",
    "metro[\"idle_time\"] = pd.to_timedelta(metro[\"idle_time\"])"
   ]
  },
  {
   "cell_type": "code",
   "execution_count": 17,
   "metadata": {},
   "outputs": [],
   "source": [
    "#This list will serve as string provider that we can insert later, to access the proper column\n",
    "TagesZeiten = [\"morgens\", \"vormittags\", \"mittags\", \"nachmittags\", \"abends\", \"nachts\"]\n",
    "#This list will serve to provide the start time of each day time, so we know when to change columns\n",
    "Intervall_starts = [5,9,12,15,19,23]\n",
    "\n",
    "\n",
    "# Iterate through each row in the DataFrame\n",
    "for i, row in metro.iterrows():\n",
    "    #we only need the starting time hour\n",
    "    start_hour = row[\"start_time\"].hour\n",
    "    # and we need to know the duration (idle time) we need to look back\n",
    "    idle_time = row[\"idle_time\"]\n",
    "    # make sure to skip any rows with no idle times, since they have 0s in the day times columns\n",
    "    if row[\"idle_time\"] is None:\n",
    "        continue\n",
    "    try:\n",
    "        dauer = float(idle_time.total_seconds() / 3600)\n",
    "        if start_hour in morgens:\n",
    "            index = 0\n",
    "        elif start_hour in vormittags:\n",
    "            index = 1\n",
    "        elif start_hour in mittags:\n",
    "            index = 2\n",
    "        elif start_hour in nachmittags:\n",
    "            index = 3\n",
    "        elif start_hour in abends:\n",
    "            index = 4\n",
    "        elif start_hour in nachts:\n",
    "            index = 5\n",
    "\n",
    "        while dauer >0 and index > -6:\n",
    "            metro.at[i, TagesZeiten[index]] = 1\n",
    "            temp = abs(Intervall_starts[index]- start_hour)\n",
    "\n",
    "            dauer -= temp\n",
    "            start_hour -= temp\n",
    "            index -= 1\n",
    "    except ValueError:\n",
    "        continue\n",
    "\n"
   ]
  },
  {
   "cell_type": "code",
   "execution_count": 18,
   "metadata": {},
   "outputs": [],
   "source": [
    "metro.to_csv('../Data_Cleanup/outCSV/Metro_Set_DayTimes.csv')"
   ]
  }
 ],
 "metadata": {
  "kernelspec": {
   "display_name": "DSML",
   "language": "python",
   "name": "python3"
  },
  "language_info": {
   "codemirror_mode": {
    "name": "ipython",
    "version": 3
   },
   "file_extension": ".py",
   "mimetype": "text/x-python",
   "name": "python",
   "nbconvert_exporter": "python",
   "pygments_lexer": "ipython3",
   "version": "3.11.2"
  },
  "orig_nbformat": 4
 },
 "nbformat": 4,
 "nbformat_minor": 2
}
