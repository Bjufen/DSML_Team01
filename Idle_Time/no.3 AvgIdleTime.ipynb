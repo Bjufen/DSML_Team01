{
 "cells": [
  {
   "cell_type": "code",
   "execution_count": 1,
   "metadata": {
    "ExecuteTime": {
     "start_time": "2023-07-21T23:04:57.080703Z",
     "end_time": "2023-07-21T23:05:01.085380Z"
    }
   },
   "outputs": [
    {
     "name": "stderr",
     "output_type": "stream",
     "text": [
      "C:\\Users\\yusuf\\AppData\\Local\\Temp\\ipykernel_118128\\2787380126.py:4: DtypeWarning: Columns (10) have mixed types. Specify dtype option on import or set low_memory=False.\n",
      "  metro = pd.read_csv(csv_file, index_col=0)\n"
     ]
    }
   ],
   "source": [
    "import pandas as pd\n",
    "from datetime import datetime, timedelta\n",
    "csv_file = '../Data_Cleanup/outCSV/Metro_Set_DayAndDayTimes.csv'\n",
    "metro = pd.read_csv(csv_file, index_col=0)"
   ]
  },
  {
   "cell_type": "code",
   "execution_count": 2,
   "metadata": {
    "ExecuteTime": {
     "start_time": "2023-07-21T23:05:01.088385Z",
     "end_time": "2023-07-21T23:05:06.090494Z"
    }
   },
   "outputs": [],
   "source": [
    "metro[\"idle_time\"] = pd.to_timedelta(metro[\"idle_time\"])"
   ]
  },
  {
   "cell_type": "code",
   "execution_count": 3,
   "metadata": {
    "ExecuteTime": {
     "start_time": "2023-07-21T23:05:06.093995Z",
     "end_time": "2023-07-21T23:05:06.131081Z"
    }
   },
   "outputs": [],
   "source": [
    "mean_idle_time = metro.groupby(\"end_station_id\")[\"idle_time\"].mean()\n"
   ]
  },
  {
   "cell_type": "code",
   "execution_count": 4,
   "metadata": {
    "ExecuteTime": {
     "start_time": "2023-07-21T23:05:06.125563Z",
     "end_time": "2023-07-21T23:05:06.416750Z"
    }
   },
   "outputs": [],
   "source": [
    "count_morning = metro.groupby(\"end_station_id\")[\"morgens\"].sum()\n",
    "count_vormittag = metro.groupby(\"end_station_id\")[\"vormittags\"].sum()\n",
    "count_midday = metro.groupby(\"end_station_id\")[\"mittags\"].sum()\n",
    "count_afternoon = metro.groupby(\"end_station_id\")[\"nachmittags\"].sum()\n",
    "count_evening = metro.groupby(\"end_station_id\")[\"abends\"].sum()\n",
    "count_night = metro.groupby(\"end_station_id\")[\"nachts\"].sum()\n",
    "count_mondays = metro.groupby(\"end_station_id\")[\"monday\"].sum()\n",
    "count_tuesdays = metro.groupby(\"end_station_id\")[\"tuesday\"].sum()\n",
    "count_wednesdays = metro.groupby(\"end_station_id\")[\"wednesday\"].sum()\n",
    "count_thursdays = metro.groupby(\"end_station_id\")[\"thursday\"].sum()\n",
    "count_fridays = metro.groupby(\"end_station_id\")[\"friday\"].sum()\n",
    "count_saturdays = metro.groupby(\"end_station_id\")[\"saturday\"].sum()\n",
    "count_sundays = metro.groupby(\"end_station_id\")[\"sunday\"].sum()"
   ]
  },
  {
   "cell_type": "code",
   "execution_count": 5,
   "metadata": {
    "ExecuteTime": {
     "start_time": "2023-07-21T23:05:06.418751Z",
     "end_time": "2023-07-21T23:05:06.637439Z"
    },
    "collapsed": false
   },
   "outputs": [],
   "source": [
    "station_lat = metro.groupby(\"end_station_id\")[\"end_station_lat\"].unique()\n",
    "station_lon = metro.groupby(\"end_station_id\")[\"end_station_lon\"].unique()"
   ]
  },
  {
   "cell_type": "code",
   "execution_count": 6,
   "metadata": {
    "ExecuteTime": {
     "start_time": "2023-07-21T23:05:06.639435Z",
     "end_time": "2023-07-21T23:05:06.650956Z"
    },
    "collapsed": false
   },
   "outputs": [],
   "source": [
    "result = pd.concat([mean_idle_time, count_morning, count_vormittag, count_midday, count_afternoon, count_evening, count_night, count_mondays, count_tuesdays, count_wednesdays, count_thursdays, count_fridays, count_saturdays, count_sundays, station_lat, station_lon], axis=1)\n",
    "result = result.dropna(subset=[\"idle_time\"])"
   ]
  },
  {
   "cell_type": "code",
   "execution_count": 7,
   "metadata": {
    "ExecuteTime": {
     "start_time": "2023-07-21T23:05:06.653673Z",
     "end_time": "2023-07-21T23:05:06.712041Z"
    },
    "collapsed": false
   },
   "outputs": [],
   "source": [
    "result.to_csv(\"../Data_Cleanup/outCSV/Station_ID_with_AvgIdleDaytimesDays_and_lonlat.csv\")"
   ]
  }
 ],
 "metadata": {
  "kernelspec": {
   "display_name": "DSML",
   "language": "python",
   "name": "python3"
  },
  "language_info": {
   "codemirror_mode": {
    "name": "ipython",
    "version": 3
   },
   "file_extension": ".py",
   "mimetype": "text/x-python",
   "name": "python",
   "nbconvert_exporter": "python",
   "pygments_lexer": "ipython3",
   "version": "3.11.2"
  },
  "orig_nbformat": 4
 },
 "nbformat": 4,
 "nbformat_minor": 2
}
