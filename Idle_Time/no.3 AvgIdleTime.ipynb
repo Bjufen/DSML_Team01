{
 "cells": [
  {
   "cell_type": "code",
   "execution_count": 1,
   "metadata": {
    "ExecuteTime": {
     "end_time": "2023-05-31T12:57:04.391742Z",
     "start_time": "2023-05-31T12:56:58.360211Z"
    }
   },
   "outputs": [
    {
     "name": "stdout",
     "output_type": "stream",
     "text": [
      "Intel MKL WARNING: Support of Intel(R) Streaming SIMD Extensions 4.2 (Intel(R) SSE4.2) enabled only processors has been deprecated. Intel oneAPI Math Kernel Library 2025.0 will require Intel(R) Advanced Vector Extensions (Intel(R) AVX) instructions.\n",
      "Intel MKL WARNING: Support of Intel(R) Streaming SIMD Extensions 4.2 (Intel(R) SSE4.2) enabled only processors has been deprecated. Intel oneAPI Math Kernel Library 2025.0 will require Intel(R) Advanced Vector Extensions (Intel(R) AVX) instructions.\n"
     ]
    },
    {
     "name": "stderr",
     "output_type": "stream",
     "text": [
      "/var/folders/_v/6rn4knv13fs88z1_74ms8bk40000gn/T/ipykernel_44789/528872180.py:4: DtypeWarning: Columns (12) have mixed types. Specify dtype option on import or set low_memory=False.\n",
      "  metro = pd.read_csv(csv_file)\n"
     ]
    }
   ],
   "source": [
    "import pandas as pd\n",
    "from datetime import datetime, timedelta\n",
    "csv_file = '../Data_Cleanup/outCSV/Metro_Set_DayTimes.csv'\n",
    "metro = pd.read_csv(csv_file)"
   ]
  },
  {
   "cell_type": "code",
   "execution_count": 2,
   "metadata": {
    "ExecuteTime": {
     "end_time": "2023-05-31T12:57:15.598855Z",
     "start_time": "2023-05-31T12:57:15.409221Z"
    }
   },
   "outputs": [],
   "source": [
    "metro[\"idle_time\"] = pd.to_timedelta(metro[\"idle_time\"])"
   ]
  },
  {
   "cell_type": "code",
   "execution_count": 3,
   "metadata": {
    "ExecuteTime": {
     "end_time": "2023-05-31T12:57:16.556274Z",
     "start_time": "2023-05-31T12:57:16.501472Z"
    }
   },
   "outputs": [],
   "source": [
    "mean_idle_time = metro.groupby(\"end_station_id\")[\"idle_time\"].mean()\n"
   ]
  },
  {
   "cell_type": "code",
   "execution_count": 25,
   "metadata": {
    "ExecuteTime": {
     "end_time": "2023-05-31T13:18:29.655122Z",
     "start_time": "2023-05-31T13:18:29.457537Z"
    }
   },
   "outputs": [],
   "source": [
    "count_morning = metro.groupby(\"end_station_id\")[\"morgens\"].sum()\n",
    "count_vormittag = metro.groupby(\"end_station_id\")[\"vormittags\"].sum()\n",
    "count_midday = metro.groupby(\"end_station_id\")[\"mittags\"].sum()\n",
    "count_afternoon = metro.groupby(\"end_station_id\")[\"nachmittags\"].sum()\n",
    "count_evening = metro.groupby(\"end_station_id\")[\"abends\"].sum()\n",
    "count_night = metro.groupby(\"end_station_id\")[\"nachts\"].sum()"
   ]
  },
  {
   "cell_type": "code",
   "execution_count": 26,
   "outputs": [],
   "source": [
    "station_lat = metro.groupby(\"end_station_id\")[\"end_station_lat\"].unique()\n",
    "station_lon = metro.groupby(\"end_station_id\")[\"end_station_lon\"].unique()"
   ],
   "metadata": {
    "collapsed": false,
    "ExecuteTime": {
     "end_time": "2023-05-31T13:18:30.077392Z",
     "start_time": "2023-05-31T13:18:29.786612Z"
    }
   }
  },
  {
   "cell_type": "code",
   "execution_count": 30,
   "outputs": [
    {
     "data": {
      "text/plain": "                               idle_time  morgens  vormittags  mittags  \\\nend_station_id                                                           \n3000           0 days 09:56:03.016100094     7536        8252     8516   \n3005           0 days 03:56:49.251504815    16512       15636    16516   \n3006           0 days 03:09:40.719910065     4338        6389     7605   \n3007           0 days 04:35:17.264172176     6075        5544     4385   \n3008           0 days 03:53:11.998255735     4694        4599     5094   \n\n                nachmittags  abends  nachts end_station_lat end_station_lon  \nend_station_id                                                               \n3000                   8279    4634    6799       [34.0485]   [-118.258537]  \n3005                  18580    9257   11909       [34.0485]   [-118.258537]  \n3006                   9245    5245    3418      [34.04554]   [-118.256668]  \n3007                   3710    1515    4125      [34.05048]   [-118.254593]  \n3008                   5456    3011    3420     [34.046612]   [-118.262733]  ",
      "text/html": "<div>\n<style scoped>\n    .dataframe tbody tr th:only-of-type {\n        vertical-align: middle;\n    }\n\n    .dataframe tbody tr th {\n        vertical-align: top;\n    }\n\n    .dataframe thead th {\n        text-align: right;\n    }\n</style>\n<table border=\"1\" class=\"dataframe\">\n  <thead>\n    <tr style=\"text-align: right;\">\n      <th></th>\n      <th>idle_time</th>\n      <th>morgens</th>\n      <th>vormittags</th>\n      <th>mittags</th>\n      <th>nachmittags</th>\n      <th>abends</th>\n      <th>nachts</th>\n      <th>end_station_lat</th>\n      <th>end_station_lon</th>\n    </tr>\n    <tr>\n      <th>end_station_id</th>\n      <th></th>\n      <th></th>\n      <th></th>\n      <th></th>\n      <th></th>\n      <th></th>\n      <th></th>\n      <th></th>\n      <th></th>\n    </tr>\n  </thead>\n  <tbody>\n    <tr>\n      <th>3000</th>\n      <td>0 days 09:56:03.016100094</td>\n      <td>7536</td>\n      <td>8252</td>\n      <td>8516</td>\n      <td>8279</td>\n      <td>4634</td>\n      <td>6799</td>\n      <td>[34.0485]</td>\n      <td>[-118.258537]</td>\n    </tr>\n    <tr>\n      <th>3005</th>\n      <td>0 days 03:56:49.251504815</td>\n      <td>16512</td>\n      <td>15636</td>\n      <td>16516</td>\n      <td>18580</td>\n      <td>9257</td>\n      <td>11909</td>\n      <td>[34.0485]</td>\n      <td>[-118.258537]</td>\n    </tr>\n    <tr>\n      <th>3006</th>\n      <td>0 days 03:09:40.719910065</td>\n      <td>4338</td>\n      <td>6389</td>\n      <td>7605</td>\n      <td>9245</td>\n      <td>5245</td>\n      <td>3418</td>\n      <td>[34.04554]</td>\n      <td>[-118.256668]</td>\n    </tr>\n    <tr>\n      <th>3007</th>\n      <td>0 days 04:35:17.264172176</td>\n      <td>6075</td>\n      <td>5544</td>\n      <td>4385</td>\n      <td>3710</td>\n      <td>1515</td>\n      <td>4125</td>\n      <td>[34.05048]</td>\n      <td>[-118.254593]</td>\n    </tr>\n    <tr>\n      <th>3008</th>\n      <td>0 days 03:53:11.998255735</td>\n      <td>4694</td>\n      <td>4599</td>\n      <td>5094</td>\n      <td>5456</td>\n      <td>3011</td>\n      <td>3420</td>\n      <td>[34.046612]</td>\n      <td>[-118.262733]</td>\n    </tr>\n  </tbody>\n</table>\n</div>"
     },
     "execution_count": 30,
     "metadata": {},
     "output_type": "execute_result"
    }
   ],
   "source": [
    "result = pd.concat([mean_idle_time, count_morning, count_vormittag, count_midday, count_afternoon, count_evening, count_night, station_lat, station_lon], axis=1)\n",
    "result.head()"
   ],
   "metadata": {
    "collapsed": false,
    "ExecuteTime": {
     "end_time": "2023-05-31T13:19:18.890338Z",
     "start_time": "2023-05-31T13:19:18.875143Z"
    }
   }
  },
  {
   "cell_type": "code",
   "execution_count": 29,
   "outputs": [],
   "source": [
    "result.to_csv(\"../Data_Cleanup/outCSV/Station_ID_with_avgidle_and_days_and_lonlat.csv\")"
   ],
   "metadata": {
    "collapsed": false,
    "ExecuteTime": {
     "end_time": "2023-05-31T13:19:04.634937Z",
     "start_time": "2023-05-31T13:19:04.550877Z"
    }
   }
  }
 ],
 "metadata": {
  "kernelspec": {
   "display_name": "DSML",
   "language": "python",
   "name": "python3"
  },
  "language_info": {
   "codemirror_mode": {
    "name": "ipython",
    "version": 3
   },
   "file_extension": ".py",
   "mimetype": "text/x-python",
   "name": "python",
   "nbconvert_exporter": "python",
   "pygments_lexer": "ipython3",
   "version": "3.11.2"
  },
  "orig_nbformat": 4
 },
 "nbformat": 4,
 "nbformat_minor": 2
}
