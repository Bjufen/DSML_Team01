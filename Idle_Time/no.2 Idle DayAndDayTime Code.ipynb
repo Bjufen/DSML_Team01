{
 "cells": [
  {
   "cell_type": "code",
   "execution_count": null,
   "metadata": {
    "ExecuteTime": {
     "end_time": "2023-05-31T12:54:04.464957Z",
     "start_time": "2023-05-31T12:53:58.371630Z"
    }
   },
   "outputs": [],
   "source": [
    "import pandas as pd\n",
    "from datetime import datetime, timedelta\n",
    "csv_file = '../Data_Cleanup/outCSV/Metro_Set_with_IdleTime.csv'\n",
    "metro = pd.read_csv(csv_file, index_col=0)"
   ]
  },
  {
   "cell_type": "code",
   "execution_count": null,
   "metadata": {
    "ExecuteTime": {
     "end_time": "2023-05-31T12:54:08.608870Z",
     "start_time": "2023-05-31T12:54:06.562779Z"
    }
   },
   "outputs": [],
   "source": [
    "metro['start_time'] = pd.to_datetime(metro['start_time'])\n",
    "\n",
    "metro ['end_time'] = pd.to_datetime(metro['end_time'])\n",
    "\n",
    "metro = metro.sort_values(by='start_time')"
   ]
  },
  {
   "cell_type": "code",
   "execution_count": null,
   "metadata": {
    "ExecuteTime": {
     "end_time": "2023-05-31T12:54:10.160256Z",
     "start_time": "2023-05-31T12:54:10.090598Z"
    }
   },
   "outputs": [],
   "source": [
    "#Create the corresponding columns\n",
    "metro[\"morgens\"] = 0\n",
    "metro[\"vormittags\"] = 0\n",
    "metro[\"mittags\"] = 0\n",
    "metro[\"nachmittags\"]=0\n",
    "metro[\"abends\"]=0\n",
    "metro[\"nachts\"]=0\n",
    "\n",
    "#set the start and end of each day time\n",
    "morgens = range(5,9)\n",
    "vormittags = range(9,12)\n",
    "mittags = range(12,15)\n",
    "nachmittags = range(15,19)\n",
    "abends = range(19, 23)\n",
    "nachts = [23,0,1,2,3,4]\n",
    "\n",
    "#This list will serve as string provider that we can insert later, to access the proper column\n",
    "TagesZeiten = [\"morgens\", \"vormittags\", \"mittags\", \"nachmittags\", \"abends\", \"nachts\"]\n",
    "#This list will serve to provide the start time of each day time, so we know when to change columns\n",
    "Intervall_starts = [5,9,12,15,19,23]\n"
   ]
  },
  {
   "cell_type": "code",
   "execution_count": null,
   "metadata": {},
   "outputs": [],
   "source": [
    "metro[\"monday\"] = 0\n",
    "metro[\"tuesday\"] = 0\n",
    "metro[\"wednesday\"] = 0\n",
    "metro[\"thursday\"] = 0\n",
    "metro[\"friday\"] = 0\n",
    "metro[\"saturday\"] = 0\n",
    "metro[\"sunday\"] = 0\n",
    "\n",
    "Days = [\"monday\",\"tuesday\",\"wednesday\", \"thursday\",\"friday\",\"saturday\", \"sunday\"]"
   ]
  },
  {
   "cell_type": "code",
   "execution_count": null,
   "metadata": {
    "ExecuteTime": {
     "end_time": "2023-05-31T12:54:17.074721Z",
     "start_time": "2023-05-31T12:54:17.004877Z"
    }
   },
   "outputs": [],
   "source": [
    "#Make sure to change the \"idle_time\" to a timedelta object, so we can use .totalseconds() later\n",
    "metro[\"idle_time\"] = pd.to_timedelta(metro[\"idle_time\"])"
   ]
  },
  {
   "cell_type": "code",
   "execution_count": null,
   "metadata": {
    "ExecuteTime": {
     "end_time": "2023-05-31T12:55:51.416815Z",
     "start_time": "2023-05-31T12:54:19.518513Z"
    }
   },
   "outputs": [],
   "source": [
    "# Iterate through each row in the DataFrame\n",
    "for i, row in metro.iterrows():\n",
    "    end_date = row[\"end_time\"] + row[\"idle_time\"]\n",
    "    #we only need the starting time hour\n",
    "    end_hour = end_date.hour\n",
    "    # and we need to know the duration (idle time) we need to look back\n",
    "    idle_time = row[\"idle_time\"]\n",
    "    # make sure to skip any rows with no idle times, since they have 0s in the day times columns\n",
    "    try:\n",
    "        NumHours = float(idle_time.total_seconds() / 3600)\n",
    "        if end_hour in morgens:\n",
    "            index = 0\n",
    "        elif end_hour in vormittags:\n",
    "            index = 1\n",
    "        elif end_hour in mittags:\n",
    "            index = 2\n",
    "        elif end_hour in nachmittags:\n",
    "            index = 3\n",
    "        elif end_hour in abends:\n",
    "            index = 4\n",
    "        elif end_hour in nachts:\n",
    "            index = 5\n",
    "\n",
    "        while NumHours >0 and index > -6:\n",
    "            metro.at[i, TagesZeiten[index]] = 1\n",
    "            DistanceToIntervallStart = abs(Intervall_starts[index]- end_hour)\n",
    "\n",
    "            NumHours -= DistanceToIntervallStart\n",
    "            end_hour -= DistanceToIntervallStart\n",
    "            index -= 1\n",
    "\n",
    "        NumDays = float(row[\"idle_time\"].total_seconds() / (24 * 60 * 60))\n",
    "\n",
    "        day = end_date.weekday()\n",
    "\n",
    "        while NumDays > 0 and day > -7:\n",
    "            metro.at[i, Days[day]] = 1\n",
    "\n",
    "            NumDays -= 1\n",
    "            day -= 1\n",
    "        \n",
    "    except ValueError:\n",
    "        continue\n",
    "\n"
   ]
  },
  {
   "cell_type": "code",
   "execution_count": null,
   "metadata": {
    "ExecuteTime": {
     "end_time": "2023-05-31T12:56:22.882341Z",
     "start_time": "2023-05-31T12:55:58.116246Z"
    }
   },
   "outputs": [],
   "source": [
    "metro.to_csv('../Data_Cleanup/outCSV/Metro_Set_DayAndDayTimes.csv')"
   ]
  }
 ],
 "metadata": {
  "kernelspec": {
   "display_name": "DSML",
   "language": "python",
   "name": "python3"
  },
  "language_info": {
   "codemirror_mode": {
    "name": "ipython",
    "version": 3
   },
   "file_extension": ".py",
   "mimetype": "text/x-python",
   "name": "python",
   "nbconvert_exporter": "python",
   "pygments_lexer": "ipython3",
   "version": "3.11.2"
  },
  "orig_nbformat": 4
 },
 "nbformat": 4,
 "nbformat_minor": 2
}
