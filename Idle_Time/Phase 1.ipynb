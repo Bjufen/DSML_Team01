{
 "cells": [
  {
   "cell_type": "markdown",
   "id": "c0485775",
   "metadata": {},
   "source": [
    "-csv datei einlesen\n",
    "-Name ändern\n",
    "- 1sten 5 zeilen ausgeben"
   ]
  },
  {
   "cell_type": "code",
   "execution_count": 3,
   "id": "4ac59096",
   "metadata": {
    "ExecuteTime": {
     "start_time": "2023-05-16T22:13:03.589126Z",
     "end_time": "2023-05-16T22:13:05.473829Z"
    }
   },
   "outputs": [
    {
     "name": "stdout",
     "output_type": "stream",
     "text": [
      "   Unnamed: 0  transaction_id           start_time             end_time  \\\n",
      "0           0               0  16/45/00 29-05-2018  17/08/00 29-05-2018   \n",
      "1           1             891  17/12/00 16-08-2019  17/42/00 16-08-2019   \n",
      "2           2            1467  12/22/00 30-01-2019  12/28/00 30-01-2019   \n",
      "3           3            6956  08/23/00 15-05-2018  08/30/00 15-05-2018   \n",
      "4           4           11733  18/30/00 03-11-2018  18/51/00 03-11-2018   \n",
      "\n",
      "   start_station_id  start_station_lat  start_station_lon  end_station_id  \\\n",
      "0              3068            34.0532        -118.250954            3014   \n",
      "1              3068            34.0532        -118.250954            3014   \n",
      "2              3068            34.0532        -118.250954            3014   \n",
      "3              3068            34.0532        -118.250954            3014   \n",
      "4              3068            34.0532        -118.250954            3014   \n",
      "\n",
      "   end_station_lat  end_station_lon bike_id  \n",
      "0         34.05661      -118.237213    5772  \n",
      "1         34.05661      -118.237213   16618  \n",
      "2         34.05661      -118.237213   06358  \n",
      "3         34.05661      -118.237213    6144  \n",
      "4         34.05661      -118.237213    5860  \n"
     ]
    },
    {
     "name": "stderr",
     "output_type": "stream",
     "text": [
      "C:\\Users\\yusuf\\AppData\\Local\\Temp\\ipykernel_53144\\484958322.py:4: DtypeWarning: Columns (10) have mixed types. Specify dtype option on import or set low_memory=False.\n",
      "  metro = pd.read_csv(csv_file)\n"
     ]
    }
   ],
   "source": [
    "import pandas as pd\n",
    "from datetime import datetime, timedelta\n",
    "csv_file = 'MetroSet.csv'\n",
    "metro = pd.read_csv(csv_file)\n",
    "print(metro.head())"
   ]
  },
  {
   "cell_type": "markdown",
   "id": "45891a32",
   "metadata": {},
   "source": [
    "-Tabelle sortieren nach Transaktionszeit"
   ]
  },
  {
   "cell_type": "code",
   "execution_count": 4,
   "id": "e0d2b80e",
   "metadata": {
    "ExecuteTime": {
     "start_time": "2023-05-16T22:13:10.452647Z",
     "end_time": "2023-05-16T22:13:13.800738Z"
    }
   },
   "outputs": [],
   "source": [
    "metro['start_time'] = pd.to_datetime(metro['start_time'], format ='%H/%M/%S %d-%m-%Y')\n",
    "\n",
    "metro ['end_time'] = pd.to_datetime(metro['end_time'], format ='%H/%M/%S %d-%m-%Y')\n",
    "\n",
    "metro = metro.sort_values(by='start_time')"
   ]
  },
  {
   "cell_type": "markdown",
   "id": "6de58174",
   "metadata": {},
   "source": [
    "-Neue Spalte hinzufügen für Idle_Time\n",
    "-Alle neuen felder mit 0 initialisieren\n"
   ]
  },
  {
   "cell_type": "code",
   "execution_count": 5,
   "id": "df1625c9",
   "metadata": {
    "ExecuteTime": {
     "start_time": "2023-05-16T22:13:16.135263Z",
     "end_time": "2023-05-16T22:13:16.150929Z"
    }
   },
   "outputs": [],
   "source": [
    "metro['Idle Time'] = pd.Timedelta(0)"
   ]
  },
  {
   "cell_type": "markdown",
   "id": "f200ac5d",
   "metadata": {},
   "source": [
    "Idle Time berechnung"
   ]
  },
  {
   "cell_type": "code",
   "execution_count": null,
   "id": "93eef835",
   "metadata": {
    "pycharm": {
     "is_executing": true
    }
   },
   "outputs": [],
   "source": [
    "# Iteration über jede Zeile in den Daten\n",
    "\n",
    "for i in range(len(metro)):\n",
    "\n",
    "    # Aktuelle Station ID\n",
    "\n",
    "    current_station_id =metro.loc[i, 'start_station_id']\n",
    "\n",
    "    \n",
    "\n",
    "    # Filtern der vorherigen Transaktionen mit passender end_station_id\n",
    "\n",
    "    previous_transactions =metro[(metro['end_station_id'] == current_station_id) & (metro.index < i)]\n",
    "\n",
    "    \n",
    "\n",
    "    if len(previous_transactions) > 0:\n",
    "\n",
    "        # Suche nach der letzten passenden Transaktion\n",
    "\n",
    "        last_transaction_index = previous_transactions.index.max()\n",
    "\n",
    "        last_transaction_end_station_id =metro.loc[last_transaction_index, 'end_station_id']\n",
    "\n",
    "        \n",
    "\n",
    "        # Berechnung der Idle Time nur wenn end_station_id = start_station_id\n",
    "\n",
    "        if last_transaction_end_station_id ==metro.loc[i, 'start_station_id']:\n",
    "\n",
    "            last_transaction_end_time =metro.loc[last_transaction_index, 'end_time']\n",
    "\n",
    "            idle_time =metro.loc[i, 'start_time'] - last_transaction_end_time\n",
    "\n",
    "            # Korrektur der Zeitüberschreitung über den Tag hinweg\n",
    "\n",
    "            if idle_time.total_seconds() < 0:\n",
    "\n",
    "                idle_time += pd.Timedelta(days=1)\n",
    "\n",
    "            # Aktualisierung der Idle Time-Spalte\n",
    "\n",
    "            metro.at[i, 'Idle Time'] = idle_time\n",
    "\n"
   ]
  },
  {
   "cell_type": "code",
   "execution_count": null,
   "id": "2131cb55",
   "metadata": {},
   "outputs": [],
   "source": [
    "print(metro.head())"
   ]
  }
 ],
 "metadata": {
  "kernelspec": {
   "display_name": "Python 3 (ipykernel)",
   "language": "python",
   "name": "python3"
  },
  "language_info": {
   "codemirror_mode": {
    "name": "ipython",
    "version": 3
   },
   "file_extension": ".py",
   "mimetype": "text/x-python",
   "name": "python",
   "nbconvert_exporter": "python",
   "pygments_lexer": "ipython3",
   "version": "3.10.9"
  }
 },
 "nbformat": 4,
 "nbformat_minor": 5
}
